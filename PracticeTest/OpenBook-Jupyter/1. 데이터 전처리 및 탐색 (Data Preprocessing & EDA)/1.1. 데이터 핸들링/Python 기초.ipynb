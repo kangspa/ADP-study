{
 "cells": [
  {
   "cell_type": "markdown",
   "id": "41899219-0401-4a1d-ad5a-1e07bc849b27",
   "metadata": {},
   "source": [
    "### 1. List\n",
    "- 순서가 있고, 중복을 허용하며, 수정 가능한(mutable) 원소들의 모음\n",
    "- **용도** : 데이터의 순차적인 저장, 정렬, 필터링 등 순서가 중요한 데이터를 다룰 때 사용\n",
    "- **주의사항** : 리스트 크기가 커지면, 원소 추가 삭제 시 성능 저하 발생"
   ]
  },
  {
   "cell_type": "code",
   "execution_count": 1,
   "id": "f7533dd3-dd8a-4074-86af-e8eade855471",
   "metadata": {},
   "outputs": [
    {
     "name": "stdout",
     "output_type": "stream",
     "text": [
      "1\n",
      "[2, 3]\n"
     ]
    }
   ],
   "source": [
    "# 리스트 생성\n",
    "my_list = [1, 2, 3, \"apple\", 3.14]\n",
    "\n",
    "# 원소 추가\n",
    "my_list.append(\"banana\") # [1, 2, 3, 'apple', 3.14, 'banana']\n",
    "\n",
    "# 원소 접근 (인덱싱)\n",
    "print(my_list[0]) # 1\n",
    "\n",
    "# 슬라이싱\n",
    "print(my_list[1:3]) # [2, 3]\n",
    "\n",
    "# 원소 삭제\n",
    "my_list.remove(3) # [1, 2, 'apple', 3.14, 'banana']\n",
    "\n",
    "# 리스트 컴프리헨션 (List Comprehension)\n",
    "squares = [x**2 for x in range(5)] # [0, 1, 4, 9, 16]"
   ]
  },
  {
   "cell_type": "markdown",
   "id": "34e3b3b3-e3f5-4cb4-8320-e502fad4033f",
   "metadata": {},
   "source": [
    "### 2. Dictionary\n",
    "- Key-Value 쌍으로 이루어진 순서가 없는(Python 3.7+ 부터는 입력 순서 유지) 데이터 구조\n",
    "- **용도**: Key를 이용해 데이터에 빠르게 접근해야 할 때 사용, JSON 형식 데이터 다룰 때 유용\n",
    "- **주의사항**: Key는 해시 가능(hashable), 고유 → 리스트나 다른 딕셔너리처럼 변경 가능한 객체는 Key가 될 수 없음"
   ]
  },
  {
   "cell_type": "code",
   "execution_count": 2,
   "id": "9c7065a6-eef4-41ff-90bd-01853f7c6409",
   "metadata": {},
   "outputs": [
    {
     "name": "stdout",
     "output_type": "stream",
     "text": [
      "Alice\n",
      "USA\n",
      "name: Alice\n",
      "age: 26\n",
      "email: alice@example.com\n"
     ]
    }
   ],
   "source": [
    "# 딕셔너리 생성\n",
    "my_dict = {\"name\": \"Alice\", \"age\": 25, \"city\": \"New York\"}\n",
    "\n",
    "# 원소 추가/수정\n",
    "my_dict[\"email\"] = \"alice@example.com\"\n",
    "my_dict[\"age\"] = 26\n",
    "\n",
    "# 원소 접근\n",
    "print(my_dict[\"name\"]) # \"Alice\"\n",
    "print(my_dict.get(\"country\", \"USA\")) # 키가 없으면 기본값 \"USA\" 반환\n",
    "\n",
    "# 원소 삭제\n",
    "del my_dict[\"city\"]\n",
    "\n",
    "# Key, Value, Item 순회\n",
    "for key, value in my_dict.items():\n",
    "  print(f\"{key}: {value}\")"
   ]
  },
  {
   "cell_type": "markdown",
   "id": "f0eeff2a-763f-42d0-b380-828fec0b78f3",
   "metadata": {},
   "source": [
    "### 3. Set\n",
    "- 순서가 없고, 중복을 허용하지 않는(unique) 원소들의 모음\n",
    "- **용도**: 중복 없는 데이터 컬렉션을 만들거나, 원소 존재 여부 확인, 집합 연산을 수행할 때 사용\n",
    "- **주의사항**: 순서가 보장되지 않으므로, 인덱싱을 통해 원소에 접근할 수 없음"
   ]
  },
  {
   "cell_type": "code",
   "execution_count": 3,
   "id": "ae3a010d-6b5c-42c3-a2e5-94a1dd2aeca6",
   "metadata": {},
   "outputs": [
    {
     "name": "stdout",
     "output_type": "stream",
     "text": [
      "{1, 2, 3, 4, 5}\n",
      "{3}\n",
      "{1, 2}\n"
     ]
    }
   ],
   "source": [
    "# 세트 생성\n",
    "my_set = {1, 2, 3, 2, 1} # {1, 2, 3}\n",
    "list_to_set = set([1, \"apple\", 1]) # {1, 'apple'}\n",
    "\n",
    "# 원소 추가\n",
    "my_set.add(4) # {1, 2, 3, 4}\n",
    "\n",
    "# 원소 삭제\n",
    "my_set.remove(2) # {1, 3, 4}. 원소가 없으면 KeyError 발생\n",
    "my_set.discard(10) # 원소가 없어도 에러 발생 안 함\n",
    "\n",
    "# 집합 연산\n",
    "set_a = {1, 2, 3}\n",
    "set_b = {3, 4, 5}\n",
    "print(set_a | set_b) # 합집합: {1, 2, 3, 4, 5}\n",
    "print(set_a & set_b) # 교집합: {3}\n",
    "print(set_a - set_b) # 차집합: {1, 2}"
   ]
  },
  {
   "cell_type": "markdown",
   "id": "2eda5b91-c62e-427a-a2ff-fdcc20a58a00",
   "metadata": {},
   "source": [
    "### 4. Tuple\n",
    "- 순서가 있고, 중복을 허용하지만, 수정 불가능한(immutable) 원소들의 모음\n",
    "- **용도**: 함수에서 여러 값 반환, 변경되지 않아야 하는 데이터의 묶음(딕셔너리의 키)을 표현할 때 사용\n",
    "- **주의사항**: 생성 후에는 원소를 추가, 수정, 삭제할 수 없음"
   ]
  },
  {
   "cell_type": "code",
   "execution_count": 4,
   "id": "fe3f6140-0be4-4db4-9379-7f5de7898de5",
   "metadata": {},
   "outputs": [
    {
     "name": "stdout",
     "output_type": "stream",
     "text": [
      "hello\n",
      "2\n",
      "Min: 1, Max: 8\n"
     ]
    }
   ],
   "source": [
    "# 튜플 생성\n",
    "my_tuple = (1, \"hello\", 3.14)\n",
    "single_tuple = (1,) # 원소가 하나일 때는 쉼표(,)가 필수\n",
    "\n",
    "# 원소 접근 (인덱싱)\n",
    "print(my_tuple[1]) # \"hello\"\n",
    "\n",
    "# 패킹과 언패킹\n",
    "packed_tuple = 1, 2, \"world\" # 패킹\n",
    "a, b, c = packed_tuple # 언패킹\n",
    "print(b) # 2\n",
    "\n",
    "# 함수에서 여러 값 반환\n",
    "def get_min_max(numbers):\n",
    "  return min(numbers), max(numbers)\n",
    "\n",
    "min_val, max_val = get_min_max([1, 5, 2, 8])\n",
    "print(f\"Min: {min_val}, Max: {max_val}\") # Min: 1, Max: 8"
   ]
  },
  {
   "cell_type": "markdown",
   "id": "cb584e84-6494-491c-9bc6-73c274f7ea8c",
   "metadata": {},
   "source": [
    "### 5. 함수 (Function)\n",
    "- 특정 작업을 수행하는 코드 블록으로, 재사용이 가능\n",
    "- **용도**: 코드의 재사용성을 높이고, 로직을 모듈화, 가독성과 유지보수성 향상 시 사용\n",
    "- **주의사항**: 함수는 하나의 기능만 수행하도록 작성(단일 책임 원칙)/함수 인자의 기본값은 변경 불가능한(immutable) 객체를 사용하는 것이 안전"
   ]
  },
  {
   "cell_type": "code",
   "execution_count": 5,
   "id": "b6c64ba6-9370-40dd-9fcb-4cdd16814032",
   "metadata": {},
   "outputs": [
    {
     "name": "stdout",
     "output_type": "stream",
     "text": [
      "Hello, World!\n",
      "50\n",
      "10\n",
      "name: Bob\n",
      "age: 30\n"
     ]
    }
   ],
   "source": [
    "# 기본 함수 정의\n",
    "def greet(name):\n",
    "  return f\"Hello, {name}!\"\n",
    "\n",
    "# 기본값이 있는 함수\n",
    "def calculate_area(width, height=10):\n",
    "  return width * height\n",
    "\n",
    "# 가변 인자를 받는 함수\n",
    "def sum_all(*args):\n",
    "  total = 0\n",
    "  for num in args:\n",
    "      total += num\n",
    "  return total\n",
    "\n",
    "# 키워드 가변 인자를 받는 함수\n",
    "def print_info(**kwargs):\n",
    "  for key, value in kwargs.items():\n",
    "      print(f\"{key}: {value}\")\n",
    "\n",
    "print(greet(\"World\")) # Hello, World!\n",
    "print(calculate_area(5)) # 50\n",
    "print(sum_all(1, 2, 3, 4)) # 10\n",
    "print_info(name=\"Bob\", age=30) # name: Bob, age: 30"
   ]
  },
  {
   "cell_type": "markdown",
   "id": "c34659a5-0e21-485a-9be9-66cb5f57c0fa",
   "metadata": {},
   "source": [
    "- 함수는 데코레이터로 감싸서, 기존 함수를 유지하며 새로운 기능을 추가 가능\n",
    "- **핵심**: `*args`, `**kwargs`를 사용해 범용성을 확보하고, 원래 함수의 return 값을 처리해야 함\n",
    "- **권장사항**: `functools.wraps`를 사용해 원래 함수의 메타데이터를 보존 (없을 경우 메타데이터가 데코레이터 정보로 덮어씌워짐)"
   ]
  },
  {
   "cell_type": "code",
   "execution_count": 6,
   "id": "7539b8e4-9a5a-4614-870c-5f75a2329889",
   "metadata": {},
   "outputs": [
    {
     "name": "stdout",
     "output_type": "stream",
     "text": [
      "add_fixed\n",
      "두 숫자를 더하는 함수입니다.\n"
     ]
    }
   ],
   "source": [
    "import time\n",
    "from functools import wraps\n",
    "\n",
    "def timer_decorator_fixed(function):\n",
    "    @wraps(function) # 이 부분을 추가!\n",
    "    def wrapper(*args, **kwargs):\n",
    "        start_time = time.time()\n",
    "        result = function(*args, **kwargs)\n",
    "        end_time = time.time()\n",
    "        print(f\"'{function.__name__}' 함수 실행 시간: {end_time - start_time:.4f}초\")\n",
    "        return result\n",
    "    return wrapper\n",
    "\n",
    "@timer_decorator_fixed\n",
    "def add_fixed(a, b):\n",
    "    \"\"\"두 숫자를 더하는 함수입니다.\"\"\"\n",
    "    return a + b\n",
    "\n",
    "print(add_fixed.__name__) # 'add_fixed' 출력\n",
    "print(add_fixed.__doc__)  # '두 숫자를 더하는 함수입니다.' 출력"
   ]
  },
  {
   "cell_type": "markdown",
   "id": "e76faf07-ab1f-4f6e-a14c-edaa29c1df4e",
   "metadata": {},
   "source": [
    "### 6. 클래스 (Class)\n",
    "- 객체를 생성하기 위한 틀(template)로, 속성(attribute)과 메서드(method)를 가짐\n",
    "- **용도**: 객체 지향 프로그래밍을 통해 데이터와 관련 동작을 캡슐화\n",
    "- **주의사항**: 상속과 다형성을 적절히 활용하면 유연하고 확장성 있는 코드를 작성 가능"
   ]
  },
  {
   "cell_type": "code",
   "execution_count": 7,
   "id": "db957f43-2df3-450c-8a49-ab47a93505e1",
   "metadata": {},
   "outputs": [
    {
     "name": "stdout",
     "output_type": "stream",
     "text": [
      "Buddy is 3 years old.\n",
      "Woof!\n",
      "Buddy\n",
      "Canis lupus familiaris\n"
     ]
    }
   ],
   "source": [
    "class Dog:\n",
    "  # 클래스 변수\n",
    "  species = \"Canis lupus familiaris\"\n",
    "\n",
    "  # 초기화 메서드 (생성자)\n",
    "  def __init__(self, name, age):\n",
    "      # 인스턴스 변수\n",
    "      self.name = name\n",
    "      self.age = age\n",
    "\n",
    "  # 인스턴스 메서드\n",
    "  def bark(self):\n",
    "      return \"Woof!\"\n",
    "\n",
    "  def get_info(self):\n",
    "      return f\"{self.name} is {self.age} years old.\"\n",
    "\n",
    "# 객체(인스턴스) 생성\n",
    "my_dog = Dog(\"Buddy\", 3)\n",
    "\n",
    "# 메서드 호출\n",
    "print(my_dog.get_info()) # Buddy is 3 years old.\n",
    "print(my_dog.bark()) # Woof!\n",
    "\n",
    "# 속성 접근\n",
    "print(my_dog.name) # Buddy\n",
    "print(Dog.species) # Canis lupus familiaris"
   ]
  }
 ],
 "metadata": {
  "kernelspec": {
   "display_name": "Python 3 (ipykernel)",
   "language": "python",
   "name": "python3"
  },
  "language_info": {
   "codemirror_mode": {
    "name": "ipython",
    "version": 3
   },
   "file_extension": ".py",
   "mimetype": "text/x-python",
   "name": "python",
   "nbconvert_exporter": "python",
   "pygments_lexer": "ipython3",
   "version": "3.13.3"
  }
 },
 "nbformat": 4,
 "nbformat_minor": 5
}
