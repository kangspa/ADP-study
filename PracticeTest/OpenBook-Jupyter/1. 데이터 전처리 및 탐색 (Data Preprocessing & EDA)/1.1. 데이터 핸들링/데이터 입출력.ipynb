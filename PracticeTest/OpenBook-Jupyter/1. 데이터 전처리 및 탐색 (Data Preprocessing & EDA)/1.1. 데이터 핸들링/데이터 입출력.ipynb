{
 "cells": [
  {
   "cell_type": "markdown",
   "metadata": {},
   "source": [
    "## CSV\n",
    "- 대부분의 정형 데이터가 저장되고 공유되는 표준 형식\n",
    "- 쉼표로 구분된 값(Comma-Separated Values) 형식의 텍스트 파일\n",
    "### 주의사항\n",
    "    - 파일 경로, 인코딩 문제, 구분자 불일치로 인해 에러가 발생 가능\n",
    "    - 대용량 파일의 경우 `chunksize` 인자를 사용하여 단계적으로 처리하는 것이 좋음"
   ]
  },
  {
   "cell_type": "code",
   "execution_count": 1,
   "metadata": {},
   "outputs": [
    {
     "name": "stdout",
     "output_type": "stream",
     "text": [
      "   col1 col2   col3\n",
      "0     1    a   True\n",
      "1     2    b  False\n",
      "2     3    c   True\n"
     ]
    }
   ],
   "source": [
    "import pandas as pd\n",
    "import io\n",
    "\n",
    "csv_data = \"col1,col2,col3\\n1,a,True\\n2,b,False\\n3,c,True\"\n",
    "df_csv = pd.read_csv(io.StringIO(csv_data))\n",
    "print(df_csv)"
   ]
  },
  {
   "cell_type": "markdown",
   "metadata": {},
   "source": [
    "### 주요 하이퍼파라미터 (인자)\n",
    "- `filepath_or_buffer`: 파일 경로, URL 또는 파일과 유사한 객체.\n",
    "- `sep`: 필드 구분자. 기본값은 `,`.\n",
    "- `header`: 헤더로 사용할 행의 번호. 기본값은 `0`. 헤더가 없으면 `None`.\n",
    "- `encoding`: 파일 인코딩 형식. (e.g., `'utf-8'`, `'cp949'`)\n",
    "- `usecols`: 읽어올 열의 이름이나 인덱스 리스트.\n",
    "- `nrows`: 읽어올 파일의 행 수."
   ]
  },
  {
   "cell_type": "markdown",
   "metadata": {},
   "source": [
    "## Excel\n",
    "- Microsoft Excel 파일(`.xls`, `.xlsx`)을 읽어 DataFrame으로 변환하여 사용\n",
    "- 비즈니스 환경의 보고서나 데이터 분석 시 사용\n",
    "### 주의사항\n",
    "- `read_excel` 사용을 위해 `openpyxl` 라이브러리가 설치 필요\n",
    "- 최신 `.xlsx` 파일을 다루기 위해 `openpyxl` 사용을 권장"
   ]
  },
  {
   "cell_type": "code",
   "execution_count": 2,
   "metadata": {},
   "outputs": [],
   "source": [
    "# !pip install openpyxl"
   ]
  },
  {
   "cell_type": "code",
   "execution_count": 3,
   "metadata": {},
   "outputs": [
    {
     "name": "stdout",
     "output_type": "stream",
     "text": [
      "   제품명       가격   재고\n",
      "0  노트북  1200000   15\n",
      "1  마우스    50000  120\n",
      "2  키보드    75000   80\n"
     ]
    }
   ],
   "source": [
    "import pandas as pd\n",
    "import io\n",
    "\n",
    "# 예제 DataFrame 생성\n",
    "source_df = pd.DataFrame({\n",
    "  \"제품명\": [\"노트북\", \"마우스\", \"키보드\"],\n",
    "  \"가격\": [1200000, 50000, 75000],\n",
    "  \"재고\": [15, 120, 80]\n",
    "})\n",
    "\n",
    "# 가상의 엑셀 파일을 메모리(BytesIO 버퍼)에 저장\n",
    "# 실제 파일로 저장 시: source_df.to_excel(\"my_data.xlsx\", index=False, sheet_name=\"재고 현황\")\n",
    "buffer = io.BytesIO()\n",
    "source_df.to_excel(buffer, index=False, sheet_name=\"재고 현황\")\n",
    "buffer.seek(0) # 스트림 포인터를 처음으로 이동\n",
    "\n",
    "# pd.read_excel()로 데이터 읽기\n",
    "# 실제 파일에서 읽을 시: pd.read_excel(\"my_data.xlsx\", sheet_name=\"재고 현황\")\n",
    "df_from_excel = pd.read_excel(buffer, sheet_name=\"재고 현황\")\n",
    "\n",
    "print(df_from_excel)"
   ]
  },
  {
   "cell_type": "markdown",
   "metadata": {},
   "source": [
    "### 주요 하이퍼파라미터 (인자)\n",
    "- `io`: 파일 경로, URL 또는 Excel 파일 객체.\n",
    "- `sheet_name`: 읽어올 시트의 이름(문자열)이나 번호(0부터 시작). 기본값은 `0` (첫 번째 시트).\n",
    "- `header`: 헤더로 사용할 행의 번호. 기본값은 `0`.\n",
    "- `usecols`: 읽어올 열의 범위 (e.g., `'A:C'`) 또는 리스트.\n",
    "- `engine`: 사용할 파서 엔진. `.xlsx`는 `'openpyxl'`, 구형 `.xls`는 `'xlrd'`가 사용됩니다."
   ]
  },
  {
   "cell_type": "markdown",
   "metadata": {},
   "source": [
    "## TXT\n",
    "- 로그 파일이나 정형화되지 않은 텍스트 데이터를 읽을 때 사용\n",
    "- 일반 텍스트 파일(로그, 비정형 텍스트 등)을 읽음\n",
    "- Python 내장 `open()` 함수를 사용하는 것이 일반적\n",
    "### 주의사항\n",
    "- `encoding`을 명확히 지정해야 한글 깨짐을 방지\n",
    "- 대용량 파일은 한 번에 `read()`로 읽기보다 한 줄씩 순회하며 읽는 것이 메모리 효율적"
   ]
  },
  {
   "cell_type": "code",
   "execution_count": 4,
   "metadata": {
    "scrolled": false
   },
   "outputs": [
    {
     "ename": "FileNotFoundError",
     "evalue": "[Errno 2] No such file or directory: 'file.txt'",
     "output_type": "error",
     "traceback": [
      "\u001b[1;31m---------------------------------------------------------------------------\u001b[0m",
      "\u001b[1;31mFileNotFoundError\u001b[0m                         Traceback (most recent call last)",
      "\u001b[1;32m<ipython-input-4-f60c1b03a712>\u001b[0m in \u001b[0;36m<module>\u001b[1;34m\u001b[0m\n\u001b[0;32m      1\u001b[0m \u001b[1;31m# 파일을 한 줄씩 순회하며 읽기 (메모리 효율적)\u001b[0m\u001b[1;33m\u001b[0m\u001b[1;33m\u001b[0m\u001b[1;33m\u001b[0m\u001b[0m\n\u001b[0;32m      2\u001b[0m \u001b[0mlines\u001b[0m \u001b[1;33m=\u001b[0m \u001b[1;33m[\u001b[0m\u001b[1;33m]\u001b[0m\u001b[1;33m\u001b[0m\u001b[1;33m\u001b[0m\u001b[0m\n\u001b[1;32m----> 3\u001b[1;33m \u001b[1;32mwith\u001b[0m \u001b[0mopen\u001b[0m\u001b[1;33m(\u001b[0m\u001b[1;34m'file.txt'\u001b[0m\u001b[1;33m,\u001b[0m \u001b[1;34m'r'\u001b[0m\u001b[1;33m,\u001b[0m \u001b[0mencoding\u001b[0m\u001b[1;33m=\u001b[0m\u001b[1;34m'utf-8'\u001b[0m\u001b[1;33m)\u001b[0m \u001b[1;32mas\u001b[0m \u001b[0mf\u001b[0m\u001b[1;33m:\u001b[0m\u001b[1;33m\u001b[0m\u001b[1;33m\u001b[0m\u001b[0m\n\u001b[0m\u001b[0;32m      4\u001b[0m   \u001b[1;32mfor\u001b[0m \u001b[0mline\u001b[0m \u001b[1;32min\u001b[0m \u001b[0mf\u001b[0m\u001b[1;33m:\u001b[0m\u001b[1;33m\u001b[0m\u001b[1;33m\u001b[0m\u001b[0m\n\u001b[0;32m      5\u001b[0m       \u001b[0mlines\u001b[0m\u001b[1;33m.\u001b[0m\u001b[0mappend\u001b[0m\u001b[1;33m(\u001b[0m\u001b[0mline\u001b[0m\u001b[1;33m.\u001b[0m\u001b[0mstrip\u001b[0m\u001b[1;33m(\u001b[0m\u001b[1;33m)\u001b[0m\u001b[1;33m)\u001b[0m \u001b[1;31m# 줄바꿈 문자 제거\u001b[0m\u001b[1;33m\u001b[0m\u001b[1;33m\u001b[0m\u001b[0m\n",
      "\u001b[1;31mFileNotFoundError\u001b[0m: [Errno 2] No such file or directory: 'file.txt'"
     ]
    }
   ],
   "source": [
    "# 파일을 한 줄씩 순회하며 읽기 (메모리 효율적)\n",
    "lines = []\n",
    "with open('file.txt', 'r', encoding='utf-8') as f:\n",
    "  for line in f:\n",
    "      lines.append(line.strip()) # 줄바꿈 문자 제거\n",
    "print(lines)"
   ]
  },
  {
   "cell_type": "markdown",
   "metadata": {},
   "source": [
    "### 주요 인자 (`open` 함수)\n",
    "- `file`: 파일 경로.\n",
    "- `mode`: 파일 열기 모드. `'r'`(읽기), `'w'`(쓰기), `'a'`(추가).\n",
    "- `encoding`: 파일 인코딩."
   ]
  },
  {
   "cell_type": "markdown",
   "metadata": {},
   "source": [
    "## JSON\n",
    "- 웹 API 응답 데이터나, 계층 구조를 가진 설정 파일을 다룰 때 사용\n",
    "### 주의사항\n",
    "- JSON 데이터의 구조에 따라 `orient` 인자를 설정 필요\n",
    "- `lines=True`는 각 줄이 유효한 JSON 객체일 때 사용"
   ]
  },
  {
   "cell_type": "code",
   "execution_count": null,
   "metadata": {},
   "outputs": [],
   "source": [
    "import pandas as pd\n",
    "import io\n",
    "\n",
    "# 레코드 리스트 형태의 JSON\n",
    "json_data = '[{\"col1\": 1, \"col2\": \"a\"}, {\"col1\": 2, \"col2\": \"b\"}]'\n",
    "df_json = pd.read_json(io.StringIO(json_data), orient='records')\n",
    "print(df_json)"
   ]
  },
  {
   "cell_type": "code",
   "execution_count": null,
   "metadata": {},
   "outputs": [],
   "source": [
    "# json 모듈로 읽어들이기 (딕셔너리 형태)\n",
    "import json\n",
    "\n",
    "with open('test.json', 'r') as f:\n",
    "    json_data = json.load(f)\n",
    "print(json.dumps(json_data))\n",
    "# 들여쓰기 옵션\n",
    "print(json.dumps(json_data, indent=\"\\t\"))"
   ]
  },
  {
   "cell_type": "markdown",
   "metadata": {},
   "source": [
    "### 주요 하이퍼파라미터 (인자)\n",
    "- `path_or_buf`: 파일 경로 또는 JSON 문자열.\n",
    "- `orient`: JSON 문자열의 형식. (`'records'`, `'columns'`, `'index'`, `'split'`, `'values'`) 데이터 구조에 맞게 지정해야 합니다.\n",
    "- `lines`: 파일의 각 줄을 JSON 객체로 읽을지 여부. 기본값은 `False`.\n",
    "- `encoding`: 파일 인코딩."
   ]
  },
  {
   "cell_type": "markdown",
   "metadata": {},
   "source": [
    "## XML\n",
    "- 복잡한 계층 구조와 메타데이터를 가진 레거시 시스템의 데이터를 다룰 때 사용\n",
    "### read_xml 주의사항\n",
    "- `lxml` 라이브러리 설치가 필요\n",
    "- `xpath` 인자를 사용하여 DataFrame으로 변환할 노드를 정확히 지정"
   ]
  },
  {
   "cell_type": "code",
   "execution_count": null,
   "metadata": {},
   "outputs": [],
   "source": [
    "# !pip install lxml"
   ]
  },
  {
   "cell_type": "code",
   "execution_count": null,
   "metadata": {},
   "outputs": [],
   "source": [
    "import pandas as pd\n",
    "import io\n",
    "\n",
    "xml_data = \"\"\"\n",
    "<data>\n",
    "  <person>\n",
    "      <name>David</name>\n",
    "      <age>25</age>\n",
    "  </person>\n",
    "  <person>\n",
    "      <name>Jane</name>\n",
    "      <age>30</age>\n",
    "  </person>\n",
    "</data>\n",
    "\"\"\"\n",
    "df_xml = pd.read_xml(io.StringIO(xml_data), xpath='.//person')\n",
    "print(df_xml)"
   ]
  },
  {
   "cell_type": "markdown",
   "metadata": {},
   "source": [
    "### 주요 하이퍼파라미터 (인자)\n",
    "- `path_or_buf`: 파일 경로 또는 XML 문자열.\n",
    "- `xpath`: 파싱할 자식 노드를 선택하기 위한 XPath. 기본값은 `./*`.\n",
    "- `parser`: 사용할 파서. 기본값은 `'lxml'`.\n",
    "### ElementTree 주의사항\n",
    "- XML 구조를 순회(iterate)하면서 필요한 데이터를 직접 추출하고, 이를 리스트나 딕셔너리 형태로 가공한 후 DataFrame으로 변환해야 함"
   ]
  },
  {
   "cell_type": "code",
   "execution_count": null,
   "metadata": {},
   "outputs": [],
   "source": [
    "import xml.etree.ElementTree as ET\n",
    "import pandas as pd\n",
    "import io\n",
    "\n",
    "xml_data = \"\"\"\n",
    "<data>\n",
    "  <person>\n",
    "      <name>David</name>\n",
    "      <age>25</age>\n",
    "  </person>\n",
    "  <person>\n",
    "      <name>Jane</name>\n",
    "      <age>30</age>\n",
    "  </person>\n",
    "</data>\n",
    "\"\"\"\n",
    "\n",
    "root = ET.fromstring(xml_data) # 문자열로부터 파싱. 파일은 ET.parse('file.xml')\n",
    "\n",
    "rows = []\n",
    "# 모든 'person' 태그를 순회\n",
    "for person in root.findall('person'):\n",
    "  name = person.find('name').text\n",
    "  age = person.find('age').text\n",
    "  rows.append({'name': name, 'age': int(age)})\n",
    "\n",
    "df_et = pd.DataFrame(rows)\n",
    "print(df_et)"
   ]
  },
  {
   "cell_type": "markdown",
   "metadata": {},
   "source": [
    "## `to_csv`\n",
    "- DataFrame을 CSV(쉼표로 구분된 값) 파일로 저장\n",
    "### 주의사항\n",
    "- 기본적으로 행 인덱스가 파일에 포함됨\n",
    "    - 인덱스를 제외하고 싶다면 `index=False` 옵션 사용\n",
    "- 한글 데이터가 포함된 경우 `encoding`을 `'utf-8-sig'`로 지정해야 Excel에서 파일을 열 때 글자가 깨지지 않음"
   ]
  },
  {
   "cell_type": "code",
   "execution_count": null,
   "metadata": {},
   "outputs": [],
   "source": [
    "import pandas as pd\n",
    "\n",
    "df = pd.DataFrame({'Name': ['Alice', '이순신'], 'Age': [25, 30]})\n",
    "\n",
    "# 파일로 저장 (인덱스 제외, utf-8-sig 인코딩)\n",
    "# df.to_csv('output.csv', index=False, encoding='utf-8-sig')\n",
    "\n",
    "# 문자열로 결과 확인\n",
    "csv_output = df.to_csv(index=False)\n",
    "print(csv_output)"
   ]
  },
  {
   "cell_type": "markdown",
   "metadata": {},
   "source": [
    "### 주요 하이퍼파라미터 (인자)\n",
    "- `path_or_buf`: 저장할 파일 경로 또는 버퍼. 지정하지 않으면 문자열로 결과를 반환합니다.\n",
    "- `sep`: 사용할 필드 구분자. 기본값은 `,`.\n",
    "- `na_rep`: 결측치(NaN)를 나타낼 문자열. 기본값은 빈 문자열.\n",
    "- `columns`: 파일에 쓸 열을 선택하는 리스트.\n",
    "- `header`: 열 이름을 쓸지 여부. 기본값은 `True`.\n",
    "- `index`: 행 인덱스를 쓸지 여부. 기본값은 `True`이며, 보통 `False`로 설정하여 불필요한 열 생성을 방지합니다.\n",
    "- `encoding`: 파일 인코딩 형식. 한글 데이터를 저장할 경우 `'utf-8-sig'`를 권장합니다.\n",
    "- `mode`: 파일 쓰기 모드. 기본값은 `'w'`(덮어쓰기), `'a'`는 이어쓰기입니다."
   ]
  },
  {
   "cell_type": "markdown",
   "metadata": {},
   "source": [
    "## `to_excel`\n",
    "- DataFrame을 Excel 파일(`.xlsx`)로 저장\n",
    "### 주의사항\n",
    "- `openpyxl` 라이브러리 설치 필요\n",
    "- `index=False` 옵션을 사용하여 불필요한 인덱스 저장을 방지\n",
    "- 여러 DataFrame을 한 파일의 다른 시트에 저장 가능"
   ]
  },
  {
   "cell_type": "code",
   "execution_count": null,
   "metadata": {},
   "outputs": [],
   "source": [
    "import pandas as pd\n",
    "\n",
    "df1 = pd.DataFrame({'Data1': [1, 2, 3]})\n",
    "df2 = pd.DataFrame({'Data2': [4, 5, 6]})\n",
    "\n",
    "# 단일 시트에 저장\n",
    "# df1.to_excel(\"output_single.xlsx\", index=False, sheet_name=\"MyData\")\n",
    "\n",
    "# 여러 시트에 저장\n",
    "with pd.ExcelWriter(\"output_multiple.xlsx\") as writer:\n",
    "  df1.to_excel(writer, index=False, sheet_name=\"Sheet_A\")\n",
    "  df2.to_excel(writer, index=False, sheet_name=\"Sheet_B\")\n",
    "\n",
    "print(\"Excel 파일 저장이 완료되었습니다.\")"
   ]
  },
  {
   "cell_type": "markdown",
   "metadata": {},
   "source": [
    "### 주요 하이퍼파라미터 (인자)\n",
    "- `excel_writer`: 저장할 파일 경로 또는 `ExcelWriter` 객체.\n",
    "- `sheet_name`: 시트 이름. 기본값은 `'Sheet1'`.\n",
    "- `na_rep`: 결측치(NaN)를 나타낼 문자열.\n",
    "- `columns`: 파일에 쓸 열을 선택하는 리스트.\n",
    "- `header`: 열 이름을 쓸지 여부.\n",
    "- `index`: 행 인덱스를 쓸지 여부. 기본값은 `True`.\n",
    "- `engine`: 사용할 엔진. (e.g., `'openpyxl'`)\n",
    "- `startrow`, `startcol`: 데이터 쓰기를 시작할 좌상단 셀의 위치 (0-based)."
   ]
  }
 ],
 "metadata": {
  "kernelspec": {
   "display_name": "Python 3",
   "language": "python",
   "name": "python3"
  },
  "language_info": {
   "codemirror_mode": {
    "name": "ipython",
    "version": 3
   },
   "file_extension": ".py",
   "mimetype": "text/x-python",
   "name": "python",
   "nbconvert_exporter": "python",
   "pygments_lexer": "ipython3",
   "version": "3.7.1"
  }
 },
 "nbformat": 4,
 "nbformat_minor": 2
}
