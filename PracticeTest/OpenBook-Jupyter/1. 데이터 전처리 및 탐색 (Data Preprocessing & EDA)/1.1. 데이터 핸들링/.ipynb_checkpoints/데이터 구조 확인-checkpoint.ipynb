{
 "cells": [
  {
   "cell_type": "markdown",
   "metadata": {},
   "source": [
    "## 필요한 상황\n",
    "- **초기 데이터 탐색**: CSV, Excel 등 외부 소스에서 데이터를 처음 불러왔을 때, 데이터가 올바르게 로드되었는지, 어떤 변수들이 있는지 확인하는 가장 첫 단계에서 사용합니다.\n",
    "- **데이터 클리닝 계획 수립**: `info()`와 `isnull().sum()`을 통해 변수들의 데이터 타입이 적절한지(예: 숫자가 object로 되어있지 않은지), 결측치가 얼마나, 어디에 있는지 파악하여 처리 계획을 세울 때 사용합니다.\n",
    "- **데이터 특징 파악**: `describe()`를 통해 수치형 변수들의 분포(평균, 편차, 범위 등)를 개략적으로 파악하고, 이상치의 존재 가능성을 짐작할 때 사용합니다.\n",
    "- **데이터 조작 후 확인**: 필터링, 결합 등 데이터프레임을 변경하는 작업을 수행한 후, `shape`이나 `head()`를 통해 의도한 대로 데이터가 변경되었는지 확인할 때 사용합니다."
   ]
  },
  {
   "cell_type": "code",
   "execution_count": 1,
   "metadata": {},
   "outputs": [],
   "source": [
    "import pandas as pd\n",
    "import numpy as np\n",
    "\n",
    "# 예제 데이터 생성\n",
    "data = {'ID': [1, 2, 3, 4, 5],\n",
    "        'Name': ['Alice', 'Bob', 'Charlie', 'David', 'Eve'],\n",
    "        'Age': [25, 30, np.nan, 40, 30],\n",
    "        'Salary': [70000, 80000, 50000, 95000, 70000],\n",
    "        'JoinDate': pd.to_datetime(['2020-01-10', '2018-05-20', '2021-09-01', '2017-03-15', '2020-01-10'])}\n",
    "df = pd.DataFrame(data)"
   ]
  },
  {
   "cell_type": "markdown",
   "metadata": {},
   "source": [
    "### 1. `head()` / `tail()`\n",
    "\n",
    "- **용도**: 데이터의 일부를 직접 눈으로 확인합니다.\n",
    "- **주의사항**: 기본값은 5행을 보여줍니다. 괄호 안에 원하는 행의 수를 지정할 수 있습니다. (e.g., `df.head(3)`)"
   ]
  },
  {
   "cell_type": "code",
   "execution_count": null,
   "metadata": {},
   "outputs": [],
   "source": [
    "  # 데이터프레임의 첫 3개 행 출력\n",
    "  print(df.head(3))\n",
    "\n",
    "  # 데이터프레임의 마지막 2개 행 출력\n",
    "  print(df.tail(2))"
   ]
  }
 ],
 "metadata": {
  "kernelspec": {
   "display_name": "Python 3",
   "language": "python",
   "name": "python3"
  },
  "language_info": {
   "codemirror_mode": {
    "name": "ipython",
    "version": 3
   },
   "file_extension": ".py",
   "mimetype": "text/x-python",
   "name": "python",
   "nbconvert_exporter": "python",
   "pygments_lexer": "ipython3",
   "version": "3.7.1"
  }
 },
 "nbformat": 4,
 "nbformat_minor": 2
}
