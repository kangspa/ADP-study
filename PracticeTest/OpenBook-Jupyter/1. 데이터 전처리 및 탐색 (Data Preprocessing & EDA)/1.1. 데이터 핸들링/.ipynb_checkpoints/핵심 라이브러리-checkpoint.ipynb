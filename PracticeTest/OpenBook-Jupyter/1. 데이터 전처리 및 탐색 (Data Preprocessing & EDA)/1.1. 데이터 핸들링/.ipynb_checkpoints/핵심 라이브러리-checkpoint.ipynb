{
 "cells": [
  {
   "cell_type": "markdown",
   "metadata": {},
   "source": [
    "## Numpy (Numerical Python)\n",
    "- 다차원 배열 객체인 `ndarray`를 중심으로, 빠르고 효율적인 수치 연산을 제공 / 선형대수, 푸리에 변환 등 고성능 과학 계산 기능을 포함\n",
    "### 적용 가능 상황\n",
    "- 대규모 다차원 배열의 빠른 산술 연산이 필요할 때.\n",
    "- 선형대수(행렬 곱, 분해 등), 난수 생성, 푸리에 변환 등 수학적 계산이 필요할 때.\n",
    "- 이미지 데이터를 픽셀 값의 배열로 다루거나, 수치 시뮬레이션을 수행할 때.\n",
    "### 주의사항\n",
    "- Numpy 배열은 모든 원소가 동일한 데이터 타입을 가져야 함\n",
    "- `for` 루프를 직접 사용하는 것보다 벡터화 연산(배열 전체에 대한 연산)을 사용하는 것이 훨씬 빠름"
   ]
  },
  {
   "cell_type": "code",
   "execution_count": 1,
   "metadata": {},
   "outputs": [
    {
     "name": "stdout",
     "output_type": "stream",
     "text": [
      "Shape: (2, 3)\n",
      "Data type: int32\n",
      "Sum: 21\n",
      "Mean (axis=0): [2.5 3.5 4.5]\n"
     ]
    }
   ],
   "source": [
    "import numpy as np\n",
    "\n",
    "# ndarray 생성\n",
    "arr = np.array([[1, 2, 3], [4, 5, 6]])\n",
    "\n",
    "# 배열의 크기 및 형태 확인\n",
    "print(f\"Shape: {arr.shape}\") # Shape: (2, 3)\n",
    "print(f\"Data type: {arr.dtype}\") # Data type: int32\n",
    "\n",
    "# 벡터화 연산 (Element-wise operation)\n",
    "arr_plus_10 = arr + 10\n",
    "# [[11, 12, 13],\n",
    "#  [14, 15, 16]]\n",
    "\n",
    "# 브로드캐스팅 (Broadcasting)\n",
    "vector = np.array([1, 0, 1])\n",
    "result = arr + vector # (2, 3) 배열과 (3,) 벡터의 연산\n",
    "# [[2, 2, 4],\n",
    "#  [5, 5, 7]]\n",
    "\n",
    "# 집계 함수\n",
    "print(f\"Sum: {np.sum(arr)}\") # Sum: 21\n",
    "print(f\"Mean (axis=0): {np.mean(arr, axis=0)}\") # Mean (axis=0): [2.5 3.5 4.5]\n",
    "\n",
    "# 선형대수: 행렬 곱\n",
    "mat_a = np.array([[1, 2], [3, 4]])\n",
    "mat_b = np.array([[5, 6], [7, 8]])\n",
    "mat_mul = np.dot(mat_a, mat_b) # 또는 mat_a @ mat_b\n",
    "# [[19, 22],\n",
    "#  [43, 50]]"
   ]
  },
  {
   "cell_type": "markdown",
   "metadata": {},
   "source": [
    "- `ndarray` 생성, 벡터화 연산, 브로드캐스팅, 집계 함수 사용법을 보여줌\n",
    "- `axis` 인자를 통해 연산을 적용할 차원을 지정 가능\n",
    "    - `axis=0`은 열 방향, `axis=1`은 행 방향을 의미"
   ]
  },
  {
   "cell_type": "markdown",
   "metadata": {},
   "source": [
    "## Pandas\n",
    "- Numpy를 기반으로 구축, `Series`와 `DataFrame`이라는 유연하고 강력한 데이터 구조를 제공\n",
    "- 정형 데이터를 직관적 처리, 시계열 분석, 데이터 정제, 결합 등 고수준의 데이터 조작 작업을 쉽게 수행\n",
    "### 적용 가능 상황\n",
    "- CSV, Excel, SQL 등 다양한 소스로부터 데이터를 읽고 쓸 때.\n",
    "- 데이터 클리닝(결측치, 이상치 처리), 변환, 필터링, 그룹화 등 데이터 전처리가 필요할 때.\n",
    "- 이종(heterogeneous) 데이터를 테이블 형태로 다루고, 시계열 데이터를 분석할 때.\n",
    "### 주의사항\n",
    "- `SettingWithCopyWarning` 주의\n",
    "    - DataFrame의 일부를 복사하여 수정하려 할 때 발생하며, 원본이 수정되지 않을 수 있다.\n",
    "    - `.loc`를 사용하여 명시적으로 데이터를 수정하는 것이 안전"
   ]
  },
  {
   "cell_type": "code",
   "execution_count": 2,
   "metadata": {},
   "outputs": [
    {
     "name": "stdout",
     "output_type": "stream",
     "text": [
      "    Name  Age         City\n",
      "0  Alice   25     New York\n",
      "1    Bob   30  Los Angeles\n",
      "<class 'pandas.core.frame.DataFrame'>\n",
      "RangeIndex: 4 entries, 0 to 3\n",
      "Data columns (total 3 columns):\n",
      " #   Column  Non-Null Count  Dtype \n",
      "---  ------  --------------  ----- \n",
      " 0   Name    4 non-null      object\n",
      " 1   Age     4 non-null      int64 \n",
      " 2   City    4 non-null      object\n",
      "dtypes: int64(1), object(2)\n",
      "memory usage: 224.0+ bytes\n",
      "None\n",
      "             Age\n",
      "count   4.000000\n",
      "mean   32.500000\n",
      "std     6.454972\n",
      "min    25.000000\n",
      "25%    28.750000\n",
      "50%    32.500000\n",
      "75%    36.250000\n",
      "max    40.000000\n",
      "Name       Alice\n",
      "Age           25\n",
      "City    New York\n",
      "Name: 0, dtype: object\n",
      "Name       Alice\n",
      "Age           25\n",
      "City    New York\n",
      "Name: 0, dtype: object\n",
      "      Name  Age     City\n",
      "2  Charlie   35  Chicago\n",
      "3    David   40  Houston\n"
     ]
    }
   ],
   "source": [
    "import pandas as pd\n",
    "\n",
    "# DataFrame 생성\n",
    "data = {'Name': ['Alice', 'Bob', 'Charlie', 'David'],\n",
    "      'Age': [25, 30, 35, 40],\n",
    "      'City': ['New York', 'Los Angeles', 'Chicago', 'Houston']}\n",
    "df = pd.DataFrame(data)\n",
    "\n",
    "# 데이터 확인\n",
    "print(df.head(2)) # 상위 2개 행 출력\n",
    "print(df.info())    # 데이터 타입, 결측치 등 요약 정보\n",
    "print(df.describe()) # 수치형 데이터의 기술 통계\n",
    "\n",
    "# 데이터 선택 (.loc, .iloc)\n",
    "print(df.loc[0]) # 인덱스 레이블 '0'에 해당하는 행\n",
    "print(df.iloc[0]) # 정수 위치 '0'에 해당하는 행\n",
    "print(df.loc[df['Age'] > 30]) # 조건 필터링\n",
    "\n",
    "# 그룹화 및 집계 (Groupby)\n",
    "age_mean_by_city = df.groupby('City')['Age'].mean()\n",
    "# City\n",
    "# Chicago        35.0\n",
    "# Houston        40.0\n",
    "# Los Angeles    30.0\n",
    "# New York       25.0\n",
    "# Name: Age, dtype: float64\n",
    "\n",
    "# 데이터 결합 (Merge)\n",
    "df2 = pd.DataFrame({'Name': ['Alice', 'Bob'], 'Salary': [70000, 80000]})\n",
    "merged_df = pd.merge(df, df2, on='Name', how='left')"
   ]
  },
  {
   "cell_type": "markdown",
   "metadata": {},
   "source": [
    "- `DataFrame` 생성, 데이터 탐색, 특정 데이터 선택, 그룹화 연산, 데이터프레임 결합 등 Pandas의 핵심 기능\n",
    "- `.loc`는 레이블 기반, `.iloc`는 정수 위치 기반 인덱싱으로, 명확히 구분하여 사용 필요"
   ]
  },
  {
   "cell_type": "markdown",
   "metadata": {},
   "source": [
    "## Scipy (Scientific Python)\n",
    "- Numpy를 기반으로 과학 및 기술 컴퓨팅을 위한 다양한 고급 함수를 제공\n",
    "- 통계, 최적화, 신호 처리, 선형대수, 이미지 처리 등 폭넓은 분야의 알고리즘을 포함\n",
    "### 적용 가능한 상황\n",
    "- 가설 검정, 확률 분포 등 복잡한 통계 분석이 필요할 때 (`scipy.stats`).\n",
    "- 함수의 최적해(최소/최대값)를 찾아야 할 때 (`scipy.optimize`).\n",
    "- 미분 방정식 풀이, 수치 적분, 보간 등 공학적 계산이 필요할 때.\n",
    "### 주의사항\n",
    "- Scipy는 방대한 하위 모듈로 구성\n",
    "- 필요한 기능이 어떤 모듈에 있는지(e.g., `scipy.stats`, `scipy.optimize`) 공식 문서를 통해 확인하고 사용하는 것이 좋음"
   ]
  },
  {
   "cell_type": "code",
   "execution_count": 3,
   "metadata": {},
   "outputs": [
    {
     "name": "stdout",
     "output_type": "stream",
     "text": [
      "Levene test p-value: 1.0000\n",
      "T-statistic: -7.0217, P-value: 0.0000\n",
      "Minimum value found at x = -1.3064\n",
      "Function minimum value = -7.9458\n"
     ]
    }
   ],
   "source": [
    "  from scipy import stats\n",
    "  from scipy import optimize\n",
    "\n",
    "  # 1. 통계 (scipy.stats)\n",
    "  # T-검정 예시: 두 집단의 평균이 통계적으로 유의미하게 다른지 검정\n",
    "  group1 = [20, 22, 19, 20, 21, 20, 18, 25]\n",
    "  group2 = [28, 26, 27, 29, 25, 28, 26, 30]\n",
    "\n",
    "  # 등분산성 검정 (Levene's test)\n",
    "  levene_stat, levene_p = stats.levene(group1, group2)\n",
    "  print(f\"Levene test p-value: {levene_p:.4f}\")\n",
    "  # p-value가 0.05보다 크면 등분산성 가정 만족\n",
    "\n",
    "  # 독립표본 T-검정 (Independent Two-sample t-test)\n",
    "  # equal_var=True (등분산 가정) 또는 False (이분산 가정, Welch's t-test)\n",
    "  t_stat, p_value = stats.ttest_ind(group1, group2, equal_var=True)\n",
    "  print(f\"T-statistic: {t_stat:.4f}, P-value: {p_value:.4f}\")\n",
    "  # p-value가 유의수준(e.g., 0.05)보다 작으면, 두 집단의 평균은 유의미하게 다르다고 결론\n",
    "\n",
    "  # 2. 최적화 (scipy.optimize)\n",
    "  # 간단한 1차원 함수의 최소값 찾기\n",
    "  def f(x):\n",
    "      return x**2 + 10*np.sin(x)\n",
    "\n",
    "  # 함수 f(x)의 최소값을 x=0 근처에서 찾기 시작\n",
    "  result = optimize.minimize(f, x0=0)\n",
    "  print(f\"Minimum value found at x = {result.x[0]:.4f}\")\n",
    "  print(f\"Function minimum value = {result.fun:.4f}\")"
   ]
  },
  {
   "cell_type": "markdown",
   "metadata": {},
   "source": [
    "- **T-검정**: P-value가 매우 작게(e.g., 0.0001) 나왔으므로, 두 그룹의 평균 사이에는 통계적으로 유의미한 차이가 있다고 해석할 수 있습니다.\n",
    "- **최적화**: `minimize` 함수는 주어진 함수 `f(x)`의 값을 최소로 만드는 `x`의 값과 그때의 함수 값을 찾아줍니다. 이 예시에서는 약 -1.3064에서 최소값 -7.9458을 가짐을 보여줍니다."
   ]
  }
 ],
 "metadata": {
  "kernelspec": {
   "display_name": "Python 3",
   "language": "python",
   "name": "python3"
  },
  "language_info": {
   "codemirror_mode": {
    "name": "ipython",
    "version": 3
   },
   "file_extension": ".py",
   "mimetype": "text/x-python",
   "name": "python",
   "nbconvert_exporter": "python",
   "pygments_lexer": "ipython3",
   "version": "3.7.1"
  }
 },
 "nbformat": 4,
 "nbformat_minor": 5
}
