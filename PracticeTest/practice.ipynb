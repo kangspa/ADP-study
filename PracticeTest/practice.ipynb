{
 "cells": [
  {
   "cell_type": "code",
   "execution_count": null,
   "metadata": {},
   "outputs": [],
   "source": [
    "# 1.3. 데이터 시각화 - 주요 차트 내용 중 박스 플롯 hue 구현 예제 코드\n",
    "\n",
    "import matplotlib.pyplot as plt\n",
    "import seaborn as sns\n",
    "import pandas as pd\n",
    "import numpy as np\n",
    "\n",
    "# Seaborn 내장 데이터셋 로드\n",
    "tips = sns.load_dataset('tips')\n",
    "\n",
    "# 데이터 준비\n",
    "days = tips['day'].unique()\n",
    "smokers = tips['smoker'].unique()\n",
    "\n",
    "plt.figure(figsize=(8, 5))\n",
    "\n",
    "# 각 day와 smoker 그룹별로 박스플롯 그리기\n",
    "positions = []\n",
    "data_to_plot = []\n",
    "pos = 1\n",
    "\n",
    "for day in sorted(days):  # day 순서대로\n",
    "    for smoker in sorted(smokers):  # smoker = No, Yes\n",
    "        group = tips[(tips['day'] == day) & (tips['smoker'] == smoker)]['total_bill']\n",
    "        data_to_plot.append(group)\n",
    "        positions.append(pos)\n",
    "        pos += 1\n",
    "    pos += 1  # day 사이 간격\n",
    "\n",
    "# 박스플롯 그리기\n",
    "bp = plt.boxplot(data_to_plot, positions=positions, widths=0.6, patch_artist=True)\n",
    "\n",
    "# 색상 채우기 (smoker 구분)\n",
    "colors = ['lightblue', 'lightcoral'] * len(days)\n",
    "for patch, color in zip(bp['boxes'], colors):\n",
    "    patch.set_facecolor(color)\n",
    "\n",
    "# x축 레이블: day 가운데 배치\n",
    "xticks = []\n",
    "xlabels = []\n",
    "for i, day in enumerate(sorted(days)):\n",
    "    xticks.append((i* (len(smokers)+1)) + 1.5)  # day 그룹의 중앙\n",
    "    xlabels.append(day)\n",
    "\n",
    "plt.xticks(xticks, xlabels)\n",
    "plt.xlabel(\"day\")\n",
    "plt.ylabel(\"total_bill\")\n",
    "plt.title('Total Bill Distribution by Day and Smoker')\n",
    "\n",
    "# 범례 추가\n",
    "from matplotlib.patches import Patch\n",
    "legend_handles = [Patch(color='lightblue', label='No'),\n",
    "                  Patch(color='lightcoral', label='Yes')]\n",
    "plt.legend(handles=legend_handles, title=\"smoker\")\n",
    "\n",
    "plt.show()"
   ]
  },
  {
   "cell_type": "code",
   "execution_count": 49,
   "metadata": {},
   "outputs": [
    {
     "data": {
      "image/png": "[encoded data removed]",
      "text/plain": [
       "<Figure size 576x432 with 2 Axes>"
      ]
     },
     "metadata": {
      "needs_background": "light"
     },
     "output_type": "display_data"
    }
   ],
   "source": [
    "# 1.3. 데이터 시각화 - 주요 차트 내용 중 heatmap 예제 코드\n",
    "\n",
    "import matplotlib.pyplot as plt\n",
    "import seaborn as sns\n",
    "import pandas as pd\n",
    "import numpy as np\n",
    "\n",
    "# Seaborn 내장 데이터셋 로드\n",
    "iris = sns.load_dataset('iris')\n",
    "\n",
    "# 수치형 변수 간 상관계수 계산\n",
    "corr = iris.corr()\n",
    "\n",
    "# 히트맵 그리기\n",
    "fig, ax = plt.subplots(figsize=(8, 6))\n",
    "\n",
    "# imshow로 색상 맵 시각화\n",
    "cax = ax.imshow(corr.values, cmap='coolwarm', vmin=-1, vmax=1)\n",
    "\n",
    "# 컬럼 이름으로 x, y축 라벨 설정\n",
    "ax.set_xticks(np.arange(len(corr.columns)))\n",
    "ax.set_yticks(np.arange(len(corr.columns)))\n",
    "ax.set_xticklabels(corr.columns, rotation=45, ha='right')\n",
    "ax.set_yticklabels(corr.columns)\n",
    "\n",
    "# 각 셀에 상관계수 값 표시\n",
    "for i in range(len(corr.columns)):\n",
    "    for j in range(len(corr.columns)):\n",
    "        ax.text(j, i, f\"{corr.values[i, j]:.2f}\", ha='center', va='center', color='black')\n",
    "\n",
    "# 컬러바 추가\n",
    "fig.colorbar(cax)\n",
    "\n",
    "plt.title('Correlation Matrix of Iris Features')\n",
    "plt.tight_layout()\n",
    "plt.show()\n"
   ]
  },
  {
   "cell_type": "code",
   "execution_count": 1,
   "metadata": {},
   "outputs": [],
   "source": [
    "import warnings\n",
    "warnings.filterwarnings('ignore')"
   ]
  },
  {
   "cell_type": "code",
   "execution_count": 4,
   "metadata": {},
   "outputs": [],
   "source": [
    "import numpy as np\n",
    "from scipy import stats\n",
    "import matplotlib.pyplot as plt\n",
    "\n",
    "# 1. 정규분포를 따르는 데이터 생성\n",
    "np.random.seed(0)\n",
    "normal_data = np.random.normal(loc=10, scale=2, size=100)\n",
    "\n",
    "# 2. 정규분포를 따르지 않는 데이터 생성 (균등 분포)\n",
    "uniform_data = np.random.uniform(low=0, high=20, size=100)"
   ]
  },
  {
   "cell_type": "code",
   "execution_count": 5,
   "metadata": {},
   "outputs": [
    {
     "name": "stdout",
     "output_type": "stream",
     "text": [
      "--- Shapiro-Wilk Test on Normal Data ---\n",
      "Statistic: 0.9927, p-value: 0.8689\n",
      "귀무가설 기각 실패: 데이터는 정규분포를 따릅니다.\n",
      "\n",
      "--- Shapiro-Wilk Test on Uniform Data ---\n",
      "Statistic: 0.9574, p-value: 0.0026\n",
      "귀무가설 기각: 데이터는 정규분포를 따르지 않습니다.\n"
     ]
    }
   ],
   "source": [
    "# 정규분포 데이터에 대한 검정\n",
    "shapiro_stat_normal, shapiro_p_normal = stats.shapiro(normal_data)\n",
    "print(f\"--- Shapiro-Wilk Test on Normal Data ---\")\n",
    "print(f\"Statistic: {shapiro_stat_normal:.4f}, p-value: {shapiro_p_normal:.4f}\")\n",
    "if shapiro_p_normal > 0.05:\n",
    "    print(\"귀무가설 기각 실패: 데이터는 정규분포를 따릅니다.\")\n",
    "else:\n",
    "    print(\"귀무가설 기각: 데이터는 정규분포를 따르지 않습니다.\")\n",
    "\n",
    "# 균등분포 데이터에 대한 검정\n",
    "shapiro_stat_uniform, shapiro_p_uniform = stats.shapiro(uniform_data)\n",
    "print(f\"\\n--- Shapiro-Wilk Test on Uniform Data ---\")\n",
    "print(f\"Statistic: {shapiro_stat_uniform:.4f}, p-value: {shapiro_p_uniform:.4f}\")\n",
    "if shapiro_p_uniform > 0.05:\n",
    "    print(\"귀무가설 기각 실패: 데이터는 정규분포를 따릅니다.\")\n",
    "else:\n",
    "    print(\"귀무가설 기각: 데이터는 정규분포를 따르지 않습니다.\")\n"
   ]
  },
  {
   "cell_type": "code",
   "execution_count": 15,
   "metadata": {},
   "outputs": [
    {
     "name": "stdout",
     "output_type": "stream",
     "text": [
      "--- K-S Test on Normal Data ---\n",
      "Statistic: 0.0643, p-value: 0.7778\n",
      "\n",
      "--- K-S Test on Uniform Data ---\n",
      "Statistic: 0.0830, p-value: 0.4712\n",
      "\n",
      "--- K-S Test on Each Two Data ---\n",
      "Statistic: 0.3200, p-value: 0.0001\n"
     ]
    }
   ],
   "source": [
    "# 정규분포 데이터에 대한 검정\n",
    "ks_stat_normal, ks_p_normal = stats.kstest(normal_data, 'norm', args=(normal_data.mean(), normal_data.std(ddof=1)))\n",
    "print(f\"--- K-S Test on Normal Data ---\")\n",
    "print(f\"Statistic: {ks_stat_normal:.4f}, p-value: {ks_p_normal:.4f}\")\n",
    "\n",
    "# 균등분포 데이터에 대한 검정\n",
    "ks_stat_uniform, ks_p_uniform = stats.kstest(uniform_data, 'norm', args=(uniform_data.mean(), uniform_data.std(ddof=1)))\n",
    "print(f\"\\n--- K-S Test on Uniform Data ---\")\n",
    "print(f\"Statistic: {ks_stat_uniform:.4f}, p-value: {ks_p_uniform:.4f}\")\n",
    "\n",
    "# 두 데이터 비교\n",
    "ks_stat, ks_p = stats.kstest(normal_data, uniform_data)\n",
    "print(f\"\\n--- K-S Test on Each Two Data ---\")\n",
    "print(f\"Statistic: {ks_stat:.4f}, p-value: {ks_p:.4f}\")"
   ]
  },
  {
   "cell_type": "code",
   "execution_count": 14,
   "metadata": {},
   "outputs": [
    {
     "data": {
      "image/png": "[encoded data removed]",
      "text/plain": [
       "<Figure size 864x360 with 2 Axes>"
      ]
     },
     "metadata": {
      "needs_background": "light"
     },
     "output_type": "display_data"
    }
   ],
   "source": [
    "plt.figure(figsize=(12, 5))\n",
    "\n",
    "# 정규분포 데이터의 Q-Q Plot\n",
    "plt.subplot(1, 2, 1)\n",
    "stats.probplot(normal_data, dist=\"norm\", plot=plt)\n",
    "plt.title(\"Q-Q Plot of Normal Data\")\n",
    "\n",
    "# 균등분포 데이터의 Q-Q Plot\n",
    "plt.subplot(1, 2, 2)\n",
    "stats.probplot(uniform_data, dist=\"norm\", plot=plt)\n",
    "plt.title(\"Q-Q Plot of Uniform Data\")\n",
    "\n",
    "plt.tight_layout()\n",
    "plt.show()"
   ]
  },
  {
   "cell_type": "code",
   "execution_count": 16,
   "metadata": {},
   "outputs": [],
   "source": [
    "import numpy as np\n",
    "from scipy import stats\n",
    "\n",
    "np.random.seed(0)\n",
    "\n",
    "# 1. 등분산을 만족하는 두 그룹 (분산이 비슷함)\n",
    "group1_equal_var = np.random.normal(loc=5, scale=2, size=50)\n",
    "group2_equal_var = np.random.normal(loc=5, scale=2.2, size=50)\n",
    "\n",
    "# 2. 이분산을 만족하는 두 그룹 (분산이 다름)\n",
    "group1_unequal_var = np.random.normal(loc=5, scale=2, size=50)\n",
    "group2_unequal_var = np.random.normal(loc=5, scale=4, size=50)\n",
    "\n",
    "# 3. 정규분포를 따르지 않는 데이터 (비교용)\n",
    "group3_non_normal = np.random.uniform(low=0, high=10, size=50)"
   ]
  },
  {
   "cell_type": "code",
   "execution_count": 17,
   "metadata": {},
   "outputs": [
    {
     "name": "stdout",
     "output_type": "stream",
     "text": [
      "-- Levene's Test on Equal Variance Data --\n",
      "Statistic: 1.0442, p-value: 0.3094\n",
      "귀무가설 기각 실패: 그룹 간 분산은 동일합니다 (등분산성).\n",
      "\n",
      "-- Levene's Test on Unequal Variance Data --\n",
      "Statistic: 21.8024, p-value: 0.0000\n",
      "귀무가설 기각: 그룹 간 분산은 다릅니다 (이분산성).\n"
     ]
    }
   ],
   "source": [
    "# 등분산 데이터에 대한 검정\n",
    "levene_stat_equal, levene_p_equal = stats.levene(group1_equal_var, group2_equal_var)\n",
    "print(\"-- Levene's Test on Equal Variance Data --\")\n",
    "print(f\"Statistic: {levene_stat_equal:.4f}, p-value: {levene_p_equal:.4f}\")\n",
    "if levene_p_equal > 0.05:\n",
    "    print(\"귀무가설 기각 실패: 그룹 간 분산은 동일합니다 (등분산성).\")\n",
    "else:\n",
    "    print(\"귀무가설 기각: 그룹 간 분산은 다릅니다 (이분산성).\")\n",
    "\n",
    "# 이분산 데이터에 대한 검정\n",
    "levene_stat_unequal, levene_p_unequal = stats.levene(group1_unequal_var, group2_unequal_var)\n",
    "print(\"\\n-- Levene's Test on Unequal Variance Data --\")\n",
    "print(f\"Statistic: {levene_stat_unequal:.4f}, p-value: {levene_p_unequal:.4f}\")\n",
    "if levene_p_unequal > 0.05:\n",
    "    print(\"귀무가설 기각 실패: 그룹 간 분산은 동일합니다 (등분산성).\")\n",
    "else:\n",
    "    print(\"귀무가설 기각: 그룹 간 분산은 다릅니다 (이분산성).\")"
   ]
  },
  {
   "cell_type": "code",
   "execution_count": 18,
   "metadata": {},
   "outputs": [
    {
     "name": "stdout",
     "output_type": "stream",
     "text": [
      "-- Bartlett's Test on Equal Variance Data --\n",
      "Statistic: 1.3237, p-value: 0.2499\n",
      "\n",
      "-- Bartlett's Test on Unequal Variance Data --\n",
      "Statistic: 20.2517, p-value: 0.0000\n",
      "\n",
      "-- Tests on Non-normal Data --\n",
      "Levene p-value: 0.0001\n",
      "Bartlett p-value: 0.0093\n"
     ]
    }
   ],
   "source": [
    "# 등분산 데이터에 대한 검정\n",
    "bartlett_stat_equal, bartlett_p_equal = stats.bartlett(group1_equal_var, group2_equal_var)\n",
    "print(\"-- Bartlett's Test on Equal Variance Data --\")\n",
    "print(f\"Statistic: {bartlett_stat_equal:.4f}, p-value: {bartlett_p_equal:.4f}\")\n",
    "\n",
    "# 이분산 데이터에 대한 검정\n",
    "bartlett_stat_unequal, bartlett_p_unequal = stats.bartlett(group1_unequal_var, group2_unequal_var)\n",
    "print(\"\\n-- Bartlett's Test on Unequal Variance Data --\")\n",
    "print(f\"Statistic: {bartlett_stat_unequal:.4f}, p-value: {bartlett_p_unequal:.4f}\")\n",
    "\n",
    "# 정규분포를 따르지 않는 데이터에 대한 검정 (Levene과 비교)\n",
    "levene_stat_nn, levene_p_nn = stats.levene(group1_equal_var, group3_non_normal)\n",
    "bartlett_stat_nn, bartlett_p_nn = stats.bartlett(group1_equal_var, group3_non_normal)\n",
    "print(\"\\n-- Tests on Non-normal Data --\")\n",
    "print(f\"Levene p-value: {levene_p_nn:.4f}\") # 등분산으로 판단 (올바른 판단)\n",
    "print(f\"Bartlett p-value: {bartlett_p_nn:.4f}\") # 이분산으로 판단 (잘못된 판단 가능성)"
   ]
  },
  {
   "cell_type": "code",
   "execution_count": null,
   "metadata": {},
   "outputs": [],
   "source": []
  },
  {
   "cell_type": "code",
   "execution_count": null,
   "metadata": {},
   "outputs": [],
   "source": []
  },
  {
   "cell_type": "code",
   "execution_count": null,
   "metadata": {},
   "outputs": [],
   "source": []
  },
  {
   "cell_type": "code",
   "execution_count": null,
   "metadata": {},
   "outputs": [],
   "source": []
  }
 ],
 "metadata": {
  "kernelspec": {
   "display_name": "Python 3",
   "language": "python",
   "name": "python3"
  },
  "language_info": {
   "codemirror_mode": {
    "name": "ipython",
    "version": 3
   },
   "file_extension": ".py",
   "mimetype": "text/x-python",
   "name": "python",
   "nbconvert_exporter": "python",
   "pygments_lexer": "ipython3",
   "version": "3.7.1"
  }
 },
 "nbformat": 4,
 "nbformat_minor": 4
}
