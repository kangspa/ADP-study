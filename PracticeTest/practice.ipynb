{
 "cells": [
  {
   "cell_type": "code",
   "execution_count": null,
   "metadata": {},
   "outputs": [],
   "source": [
    "# 1.3. 데이터 시각화 - 주요 차트 내용 중 박스 플롯 hue 구현 예제 코드\n",
    "\n",
    "import matplotlib.pyplot as plt\n",
    "import seaborn as sns\n",
    "import pandas as pd\n",
    "import numpy as np\n",
    "\n",
    "# Seaborn 내장 데이터셋 로드\n",
    "tips = sns.load_dataset('tips')\n",
    "\n",
    "# 데이터 준비\n",
    "days = tips['day'].unique()\n",
    "smokers = tips['smoker'].unique()\n",
    "\n",
    "plt.figure(figsize=(8, 5))\n",
    "\n",
    "# 각 day와 smoker 그룹별로 박스플롯 그리기\n",
    "positions = []\n",
    "data_to_plot = []\n",
    "pos = 1\n",
    "\n",
    "for day in sorted(days):  # day 순서대로\n",
    "    for smoker in sorted(smokers):  # smoker = No, Yes\n",
    "        group = tips[(tips['day'] == day) & (tips['smoker'] == smoker)]['total_bill']\n",
    "        data_to_plot.append(group)\n",
    "        positions.append(pos)\n",
    "        pos += 1\n",
    "    pos += 1  # day 사이 간격\n",
    "\n",
    "# 박스플롯 그리기\n",
    "bp = plt.boxplot(data_to_plot, positions=positions, widths=0.6, patch_artist=True)\n",
    "\n",
    "# 색상 채우기 (smoker 구분)\n",
    "colors = ['lightblue', 'lightcoral'] * len(days)\n",
    "for patch, color in zip(bp['boxes'], colors):\n",
    "    patch.set_facecolor(color)\n",
    "\n",
    "# x축 레이블: day 가운데 배치\n",
    "xticks = []\n",
    "xlabels = []\n",
    "for i, day in enumerate(sorted(days)):\n",
    "    xticks.append((i* (len(smokers)+1)) + 1.5)  # day 그룹의 중앙\n",
    "    xlabels.append(day)\n",
    "\n",
    "plt.xticks(xticks, xlabels)\n",
    "plt.xlabel(\"day\")\n",
    "plt.ylabel(\"total_bill\")\n",
    "plt.title('Total Bill Distribution by Day and Smoker')\n",
    "\n",
    "# 범례 추가\n",
    "from matplotlib.patches import Patch\n",
    "legend_handles = [Patch(color='lightblue', label='No'),\n",
    "                  Patch(color='lightcoral', label='Yes')]\n",
    "plt.legend(handles=legend_handles, title=\"smoker\")\n",
    "\n",
    "plt.show()"
   ]
  },
  {
   "cell_type": "code",
   "execution_count": 49,
   "metadata": {},
   "outputs": [
    {
     "data": {
      "image/png": "[encoded data removed]",
      "text/plain": [
       "<Figure size 576x432 with 2 Axes>"
      ]
     },
     "metadata": {
      "needs_background": "light"
     },
     "output_type": "display_data"
    }
   ],
   "source": [
    "# 1.3. 데이터 시각화 - 주요 차트 내용 중 heatmap 예제 코드\n",
    "\n",
    "import matplotlib.pyplot as plt\n",
    "import seaborn as sns\n",
    "import pandas as pd\n",
    "import numpy as np\n",
    "\n",
    "# Seaborn 내장 데이터셋 로드\n",
    "iris = sns.load_dataset('iris')\n",
    "\n",
    "# 수치형 변수 간 상관계수 계산\n",
    "corr = iris.corr()\n",
    "\n",
    "# 히트맵 그리기\n",
    "fig, ax = plt.subplots(figsize=(8, 6))\n",
    "\n",
    "# imshow로 색상 맵 시각화\n",
    "cax = ax.imshow(corr.values, cmap='coolwarm', vmin=-1, vmax=1)\n",
    "\n",
    "# 컬럼 이름으로 x, y축 라벨 설정\n",
    "ax.set_xticks(np.arange(len(corr.columns)))\n",
    "ax.set_yticks(np.arange(len(corr.columns)))\n",
    "ax.set_xticklabels(corr.columns, rotation=45, ha='right')\n",
    "ax.set_yticklabels(corr.columns)\n",
    "\n",
    "# 각 셀에 상관계수 값 표시\n",
    "for i in range(len(corr.columns)):\n",
    "    for j in range(len(corr.columns)):\n",
    "        ax.text(j, i, f\"{corr.values[i, j]:.2f}\", ha='center', va='center', color='black')\n",
    "\n",
    "# 컬러바 추가\n",
    "fig.colorbar(cax)\n",
    "\n",
    "plt.title('Correlation Matrix of Iris Features')\n",
    "plt.tight_layout()\n",
    "plt.show()\n"
   ]
  },
  {
   "cell_type": "code",
   "execution_count": 1,
   "metadata": {},
   "outputs": [],
   "source": [
    "import warnings\n",
    "warnings.filterwarnings('ignore')"
   ]
  },
  {
   "cell_type": "code",
   "execution_count": 1,
   "metadata": {},
   "outputs": [
    {
     "name": "stdout",
     "output_type": "stream",
     "text": [
      "--- One-sample Z-test ---\n",
      "Z-statistic: 3.8637\n",
      "P-value: 0.0001\n",
      "귀무가설 기각: 프로그램은 IQ에 유의미한 영향을 미쳤습니다.\n"
     ]
    }
   ],
   "source": [
    "from statsmodels.stats.weightstats import ztest\n",
    "import numpy as np\n",
    "\n",
    "# 표본 데이터 생성 (실제로는 측정된 데이터 사용)\n",
    "np.random.seed(0)\n",
    "sample_iq = np.random.normal(loc=105, scale=15, size=30)\n",
    "\n",
    "# 모집단 평균 (기준값)\n",
    "pop_mean = 100\n",
    "\n",
    "# 단일표본 Z-검정 수행\n",
    "# value: 귀무가설에서의 평균 (μ₀)\n",
    "# ddof=0: 모집단 표준편차를 사용한다는 의미 (기본값)\n",
    "z_statistic, p_value = ztest(sample_iq, value=pop_mean)\n",
    "\n",
    "print(\"--- One-sample Z-test ---\")\n",
    "print(f\"Z-statistic: {z_statistic:.4f}\")\n",
    "print(f\"P-value: {p_value:.4f}\")\n",
    "\n",
    "if p_value < 0.05:\n",
    "    print(\"귀무가설 기각: 프로그램은 IQ에 유의미한 영향을 미쳤습니다.\")\n",
    "else:\n",
    "    print(\"귀무가설 기각 실패: 프로그램의 영향이 유의미하지 않습니다.\")"
   ]
  },
  {
   "cell_type": "code",
   "execution_count": 2,
   "metadata": {},
   "outputs": [
    {
     "name": "stdout",
     "output_type": "stream",
     "text": [
      "--- Two-sample Z-test ---\n",
      "Z-statistic: 1.2027\n",
      "P-value: 0.2291\n",
      "귀무가설 기각 실패: 두 도시의 평균 키는 차이가 없습니다.\n"
     ]
    }
   ],
   "source": [
    "# 표본 데이터 생성\n",
    "np.random.seed(1)\n",
    "sample_a_height = np.random.normal(loc=175, scale=5, size=50)\n",
    "sample_b_height = np.random.normal(loc=173, scale=6, size=60)\n",
    "\n",
    "# 독립표본 Z-검정 수행\n",
    "# value=0: 두 평균의 차이가 0이라는 귀무가설\n",
    "z_statistic, p_value = ztest(sample_a_height, sample_b_height, value=0)\n",
    "\n",
    "print(\"--- Two-sample Z-test ---\")\n",
    "print(f\"Z-statistic: {z_statistic:.4f}\")\n",
    "print(f\"P-value: {p_value:.4f}\")\n",
    "\n",
    "if p_value < 0.05:\n",
    "    print(\"귀무가설 기각: 두 도시의 평균 키는 유의미하게 다릅니다.\")\n",
    "else:\n",
    "    print(\"귀무가설 기각 실패: 두 도시의 평균 키는 차이가 없습니다.\")"
   ]
  },
  {
   "cell_type": "code",
   "execution_count": 3,
   "metadata": {},
   "outputs": [
    {
     "name": "stdout",
     "output_type": "stream",
     "text": [
      "--- Z-test for two proportions ---\n",
      "Z-statistic: -3.0577\n",
      "P-value: 0.0022\n",
      "귀무가설 기각: 광고 캠페인 전후의 인지도는 유의미하게 다릅니다.\n"
     ]
    }
   ],
   "source": [
    "from statsmodels.stats.proportion import proportions_ztest\n",
    "\n",
    "# 데이터 설정\n",
    "count = np.array([150, 240]) # 각 그룹에서 성공(인지)한 횟수\n",
    "nobs = np.array([1000, 1200]) # 각 그룹의 전체 관측(표본) 수\n",
    "\n",
    "# 두 집단 비율 Z-검정 수행\n",
    "z_statistic, p_value = proportions_ztest(count, nobs, value=0)\n",
    "\n",
    "print(\"--- Z-test for two proportions ---\")\n",
    "print(f\"Z-statistic: {z_statistic:.4f}\")\n",
    "print(f\"P-value: {p_value:.4f}\")\n",
    "\n",
    "if p_value < 0.05:\n",
    "    print(\"귀무가설 기각: 광고 캠페인 전후의 인지도는 유의미하게 다릅니다.\")\n",
    "else:\n",
    "    print(\"귀무가설 기각 실패: 인지도 차이가 유의미하지 않습니다.\")"
   ]
  },
  {
   "cell_type": "code",
   "execution_count": null,
   "metadata": {},
   "outputs": [],
   "source": []
  },
  {
   "cell_type": "code",
   "execution_count": null,
   "metadata": {},
   "outputs": [],
   "source": []
  },
  {
   "cell_type": "code",
   "execution_count": null,
   "metadata": {},
   "outputs": [],
   "source": []
  },
  {
   "cell_type": "code",
   "execution_count": null,
   "metadata": {},
   "outputs": [],
   "source": []
  },
  {
   "cell_type": "code",
   "execution_count": null,
   "metadata": {},
   "outputs": [],
   "source": []
  },
  {
   "cell_type": "code",
   "execution_count": null,
   "metadata": {},
   "outputs": [],
   "source": []
  },
  {
   "cell_type": "code",
   "execution_count": null,
   "metadata": {},
   "outputs": [],
   "source": []
  },
  {
   "cell_type": "code",
   "execution_count": null,
   "metadata": {},
   "outputs": [],
   "source": []
  },
  {
   "cell_type": "code",
   "execution_count": null,
   "metadata": {},
   "outputs": [],
   "source": []
  },
  {
   "cell_type": "code",
   "execution_count": null,
   "metadata": {},
   "outputs": [],
   "source": []
  },
  {
   "cell_type": "code",
   "execution_count": null,
   "metadata": {},
   "outputs": [],
   "source": []
  },
  {
   "cell_type": "code",
   "execution_count": null,
   "metadata": {},
   "outputs": [],
   "source": []
  },
  {
   "cell_type": "code",
   "execution_count": null,
   "metadata": {},
   "outputs": [],
   "source": []
  },
  {
   "cell_type": "code",
   "execution_count": null,
   "metadata": {},
   "outputs": [],
   "source": []
  },
  {
   "cell_type": "code",
   "execution_count": null,
   "metadata": {},
   "outputs": [],
   "source": []
  }
 ],
 "metadata": {
  "kernelspec": {
   "display_name": "Python 3",
   "language": "python",
   "name": "python3"
  },
  "language_info": {
   "codemirror_mode": {
    "name": "ipython",
    "version": 3
   },
   "file_extension": ".py",
   "mimetype": "text/x-python",
   "name": "python",
   "nbconvert_exporter": "python",
   "pygments_lexer": "ipython3",
   "version": "3.7.1"
  }
 },
 "nbformat": 4,
 "nbformat_minor": 4
}
