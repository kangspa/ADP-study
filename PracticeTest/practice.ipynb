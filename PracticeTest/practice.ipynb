{
 "cells": [
  {
   "cell_type": "code",
   "execution_count": null,
   "metadata": {},
   "outputs": [],
   "source": [
    "# 1.3. 데이터 시각화 - 주요 차트 내용 중 박스 플롯 hue 구현 예제 코드\n",
    "\n",
    "import matplotlib.pyplot as plt\n",
    "import seaborn as sns\n",
    "import pandas as pd\n",
    "import numpy as np\n",
    "\n",
    "# Seaborn 내장 데이터셋 로드\n",
    "tips = sns.load_dataset('tips')\n",
    "\n",
    "# 데이터 준비\n",
    "days = tips['day'].unique()\n",
    "smokers = tips['smoker'].unique()\n",
    "\n",
    "plt.figure(figsize=(8, 5))\n",
    "\n",
    "# 각 day와 smoker 그룹별로 박스플롯 그리기\n",
    "positions = []\n",
    "data_to_plot = []\n",
    "pos = 1\n",
    "\n",
    "for day in sorted(days):  # day 순서대로\n",
    "    for smoker in sorted(smokers):  # smoker = No, Yes\n",
    "        group = tips[(tips['day'] == day) & (tips['smoker'] == smoker)]['total_bill']\n",
    "        data_to_plot.append(group)\n",
    "        positions.append(pos)\n",
    "        pos += 1\n",
    "    pos += 1  # day 사이 간격\n",
    "\n",
    "# 박스플롯 그리기\n",
    "bp = plt.boxplot(data_to_plot, positions=positions, widths=0.6, patch_artist=True)\n",
    "\n",
    "# 색상 채우기 (smoker 구분)\n",
    "colors = ['lightblue', 'lightcoral'] * len(days)\n",
    "for patch, color in zip(bp['boxes'], colors):\n",
    "    patch.set_facecolor(color)\n",
    "\n",
    "# x축 레이블: day 가운데 배치\n",
    "xticks = []\n",
    "xlabels = []\n",
    "for i, day in enumerate(sorted(days)):\n",
    "    xticks.append((i* (len(smokers)+1)) + 1.5)  # day 그룹의 중앙\n",
    "    xlabels.append(day)\n",
    "\n",
    "plt.xticks(xticks, xlabels)\n",
    "plt.xlabel(\"day\")\n",
    "plt.ylabel(\"total_bill\")\n",
    "plt.title('Total Bill Distribution by Day and Smoker')\n",
    "\n",
    "# 범례 추가\n",
    "from matplotlib.patches import Patch\n",
    "legend_handles = [Patch(color='lightblue', label='No'),\n",
    "                  Patch(color='lightcoral', label='Yes')]\n",
    "plt.legend(handles=legend_handles, title=\"smoker\")\n",
    "\n",
    "plt.show()"
   ]
  },
  {
   "cell_type": "code",
   "execution_count": 49,
   "metadata": {},
   "outputs": [
    {
     "data": {
      "image/png": "[encoded data removed]",
      "text/plain": [
       "<Figure size 576x432 with 2 Axes>"
      ]
     },
     "metadata": {
      "needs_background": "light"
     },
     "output_type": "display_data"
    }
   ],
   "source": [
    "# 1.3. 데이터 시각화 - 주요 차트 내용 중 heatmap 예제 코드\n",
    "\n",
    "import matplotlib.pyplot as plt\n",
    "import seaborn as sns\n",
    "import pandas as pd\n",
    "import numpy as np\n",
    "\n",
    "# Seaborn 내장 데이터셋 로드\n",
    "iris = sns.load_dataset('iris')\n",
    "\n",
    "# 수치형 변수 간 상관계수 계산\n",
    "corr = iris.corr()\n",
    "\n",
    "# 히트맵 그리기\n",
    "fig, ax = plt.subplots(figsize=(8, 6))\n",
    "\n",
    "# imshow로 색상 맵 시각화\n",
    "cax = ax.imshow(corr.values, cmap='coolwarm', vmin=-1, vmax=1)\n",
    "\n",
    "# 컬럼 이름으로 x, y축 라벨 설정\n",
    "ax.set_xticks(np.arange(len(corr.columns)))\n",
    "ax.set_yticks(np.arange(len(corr.columns)))\n",
    "ax.set_xticklabels(corr.columns, rotation=45, ha='right')\n",
    "ax.set_yticklabels(corr.columns)\n",
    "\n",
    "# 각 셀에 상관계수 값 표시\n",
    "for i in range(len(corr.columns)):\n",
    "    for j in range(len(corr.columns)):\n",
    "        ax.text(j, i, f\"{corr.values[i, j]:.2f}\", ha='center', va='center', color='black')\n",
    "\n",
    "# 컬러바 추가\n",
    "fig.colorbar(cax)\n",
    "\n",
    "plt.title('Correlation Matrix of Iris Features')\n",
    "plt.tight_layout()\n",
    "plt.show()\n"
   ]
  },
  {
   "cell_type": "code",
   "execution_count": 1,
   "metadata": {},
   "outputs": [],
   "source": [
    "import warnings\n",
    "warnings.filterwarnings('ignore')"
   ]
  },
  {
   "cell_type": "code",
   "execution_count": 1,
   "metadata": {},
   "outputs": [
    {
     "name": "stdout",
     "output_type": "stream",
     "text": [
      "--- One-sample Z-test ---\n",
      "Z-statistic: 3.8637\n",
      "P-value: 0.0001\n",
      "귀무가설 기각: 프로그램은 IQ에 유의미한 영향을 미쳤습니다.\n"
     ]
    }
   ],
   "source": [
    "from statsmodels.stats.weightstats import ztest\n",
    "import numpy as np\n",
    "\n",
    "# 표본 데이터 생성 (실제로는 측정된 데이터 사용)\n",
    "np.random.seed(0)\n",
    "sample_iq = np.random.normal(loc=105, scale=15, size=30)\n",
    "\n",
    "# 모집단 평균 (기준값)\n",
    "pop_mean = 100\n",
    "\n",
    "# 단일표본 Z-검정 수행\n",
    "# value: 귀무가설에서의 평균 (μ₀)\n",
    "# ddof=0: 모집단 표준편차를 사용한다는 의미 (기본값)\n",
    "z_statistic, p_value = ztest(sample_iq, value=pop_mean)\n",
    "\n",
    "print(\"--- One-sample Z-test ---\")\n",
    "print(f\"Z-statistic: {z_statistic:.4f}\")\n",
    "print(f\"P-value: {p_value:.4f}\")\n",
    "\n",
    "if p_value < 0.05:\n",
    "    print(\"귀무가설 기각: 프로그램은 IQ에 유의미한 영향을 미쳤습니다.\")\n",
    "else:\n",
    "    print(\"귀무가설 기각 실패: 프로그램의 영향이 유의미하지 않습니다.\")"
   ]
  },
  {
   "cell_type": "code",
   "execution_count": 2,
   "metadata": {},
   "outputs": [
    {
     "name": "stdout",
     "output_type": "stream",
     "text": [
      "--- Two-sample Z-test ---\n",
      "Z-statistic: 1.2027\n",
      "P-value: 0.2291\n",
      "귀무가설 기각 실패: 두 도시의 평균 키는 차이가 없습니다.\n"
     ]
    }
   ],
   "source": [
    "# 표본 데이터 생성\n",
    "np.random.seed(1)\n",
    "sample_a_height = np.random.normal(loc=175, scale=5, size=50)\n",
    "sample_b_height = np.random.normal(loc=173, scale=6, size=60)\n",
    "\n",
    "# 독립표본 Z-검정 수행\n",
    "# value=0: 두 평균의 차이가 0이라는 귀무가설\n",
    "z_statistic, p_value = ztest(sample_a_height, sample_b_height, value=0)\n",
    "\n",
    "print(\"--- Two-sample Z-test ---\")\n",
    "print(f\"Z-statistic: {z_statistic:.4f}\")\n",
    "print(f\"P-value: {p_value:.4f}\")\n",
    "\n",
    "if p_value < 0.05:\n",
    "    print(\"귀무가설 기각: 두 도시의 평균 키는 유의미하게 다릅니다.\")\n",
    "else:\n",
    "    print(\"귀무가설 기각 실패: 두 도시의 평균 키는 차이가 없습니다.\")"
   ]
  },
  {
   "cell_type": "code",
   "execution_count": 3,
   "metadata": {},
   "outputs": [
    {
     "name": "stdout",
     "output_type": "stream",
     "text": [
      "--- Z-test for two proportions ---\n",
      "Z-statistic: -3.0577\n",
      "P-value: 0.0022\n",
      "귀무가설 기각: 광고 캠페인 전후의 인지도는 유의미하게 다릅니다.\n"
     ]
    }
   ],
   "source": [
    "from statsmodels.stats.proportion import proportions_ztest\n",
    "\n",
    "# 데이터 설정\n",
    "count = np.array([150, 240]) # 각 그룹에서 성공(인지)한 횟수\n",
    "nobs = np.array([1000, 1200]) # 각 그룹의 전체 관측(표본) 수\n",
    "\n",
    "# 두 집단 비율 Z-검정 수행\n",
    "z_statistic, p_value = proportions_ztest(count, nobs, value=0)\n",
    "\n",
    "print(\"--- Z-test for two proportions ---\")\n",
    "print(f\"Z-statistic: {z_statistic:.4f}\")\n",
    "print(f\"P-value: {p_value:.4f}\")\n",
    "\n",
    "if p_value < 0.05:\n",
    "    print(\"귀무가설 기각: 광고 캠페인 전후의 인지도는 유의미하게 다릅니다.\")\n",
    "else:\n",
    "    print(\"귀무가설 기각 실패: 인지도 차이가 유의미하지 않습니다.\")"
   ]
  },
  {
   "cell_type": "code",
   "execution_count": 4,
   "metadata": {},
   "outputs": [
    {
     "name": "stdout",
     "output_type": "stream",
     "text": [
      "--- F-test for Equality of Variances ---\n",
      "Variance of Line A: 19.0213\n",
      "Variance of Line B: 95.0513\n",
      "F-statistic: 4.9971\n",
      "p-value: 0.0010\n",
      "귀무가설 기각: 두 집단의 분산은 유의미하게 다릅니다.\n"
     ]
    }
   ],
   "source": [
    "import numpy as np\n",
    "from scipy.stats import f\n",
    "\n",
    "# 표본 데이터 생성\n",
    "np.random.seed(0)\n",
    "line_a_weights = np.random.normal(loc=100, scale=5, size=20)\n",
    "line_b_weights = np.random.normal(loc=100, scale=8, size=20)\n",
    "\n",
    "# 1. 각 그룹의 분산 계산\n",
    "var_a = np.var(line_a_weights, ddof=1)\n",
    "var_b = np.var(line_b_weights, ddof=1)\n",
    "\n",
    "# 2. F-통계량 계산 (큰 분산 / 작은 분산)\n",
    "if var_a > var_b:\n",
    "    f_statistic = var_a / var_b\n",
    "    dfn = len(line_a_weights) - 1 # 분자의 자유도\n",
    "    dfd = len(line_b_weights) - 1 # 분모의 자유도\n",
    "else:\n",
    "    f_statistic = var_b / var_a\n",
    "    dfn = len(line_b_weights) - 1\n",
    "    dfd = len(line_a_weights) - 1\n",
    "\n",
    "# 3. p-value 계산 (양측 검정이므로 꼬리 확률에 2를 곱함)\n",
    "# F.cdf는 왼쪽 꼬리 확률, F.sf는 오른쪽 꼬리 확률 (1 - cdf)\n",
    "p_value = f.sf(f_statistic, dfn, dfd) * 2\n",
    "\n",
    "print(\"--- F-test for Equality of Variances ---\")\n",
    "print(f\"Variance of Line A: {var_a:.4f}\")\n",
    "print(f\"Variance of Line B: {var_b:.4f}\")\n",
    "print(f\"F-statistic: {f_statistic:.4f}\")\n",
    "print(f\"p-value: {p_value:.4f}\")\n",
    "\n",
    "if p_value < 0.05:\n",
    "    print(\"귀무가설 기각: 두 집단의 분산은 유의미하게 다릅니다.\")\n",
    "else:\n",
    "    print(\"귀무가설 기각 실패: 두 집단의 분산은 차이가 없습니다.\")"
   ]
  },
  {
   "cell_type": "code",
   "execution_count": 5,
   "metadata": {},
   "outputs": [
    {
     "name": "stdout",
     "output_type": "stream",
     "text": [
      "\n",
      "--- F-test in One-way ANOVA ---\n",
      "F-statistic: 32.6667\n",
      "p-value: 0.0000\n",
      "귀무가설 기각: 적어도 한 비료의 효과는 다른 비료와 다릅니다.\n"
     ]
    }
   ],
   "source": [
    "from scipy.stats import f_oneway\n",
    "\n",
    "# 표본 데이터 생성\n",
    "fertilizer_a = [20, 22, 19, 21, 23]\n",
    "fertilizer_b = [25, 27, 26, 24, 28]\n",
    "fertilizer_c = [18, 20, 19, 17, 16]\n",
    "\n",
    "# 일원배치 분산분석(One-way ANOVA) 수행\n",
    "f_statistic, p_value = f_oneway(fertilizer_a, fertilizer_b, fertilizer_c)\n",
    "\n",
    "print(\"\\n--- F-test in One-way ANOVA ---\")\n",
    "print(f\"F-statistic: {f_statistic:.4f}\")\n",
    "print(f\"p-value: {p_value:.4f}\")\n",
    "\n",
    "if p_value < 0.05:\n",
    "    print(\"귀무가설 기각: 적어도 한 비료의 효과는 다른 비료와 다릅니다.\")\n",
    "else:\n",
    "    print(\"귀무가설 기각 실패: 비료 종류에 따른 평균 키 차이가 없습니다.\")"
   ]
  },
  {
   "cell_type": "code",
   "execution_count": 9,
   "metadata": {},
   "outputs": [
    {
     "name": "stdout",
     "output_type": "stream",
     "text": [
      "--- One-way ANOVA (scipy) ---\n",
      "F-statistic: 18.3175\n",
      "P-value: 0.0002\n",
      "귀무가설 기각: 교육 방법에 따른 평균 점수 차이가 유의미합니다.\n",
      "\n",
      "--- Tukey's HSD Post-hoc Test ---\n",
      " Multiple Comparison of Means - Tukey HSD, FWER=0.05 \n",
      "=====================================================\n",
      "group1 group2 meandiff p-adj   lower    upper  reject\n",
      "-----------------------------------------------------\n",
      "     A      B     -8.6 0.0104 -15.0692 -2.1308   True\n",
      "     A      C      6.0 0.0701  -0.4692 12.4692  False\n",
      "     B      C     14.6 0.0002   8.1308 21.0692   True\n",
      "-----------------------------------------------------\n"
     ]
    }
   ],
   "source": [
    "import pandas as pd\n",
    "from scipy.stats import f_oneway\n",
    "from statsmodels.stats.multicomp import pairwise_tukeyhsd\n",
    "\n",
    "# 데이터 생성\n",
    "method_a = [85, 88, 79, 92, 84]\n",
    "method_b = [75, 78, 81, 72, 79]\n",
    "method_c = [90, 94, 88, 91, 95]\n",
    "\n",
    "# 1. ANOVA 검정 (scipy)\n",
    "f_statistic, p_value = f_oneway(method_a, method_b, method_c)\n",
    "print(\"--- One-way ANOVA (scipy) ---\")\n",
    "print(f\"F-statistic: {f_statistic:.4f}\")\n",
    "print(f\"P-value: {p_value:.4f}\")\n",
    "\n",
    "if p_value < 0.05:\n",
    "    print(\"귀무가설 기각: 교육 방법에 따른 평균 점수 차이가 유의미합니다.\")\n",
    "else:\n",
    "    print(\"귀무가설 기각 실패: 평균 점수 차이가 유의미하지 않습니다.\")\n",
    "\n",
    "# 2. 사후 분석 (Tukey's HSD)\n",
    "# 데이터를 long format으로 변환\n",
    "df = pd.DataFrame({'score': method_a + method_b + method_c,\n",
    "                    'group': ['A'] * 5 + ['B'] * 5 + ['C'] * 5})\n",
    "\n",
    "tukey_result = pairwise_tukeyhsd(endog=df['score'], groups=df['group'], alpha=0.05)\n",
    "print(\"\\n--- Tukey's HSD Post-hoc Test ---\")\n",
    "print(tukey_result)"
   ]
  },
  {
   "cell_type": "code",
   "execution_count": 19,
   "metadata": {},
   "outputs": [
    {
     "name": "stdout",
     "output_type": "stream",
     "text": [
      "--- Two-way ANOVA (statsmodels) ---\n",
      "                       sum_sq    df         F    PR(>F)\n",
      "C(Blend)             2.041667   1.0  0.003768  0.951730\n",
      "C(Crop)           2736.583333   2.0  2.525235  0.107978\n",
      "C(Blend):C(Crop)  2360.083333   2.0  2.177813  0.142223\n",
      "Residual          9753.250000  18.0       NaN       NaN\n",
      "\n",
      "--- Two-way ANOVA (pingouin) ---\n",
      "         Source           SS  DF           MS         F     p-unc       np2\n",
      "0         Blend     2.041667   1     2.041667  0.003768  0.951730  0.000209\n",
      "1          Crop  2736.583333   2  1368.291667  2.525235  0.107978  0.219105\n",
      "2  Blend * Crop  2360.083333   2  1180.041667  2.177813  0.142223  0.194834\n",
      "3      Residual  9753.250000  18   541.847222       NaN       NaN       NaN\n"
     ]
    }
   ],
   "source": [
    "import statsmodels.api as sm\n",
    "from statsmodels.formula.api import ols\n",
    "import pingouin as pg\n",
    "\n",
    "# 데이터 불러오기\n",
    "df_two_way = pg.read_dataset('anova2')\n",
    "\n",
    "# 1. 이원배치 분산분석 (statsmodels)\n",
    "# C(Blend), C(Crop), 그리고 상호작용항 C(Blend):C(Crop)\n",
    "model = ols('Yield ~ C(Blend) + C(Crop) + C(Blend):C(Crop)', data=df_two_way).fit()\n",
    "anova_table_sm = sm.stats.anova_lm(model, typ=2)\n",
    "print(\"--- Two-way ANOVA (statsmodels) ---\")\n",
    "print(anova_table_sm)\n",
    "'''\n",
    "--- Two-way ANOVA (statsmodels) ---\n",
    "                       sum_sq    df         F    PR(>F)\n",
    "C(Blend)             2.041667   1.0  0.003768  0.951730\n",
    "C(Crop)           2736.583333   2.0  2.525235  0.107978\n",
    "C(Blend):C(Crop)  2360.083333   2.0  2.177813  0.142223\n",
    "Residual          9753.250000  18.0       NaN       NaN\n",
    "'''\n",
    "\n",
    "# 2. 이원배치 분산분석 (pingouin)\n",
    "print(\"\\n--- Two-way ANOVA (pingouin) ---\")\n",
    "anova_table_pg = pg.anova(data=df_two_way, dv='Yield', between=['Blend', 'Crop'], detailed=True)\n",
    "print(anova_table_pg)\n",
    "'''\n",
    "--- Two-way ANOVA (pingouin) ---\n",
    "         Source           SS  DF           MS         F     p-unc       np2\n",
    "0         Blend     2.041667   1     2.041667  0.003768  0.951730  0.000209\n",
    "1          Crop  2736.583333   2  1368.291667  2.525235  0.107978  0.219105\n",
    "2  Blend * Crop  2360.083333   2  1180.041667  2.177813  0.142223  0.194834\n",
    "3      Residual  9753.250000  18   541.847222       NaN       NaN       NaN\n",
    "'''"
   ]
  },
  {
   "cell_type": "code",
   "execution_count": 20,
   "metadata": {},
   "outputs": [
    {
     "name": "stdout",
     "output_type": "stream",
     "text": [
      "Shapiro p-value: 0.6769\n",
      "\n",
      "--- One-sample Wilcoxon Signed-rank Test ---\n",
      "Statistic: 27.5000\n",
      "P-value: 1.0000\n",
      "귀무가설 기각 실패: 쿠키 무게의 중앙값은 50g과 다르다고 할 수 없습니다.\n"
     ]
    }
   ],
   "source": [
    "from scipy.stats import wilcoxon, shapiro\n",
    "\n",
    "sample_weights = [48, 51, 52, 47, 55, 46, 53, 49, 54, 45]\n",
    "pop_median = 50\n",
    "\n",
    "# 정규성 검정 (표본이 작아 정규성을 가정하기 어려움)\n",
    "print(f\"Shapiro p-value: {shapiro(sample_weights).pvalue:.4f}\")\n",
    "\n",
    "# 단일표본 Wilcoxon 검정 수행\n",
    "# 검정은 (x - pop_median)에 대해 수행됨\n",
    "statistic, p_value = wilcoxon([w - pop_median for w in sample_weights])\n",
    "# 또는 scipy 1.7.0+ 에서는 다음과 같이 직접 수행 가능\n",
    "# statistic, p_value = wilcoxon(sample_weights, y=None, alternative='two-sided') # 단, 이 경우 중앙값이 0인지 검정\n",
    "\n",
    "print(\"\\n--- One-sample Wilcoxon Signed-rank Test ---\")\n",
    "print(f\"Statistic: {statistic:.4f}\")\n",
    "print(f\"P-value: {p_value:.4f}\")\n",
    "\n",
    "if p_value < 0.05:\n",
    "    print(\"귀무가설 기각: 쿠키 무게의 중앙값은 50g과 유의미하게 다릅니다.\")\n",
    "else:\n",
    "    print(\"귀무가설 기각 실패: 쿠키 무게의 중앙값은 50g과 다르다고 할 수 없습니다.\")"
   ]
  },
  {
   "cell_type": "code",
   "execution_count": 21,
   "metadata": {},
   "outputs": [
    {
     "name": "stdout",
     "output_type": "stream",
     "text": [
      "Shapiro p-value on differences: 0.0003\n",
      "\n",
      "--- Paired-samples Wilcoxon Signed-rank Test ---\n",
      "Statistic: 55.0000\n",
      "P-value: 0.0010\n",
      "귀무가설 기각: 프로그램은 스트레스 지수를 유의미하게 낮췄습니다.\n"
     ]
    }
   ],
   "source": [
    "stress_before = [8, 7, 9, 6, 8, 7, 9, 5, 8, 7]\n",
    "stress_after = [6, 5, 7, 5, 6, 6, 8, 4, 7, 5]\n",
    "\n",
    "# 차이값의 정규성 검정\n",
    "differences = [b - a for b, a in zip(stress_before, stress_after)]\n",
    "print(f\"Shapiro p-value on differences: {shapiro(differences).pvalue:.4f}\") # 정규성 불만족 가정\n",
    "\n",
    "# 대응표본 Wilcoxon 검정 수행\n",
    "# 대립가설: before > after (차이가 양수), 즉 프로그램이 효과가 있다.\n",
    "# wilcoxon(x, y)는 (x-y)의 중앙값이 0인지 검정. \n",
    "# H1: before > after  =>  before - after > 0 이므로 alternative='greater'\n",
    "statistic, p_value = wilcoxon(stress_before, stress_after, alternative='greater')\n",
    "\n",
    "print(\"\\n--- Paired-samples Wilcoxon Signed-rank Test ---\")\n",
    "print(f\"Statistic: {statistic:.4f}\")\n",
    "print(f\"P-value: {p_value:.4f}\")\n",
    "\n",
    "if p_value < 0.05:\n",
    "    print(\"귀무가설 기각: 프로그램은 스트레스 지수를 유의미하게 낮췄습니다.\")\n",
    "else:\n",
    "    print(\"귀무가설 기각 실패: 프로그램의 효과가 유의미하지 않습니다.\")"
   ]
  },
  {
   "cell_type": "code",
   "execution_count": 29,
   "metadata": {},
   "outputs": [
    {
     "name": "stdout",
     "output_type": "stream",
     "text": [
      "Method A Shapiro p-value: 0.9091\n",
      "Method B Shapiro p-value: 0.0241\n",
      "\n",
      "--- Mann-Whitney U Test ---\n",
      "U-statistic: 80.0000\n",
      "P-value: 0.1985\n",
      "귀무가설 기각 실패: 두 교수법에 따른 점수 분포는 차이가 없습니다.\n",
      "\n",
      "--- One-sided Test (A > B) ---\n",
      "P-value: 0.0993\n"
     ]
    },
    {
     "data": {
      "text/plain": [
       "'\\n--- One-sided Test (A > B) ---\\nP-value: 0.0993\\n'"
      ]
     },
     "execution_count": 29,
     "metadata": {},
     "output_type": "execute_result"
    }
   ],
   "source": [
    "from scipy.stats import mannwhitneyu, shapiro\n",
    "\n",
    "# 표본 데이터 생성\n",
    "# A 교수법은 점수가 약간 높고, B 교수법은 분산이 더 큰 비정규 데이터\n",
    "np.random.seed(1)\n",
    "teaching_method_A = [85, 88, 79, 92, 84, 95, 80, 91, 87, 83]\n",
    "teaching_method_B = np.random.chisquare(df=10, size=12) * 5 + 30 # 비정규 데이터\n",
    "\n",
    "# 정규성 검정\n",
    "print(f\"Method A Shapiro p-value: {shapiro(teaching_method_A).pvalue:.4f}\") # 0.9091\n",
    "print(f\"Method B Shapiro p-value: {shapiro(teaching_method_B).pvalue:.4f}\") # 0.0241, 정규성 불만족\n",
    "\n",
    "# 맨-휘트니 U 검정 수행\n",
    "# H1: 두 그룹의 분포가 다르다 (양측 검정)\n",
    "statistic, p_value = mannwhitneyu(teaching_method_A, teaching_method_B, alternative='two-sided')\n",
    "\n",
    "print(\"\\n--- Mann-Whitney U Test ---\")\n",
    "print(f\"U-statistic: {statistic:.4f}\")\n",
    "print(f\"P-value: {p_value:.4f}\")\n",
    "\n",
    "if p_value < 0.05:\n",
    "    print(\"귀무가설 기각: 두 교수법에 따른 점수 분포는 유의미하게 다릅니다.\")\n",
    "else:\n",
    "    print(\"귀무가설 기각 실패: 두 교수법에 따른 점수 분포는 차이가 없습니다.\")\n",
    "'''\n",
    "--- Mann-Whitney U Test ---\n",
    "U-statistic: 80.0000\n",
    "P-value: 0.1985\n",
    "귀무가설 기각 실패: 두 교수법에 따른 점수 분포는 차이가 없습니다.\n",
    "'''\n",
    "\n",
    "# 단측 검정 예시\n",
    "# H1: A 교수법의 점수가 B 교수법보다 높다 (A > B)\n",
    "stat_greater, p_greater = mannwhitneyu(teaching_method_A, teaching_method_B, alternative='greater')\n",
    "print(\"\\n--- One-sided Test (A > B) ---\")\n",
    "print(f\"P-value: {p_greater:.4f}\")\n",
    "'''\n",
    "--- One-sided Test (A > B) ---\n",
    "P-value: 0.0993\n",
    "'''"
   ]
  },
  {
   "cell_type": "code",
   "execution_count": 23,
   "metadata": {},
   "outputs": [
    {
     "name": "stdout",
     "output_type": "stream",
     "text": [
      "Shapiro p-value: 0.6769\n",
      "\n",
      "--- One-sample Wilcoxon Signed-rank Test ---\n",
      "Statistic: 0.0000\n",
      "P-value: 0.0020\n",
      "귀무가설 기각: 쿠키 무게의 중앙값은 50g과 유의미하게 다릅니다.\n"
     ]
    }
   ],
   "source": [
    "from scipy.stats import wilcoxon, shapiro\n",
    "\n",
    "sample_weights = [48, 51, 52, 47, 55, 46, 53, 49, 54, 45]\n",
    "pop_median = 50\n",
    "\n",
    "# 정규성 검정 (표본이 작아 정규성을 가정하기 어려움)\n",
    "print(f\"Shapiro p-value: {shapiro(sample_weights).pvalue:.4f}\") # 0.6769\n",
    "\n",
    "# 단일표본 Wilcoxon 검정 수행\n",
    "# 검정은 (x - pop_median)에 대해 수행됨\n",
    "statistic, p_value = wilcoxon([w - pop_median for w in sample_weights])\n",
    "# 또는 scipy 1.7.0+ 에서는 다음과 같이 직접 수행 가능\n",
    "statistic, p_value = wilcoxon(sample_weights, y=None, alternative='two-sided') # 단, 이 경우 중앙값이 0인지 검정\n",
    "\n",
    "print(\"\\n--- One-sample Wilcoxon Signed-rank Test ---\")\n",
    "print(f\"Statistic: {statistic:.4f}\")\n",
    "print(f\"P-value: {p_value:.4f}\")\n",
    "\n",
    "if p_value < 0.05:\n",
    "    print(\"귀무가설 기각: 쿠키 무게의 중앙값은 50g과 유의미하게 다릅니다.\")\n",
    "else:\n",
    "    print(\"귀무가설 기각 실패: 쿠키 무게의 중앙값은 50g과 다르다고 할 수 없습니다.\")"
   ]
  },
  {
   "cell_type": "code",
   "execution_count": 30,
   "metadata": {},
   "outputs": [
    {
     "name": "stdout",
     "output_type": "stream",
     "text": [
      "Kruskal-Wallis H statistic: 12.3866\n",
      "P-value: 0.0020\n",
      "귀무가설 기각: 적어도 한 집단의 중앙값은 다른 집단과 통계적으로 유의미한 차이가 있습니다.\n",
      "Dunn's Post-hoc test (Bonferroni correction):\n",
      "          group1    group2    group3\n",
      "group1  1.000000  0.559898  0.001473\n",
      "group2  0.559898  1.000000  0.091180\n",
      "group3  0.001473  0.091180  1.000000\n"
     ]
    }
   ],
   "source": [
    "import numpy as np\n",
    "from scipy.stats import kruskal\n",
    "\n",
    "# 데이터 생성 (세 개의 독립적인 그룹)\n",
    "# 각 그룹이 정규분포를 따르지 않는다고 가정\n",
    "group1 = [7, 8, 8, 9, 10, 11, 12]\n",
    "group2 = [9, 9, 10, 11, 12, 13, 14]\n",
    "group3 = [12, 13, 14, 14, 15, 16, 17]\n",
    "\n",
    "# 크루스칼-왈리스 H 검정 수행\n",
    "statistic, p_value = kruskal(group1, group2, group3)\n",
    "\n",
    "print(f\"Kruskal-Wallis H statistic: {statistic:.4f}\")\n",
    "print(f\"P-value: {p_value:.4f}\")\n",
    "\n",
    "# 결과 해석\n",
    "alpha = 0.05\n",
    "if p_value < alpha:\n",
    "    print(\"귀무가설 기각: 적어도 한 집단의 중앙값은 다른 집단과 통계적으로 유의미한 차이가 있습니다.\")\n",
    "else:\n",
    "    print(\"귀무가설 채택: 집단 간 중앙값의 차이가 통계적으로 유의미하지 않습니다.\")\n",
    "\n",
    "# 만약 귀무가설이 기각되었다면, 사후 분석(Post-hoc test)을 통해 어느 집단 간에 차이가 있는지 확인해야 합니다.\n",
    "# 비모수 검정의 사후 분석으로는 Dunn's test, Conover's test 등이 사용될 수 있습니다.\n",
    "# statsmodels 라이브러리나 scikit-posthocs 패키지를 활용할 수 있습니다.\n",
    "\n",
    "# scikit-posthocs를 사용한 Dunn's test 예시\n",
    "# !pip install scikit-posthocs\n",
    "import scikit_posthocs as sp\n",
    "import pandas as pd\n",
    "\n",
    "data = pd.DataFrame({\n",
    "    'value': group1 + group2 + group3,\n",
    "    'group': ['group1'] * len(group1) + ['group2'] * len(group2) + ['group3'] * len(group3)\n",
    "})\n",
    "\n",
    "# Dunn's test 수행 (p-value 조정 방법: Bonferroni)\n",
    "posthoc_df = sp.posthoc_dunn(data, val_col='value', group_col='group', p_adjust='bonferroni')\n",
    "\n",
    "print(\"Dunn's Post-hoc test (Bonferroni correction):\")\n",
    "print(posthoc_df)"
   ]
  },
  {
   "cell_type": "code",
   "execution_count": 31,
   "metadata": {},
   "outputs": [
    {
     "name": "stdout",
     "output_type": "stream",
     "text": [
      "Chi-squared statistic: 24.0341\n",
      "P-value: 0.0005\n",
      "귀무가설 기각: 요일별 방문자 수에는 통계적으로 유의미한 차이가 있습니다.\n"
     ]
    }
   ],
   "source": [
    "import numpy as np\n",
    "from scipy.stats import chisquare\n",
    "\n",
    "# 예시: 한 해 동안 특정 상점에서 요일별 방문자 수가 균일한지 검정\n",
    "# 귀무가설: 요일별 방문자 수는 차이가 없다 (모두 동일하다).\n",
    "# 대립가설: 요일별 방문자 수는 차이가 있다.\n",
    "\n",
    "# 관찰 빈도 (월, 화, 수, 목, 금, 토, 일)\n",
    "observed_freq = np.array([100, 120, 110, 105, 140, 155, 150])\n",
    "\n",
    "# 기대 빈도: 총 방문자 수를 요일 수(7)로 나눈 값\n",
    "total_visitors = np.sum(observed_freq)\n",
    "expected_freq = np.full_like(observed_freq, total_visitors / 7)\n",
    "\n",
    "# 카이제곱 적합도 검정 수행\n",
    "# f_exp를 명시하지 않으면 자동으로 균일 분포를 가정하여 계산합니다.\n",
    "statistic, p_value = chisquare(f_obs=observed_freq)\n",
    "\n",
    "print(f\"Chi-squared statistic: {statistic:.4f}\")\n",
    "print(f\"P-value: {p_value:.4f}\")\n",
    "\n",
    "# 결과 해석\n",
    "alpha = 0.05\n",
    "if p_value < alpha:\n",
    "    print(\"귀무가설 기각: 요일별 방문자 수에는 통계적으로 유의미한 차이가 있습니다.\")\n",
    "else:\n",
    "    print(\"귀무가설 채택: 요일별 방문자 수는 균일하다고 볼 수 있습니다.\")"
   ]
  },
  {
   "cell_type": "code",
   "execution_count": 32,
   "metadata": {},
   "outputs": [
    {
     "name": "stdout",
     "output_type": "stream",
     "text": [
      "관찰 빈도 분할표:\n",
      "      고졸   대졸  대학원졸\n",
      "소득 하  50   80    40\n",
      "소득 중  70  120    90\n",
      "소득 상  30   50    70\n",
      "Chi-squared statistic: 19.6261\n",
      "P-value: 0.0006\n",
      "Degrees of Freedom: 4\n",
      "기대 빈도 분할표:\n",
      "        고졸          대졸       대학원졸\n",
      "소득 하  42.5   70.833333  56.666667\n",
      "소득 중  70.0  116.666667  93.333333\n",
      "소득 상  37.5   62.500000  50.000000\n",
      "귀무가설 기각: 교육 수준과 소득 수준은 통계적으로 유의미한 연관이 있습니다.\n"
     ]
    }
   ],
   "source": [
    "import pandas as pd\n",
    "from scipy.stats import chi2_contingency\n",
    "\n",
    "# 예시: 교육 수준과 소득 수준 간의 연관성(독립성) 검정\n",
    "# 귀무가설: 교육 수준과 소득 수준은 서로 독립이다.\n",
    "# 대립가설: 교육 수준과 소득 수준은 서로 연관되어 있다.\n",
    "\n",
    "# 데이터 (분할표)\n",
    "data = {\n",
    "    '고졸': [50, 70, 30],\n",
    "    '대졸': [80, 120, 50],\n",
    "    '대학원졸': [40, 90, 70]\n",
    "}\n",
    "index = ['소득 하', '소득 중', '소득 상']\n",
    "observed_table = pd.DataFrame(data, index=index)\n",
    "\n",
    "print(\"관찰 빈도 분할표:\")\n",
    "print(observed_table)\n",
    "\n",
    "# 카이제곱 독립성 검정 수행\n",
    "chi2, p_value, dof, expected = chi2_contingency(observed_table)\n",
    "\n",
    "print(f\"Chi-squared statistic: {chi2:.4f}\")\n",
    "print(f\"P-value: {p_value:.4f}\")\n",
    "print(f\"Degrees of Freedom: {dof}\")\n",
    "print(\"기대 빈도 분할표:\")\n",
    "print(pd.DataFrame(expected, index=index, columns=data.keys()))\n",
    "\n",
    "# 결과 해석\n",
    "alpha = 0.05\n",
    "if p_value < alpha:\n",
    "    print(\"귀무가설 기각: 교육 수준과 소득 수준은 통계적으로 유의미한 연관이 있습니다.\")\n",
    "else:\n",
    "    print(\"귀무가설 채택: 교육 수준과 소득 수준은 서로 독립이라고 볼 수 있습니다.\")"
   ]
  },
  {
   "cell_type": "code",
   "execution_count": 33,
   "metadata": {},
   "outputs": [
    {
     "name": "stdout",
     "output_type": "stream",
     "text": [
      "Z-statistic: 2.2881\n",
      "P-value: 0.0221\n",
      "귀무가설 기각: 공장의 불량률은 3%와 통계적으로 유의미한 차이가 있습니다.\n",
      "\n",
      "Binomial test P-value (for small sample): 0.0210\n"
     ]
    }
   ],
   "source": [
    "import numpy as np\n",
    "from statsmodels.stats.proportion import proportions_ztest\n",
    "\n",
    "# 예시: 한 공장에서 생산된 제품 1000개 중 45개가 불량품으로 나왔다.\n",
    "# 이 공장의 불량률이 3%라고 할 수 있는가? (유의수준 5%)\n",
    "\n",
    "# 귀무가설: 공장의 불량률은 3%이다. (p = 0.03)\n",
    "# 대립가설: 공장의 불량률은 3%가 아니다. (p ≠ 0.03)\n",
    "\n",
    "count = 45  # 불량품 수 (성공 횟수)\n",
    "nobs = 1000 # 총 생산량 (표본 크기)\n",
    "value = 0.03 # 귀무가설의 비율\n",
    "\n",
    "# 단일 표본 비율 검정 수행\n",
    "stat, p_value = proportions_ztest(count, nobs, value, alternative='two-sided')\n",
    "\n",
    "print(f\"Z-statistic: {stat:.4f}\")\n",
    "print(f\"P-value: {p_value:.4f}\")\n",
    "\n",
    "# 결과 해석\n",
    "alpha = 0.05\n",
    "if p_value < alpha:\n",
    "    print(\"귀무가설 기각: 공장의 불량률은 3%와 통계적으로 유의미한 차이가 있습니다.\")\n",
    "else:\n",
    "    print(\"귀무가설 채택: 공장의 불량률이 3%라는 주장을 기각할 수 없습니다.\")\n",
    "\n",
    "# 만약 표본 크기가 작다면 (e.g., n*p < 10), 이항 검정을 사용\n",
    "from scipy.stats import binom_test\n",
    "\n",
    "# 예시: 20개의 제품 중 3개가 불량 (n*p0 = 20*0.03 = 0.6 < 10)\n",
    "p_val_binom = binom_test(x=3, n=20, p=0.03, alternative='two-sided')\n",
    "print(f\"\\nBinomial test P-value (for small sample): {p_val_binom:.4f}\")"
   ]
  },
  {
   "cell_type": "code",
   "execution_count": 34,
   "metadata": {},
   "outputs": [
    {
     "name": "stdout",
     "output_type": "stream",
     "text": [
      "Z-statistic: -1.5482\n",
      "P-value: 0.1216\n",
      "귀무가설 채택: 두 웹사이트 디자인의 구매 전환율 차이는 유의미하지 않습니다.\n",
      "\n",
      "Chi-squared statistic: 2.3970\n",
      "P-value from Chi-squared test: 0.1216\n",
      "Z-statistic squared: 2.3970\n"
     ]
    }
   ],
   "source": [
    "from statsmodels.stats.proportion import proportions_ztest\n",
    "import numpy as np\n",
    "\n",
    "# 예시: 두 가지 다른 웹사이트 디자인(A, B)의 구매 전환율 비교\n",
    "# 귀무가설: 두 디자인의 구매 전환율은 동일하다. (p_A = p_B)\n",
    "# 대립가설: 두 디자인의 구매 전환율은 다르다. (p_A ≠ p_B)\n",
    "\n",
    "# A 디자인: 1500명 방문, 100명 구매\n",
    "# B 디자인: 1600명 방문, 130명 구매\n",
    "\n",
    "count = np.array([100, 130])   # 각 그룹의 성공 횟수\n",
    "nobs = np.array([1500, 1600]) # 각 그룹의 표본 크기\n",
    "\n",
    "# 두 표본 비율 검정 수행 (value=None 으로 설정)\n",
    "stat, p_value = proportions_ztest(count, nobs, alternative='two-sided')\n",
    "\n",
    "print(f\"Z-statistic: {stat:.4f}\")\n",
    "print(f\"P-value: {p_value:.4f}\")\n",
    "\n",
    "# 결과 해석\n",
    "alpha = 0.05\n",
    "if p_value < alpha:\n",
    "    print(\"귀무가설 기각: 두 웹사이트 디자인의 구매 전환율에는 통계적으로 유의미한 차이가 있습니다.\")\n",
    "else:\n",
    "    print(\"귀무가설 채택: 두 웹사이트 디자인의 구매 전환율 차이는 유의미하지 않습니다.\")\n",
    "\n",
    "# 참고: 두 표본 비율 검정은 2x2 분할표에 대한 카이제곱 독립성 검정과 통계적으로 동일한 결과를 제공합니다.\n",
    "# Z^2 = chi^2\n",
    "from scipy.stats import chi2_contingency\n",
    "\n",
    "# [성공, 실패] 형태로 분할표 생성\n",
    "# 성공: 구매, 실패: 비구매\n",
    "observed = np.array([\n",
    "    [100, 1500 - 100], # A 디자인\n",
    "    [130, 1600 - 130]  # B 디자인\n",
    "])\n",
    "\n",
    "chi2, p_val_chi2, _, _ = chi2_contingency(observed, correction=False) # correction=False로 설정해야 Z^2=chi^2 관계 성립\n",
    "\n",
    "print(f\"\\nChi-squared statistic: {chi2:.4f}\")\n",
    "print(f\"P-value from Chi-squared test: {p_val_chi2:.4f}\")\n",
    "print(f\"Z-statistic squared: {stat**2:.4f}\") # Z^2 값과 chi2 값이 동일함을 확인"
   ]
  },
  {
   "cell_type": "code",
   "execution_count": 35,
   "metadata": {},
   "outputs": [
    {
     "name": "stdout",
     "output_type": "stream",
     "text": [
      "Statistic (b+c): 10.0\n",
      "P-value: 0.0000\n",
      "귀무가설 기각: 약물 투여 전후의 완치율에는 통계적으로 유의미한 변화가 있습니다.\n",
      "\n",
      "--- Chi-squared approximation ---\n",
      "Chi-squared statistic: 34.3000\n",
      "P-value: 0.0000\n"
     ]
    }
   ],
   "source": [
    "import numpy as np\n",
    "from statsmodels.stats.contingency_tables import mcnemar\n",
    "\n",
    "# 예시: 새로운 약물 치료법의 효과 검증\n",
    "# 100명의 환자를 대상으로 약물 투여 전과 후의 질병 유무를 조사\n",
    "\n",
    "# 분할표 데이터\n",
    "#           | 후: 완치 | 후: 비완치 | \n",
    "# -------------------------------------\n",
    "# 전: 비완치 |    60    |     10     |  (c)\n",
    "# 전: 완치   |    20    |     10     |  (b)\n",
    "\n",
    "# statsmodels의 mcnemar 함수는 다음과 같은 형식의 테이블을 기대합니다:\n",
    "# [[a, b], [c, d]]\n",
    "# a: 그룹1=Yes, 그룹2=Yes\n",
    "# b: 그룹1=Yes, 그룹2=No\n",
    "# c: 그룹1=No, 그룹2=Yes\n",
    "# d: 그룹1=No, 그룹2=No\n",
    "\n",
    "# 위의 예시를 함수에 맞는 형태로 재구성:\n",
    "# 그룹1: 치료 전 (Yes=완치, No=비완치)\n",
    "# 그룹2: 치료 후 (Yes=완치, No=비완치)\n",
    "\n",
    "# a (전:완치, 후:완치) = 20\n",
    "# b (전:완치, 후:비완치) = 10\n",
    "# c (전:비완치, 후:완치) = 60\n",
    "# d (전:비완치, 후:비완치) = 10\n",
    "\n",
    "table = np.array([[20, 10],\n",
    "                  [60, 10]])\n",
    "\n",
    "# 맥니마 검정 수행\n",
    "# b+c = 10+60 = 70 이므로 충분히 크지만, exact=True 사용이 일반적으로 더 안전합니다.\n",
    "result = mcnemar(table, exact=True)\n",
    "\n",
    "print(f\"Statistic (b+c): {result.statistic}\") # exact=True일 경우, b와 c 중 작은 값\n",
    "print(f\"P-value: {result.pvalue:.4f}\")\n",
    "\n",
    "# 결과 해석\n",
    "alpha = 0.05\n",
    "if result.pvalue < alpha:\n",
    "    print(\"귀무가설 기각: 약물 투여 전후의 완치율에는 통계적으로 유의미한 변화가 있습니다.\")\n",
    "else:\n",
    "    print(\"귀무가설 채택: 약물 투여 전후의 완치율 변화는 유의미하지 않습니다.\")\n",
    "\n",
    "\n",
    "# 만약 exact=False (카이제곱 근사)를 사용한다면\n",
    "result_chi2 = mcnemar(table, exact=False, correction=True)\n",
    "print(\"\\n--- Chi-squared approximation ---\")\n",
    "print(f\"Chi-squared statistic: {result_chi2.statistic:.4f}\")\n",
    "print(f\"P-value: {result_chi2.pvalue:.4f}\")"
   ]
  },
  {
   "cell_type": "code",
   "execution_count": 36,
   "metadata": {
    "scrolled": true
   },
   "outputs": [
    {
     "name": "stdout",
     "output_type": "stream",
     "text": [
      "Cochran's Q statistic: 3.7143\n",
      "P-value: 0.1561\n",
      "귀무가설 채택: 세 시험의 합격률은 통계적으로 차이가 없다고 볼 수 있습니다.\n"
     ]
    },
    {
     "ename": "AttributeError",
     "evalue": "module 'scikit_posthocs' has no attribute 'posthoc_mcnemar'",
     "output_type": "error",
     "traceback": [
      "\u001b[1;31m---------------------------------------------------------------------------\u001b[0m",
      "\u001b[1;31mAttributeError\u001b[0m                            Traceback (most recent call last)",
      "\u001b[1;32m<ipython-input-36-514608dd117e>\u001b[0m in \u001b[0;36m<module>\u001b[1;34m\u001b[0m\n\u001b[0;32m     49\u001b[0m \u001b[1;33m\u001b[0m\u001b[0m\n\u001b[0;32m     50\u001b[0m \u001b[1;31m# 사후 분석 수행 (맥니마 검정 기반)\u001b[0m\u001b[1;33m\u001b[0m\u001b[1;33m\u001b[0m\u001b[1;33m\u001b[0m\u001b[0m\n\u001b[1;32m---> 51\u001b[1;33m \u001b[0mposthoc_df\u001b[0m \u001b[1;33m=\u001b[0m \u001b[0msp\u001b[0m\u001b[1;33m.\u001b[0m\u001b[0mposthoc_mcnemar\u001b[0m\u001b[1;33m(\u001b[0m\u001b[0mdf_long\u001b[0m\u001b[1;33m,\u001b[0m \u001b[0mval_col\u001b[0m\u001b[1;33m=\u001b[0m\u001b[1;34m'result'\u001b[0m\u001b[1;33m,\u001b[0m \u001b[0mgroup_col\u001b[0m\u001b[1;33m=\u001b[0m\u001b[1;34m'test'\u001b[0m\u001b[1;33m,\u001b[0m \u001b[0mblock_col\u001b[0m\u001b[1;33m=\u001b[0m\u001b[1;34m'id'\u001b[0m\u001b[1;33m,\u001b[0m \u001b[0mp_adjust\u001b[0m\u001b[1;33m=\u001b[0m\u001b[1;34m'bonferroni'\u001b[0m\u001b[1;33m)\u001b[0m\u001b[1;33m\u001b[0m\u001b[1;33m\u001b[0m\u001b[0m\n\u001b[0m\u001b[0;32m     52\u001b[0m \u001b[1;33m\u001b[0m\u001b[0m\n\u001b[0;32m     53\u001b[0m \u001b[0mprint\u001b[0m\u001b[1;33m(\u001b[0m\u001b[1;34m\"\\nPost-hoc test (McNemar with Bonferroni correction):\"\u001b[0m\u001b[1;33m)\u001b[0m\u001b[1;33m\u001b[0m\u001b[1;33m\u001b[0m\u001b[0m\n",
      "\u001b[1;31mAttributeError\u001b[0m: module 'scikit_posthocs' has no attribute 'posthoc_mcnemar'"
     ]
    }
   ],
   "source": [
    "import numpy as np\n",
    "from statsmodels.stats.contingency_tables import cochrans_q\n",
    "\n",
    "# 예시: 10명의 학생이 세 번의 시험(Test1, Test2, Test3)에서 합격(1) 또는 불합격(0)한 결과\n",
    "# 귀무가설: 세 시험의 합격률은 모두 동일하다.\n",
    "# 대립가설: 적어도 한 시험의 합격률은 다른 시험과 다르다.\n",
    "\n",
    "data = np.array([\n",
    "#   T1, T2, T3\n",
    "    [1, 1, 0],  # 학생 1\n",
    "    [1, 1, 1],  # 학생 2\n",
    "    [0, 1, 1],  # 학생 3\n",
    "    [0, 0, 0],  # 학생 4\n",
    "    [1, 1, 0],  # 학생 5\n",
    "    [0, 1, 0],  # 학생 6\n",
    "    [1, 0, 0],  # 학생 7\n",
    "    [1, 1, 1],  # 학생 8\n",
    "    [0, 1, 0],  # 학생 9\n",
    "    [0, 1, 1]   # 학생 10\n",
    "])\n",
    "\n",
    "# 코크란의 Q 검정 수행\n",
    "result = cochrans_q(data)\n",
    "\n",
    "print(f\"Cochran's Q statistic: {result.statistic:.4f}\")\n",
    "print(f\"P-value: {result.pvalue:.4f}\")\n",
    "\n",
    "# 결과 해석\n",
    "alpha = 0.05\n",
    "if result.pvalue < alpha:\n",
    "    print(\"귀무가설 기각: 세 시험의 합격률에는 통계적으로 유의미한 차이가 있습니다.\")\n",
    "else:\n",
    "    print(\"귀무가설 채택: 세 시험의 합격률은 통계적으로 차이가 없다고 볼 수 있습니다.\")\n",
    "\n",
    "# 사후 분석 (Post-hoc Test)\n",
    "# 만약 귀무가설이 기각되었다면, 어느 쌍(예: Test1-Test2, Test1-Test3, Test2-Test3)에서\n",
    "# 차이가 나는지 확인하기 위해 사후 분석을 수행해야 합니다.\n",
    "# 일반적으로 각 쌍에 대해 맥니마 검정(McNemar's Test)을 수행하고,\n",
    "# 다중 비교에 따른 1종 오류 증가를 보정하기 위해 본페로니 교정(Bonferroni correction) 등을 적용합니다.\n",
    "\n",
    "# !pip install scikit-posthocs\n",
    "import scikit_posthocs as sp\n",
    "import pandas as pd\n",
    "\n",
    "# 데이터를 long format으로 변경\n",
    "df = pd.DataFrame(data, columns=['Test1', 'Test2', 'Test3'])\n",
    "df['id'] = range(len(df))\n",
    "df_long = pd.melt(df, id_vars='id', var_name='test', value_name='result')\n",
    "\n",
    "# 사후 분석 수행 (맥니마 검정 기반)\n",
    "posthoc_df = sp.posthoc_mcnemar(df_long, val_col='result', group_col='test', block_col='id', p_adjust='bonferroni')\n",
    "\n",
    "print(\"\\nPost-hoc test (McNemar with Bonferroni correction):\")\n",
    "print(posthoc_df)"
   ]
  },
  {
   "cell_type": "code",
   "execution_count": 39,
   "metadata": {},
   "outputs": [
    {
     "name": "stdout",
     "output_type": "stream",
     "text": [
      "\n",
      "Post-hoc test (McNemar with Bonferroni correction):\n",
      "       comparison  statistic  p_uncorrected  p_adjusted  reject\n",
      "0  Test1 vs Test2       0.80       0.371093    1.000000   False\n",
      "1  Test1 vs Test3       0.00       1.000000    1.000000   False\n",
      "2  Test2 vs Test3       2.25       0.133614    0.400843   False\n"
     ]
    }
   ],
   "source": [
    "import itertools\n",
    "\n",
    "test_names = ['Test1', 'Test2', 'Test3']\n",
    "\n",
    "# 사후 분석: 모든 쌍에 대해 McNemar 수행\n",
    "results = []\n",
    "for i, j in itertools.combinations(range(data.shape[1]), 2):\n",
    "    # 2x2 교차표 생성\n",
    "    table = pd.crosstab(data[:, i], data[:, j])\n",
    "    # McNemar 검정 수행 (exact=False는 chi-square 근사)\n",
    "    result = mcnemar(table, exact=False, correction=True)\n",
    "    results.append({\n",
    "        'comparison': f'{test_names[i]} vs {test_names[j]}',\n",
    "        'statistic': result.statistic,\n",
    "        'p_uncorrected': result.pvalue\n",
    "    })\n",
    "\n",
    "# Bonferroni 보정\n",
    "p_values = [r['p_uncorrected'] for r in results]\n",
    "p_adjusted = np.minimum(np.array(p_values) * len(p_values), 1.0)\n",
    "for idx, r in enumerate(results):\n",
    "    r['p_adjusted'] = p_adjusted[idx]\n",
    "    r['reject'] = p_adjusted[idx] < alpha\n",
    "\n",
    "# 결과 출력\n",
    "posthoc_df = pd.DataFrame(results)\n",
    "print(\"\\nPost-hoc test (McNemar with Bonferroni correction):\")\n",
    "print(posthoc_df)"
   ]
  }
 ],
 "metadata": {
  "kernelspec": {
   "display_name": "Python 3",
   "language": "python",
   "name": "python3"
  },
  "language_info": {
   "codemirror_mode": {
    "name": "ipython",
    "version": 3
   },
   "file_extension": ".py",
   "mimetype": "text/x-python",
   "name": "python",
   "nbconvert_exporter": "python",
   "pygments_lexer": "ipython3",
   "version": "3.7.1"
  }
 },
 "nbformat": 4,
 "nbformat_minor": 4
}
