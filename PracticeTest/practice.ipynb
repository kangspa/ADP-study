{
 "cells": [
  {
   "cell_type": "code",
   "execution_count": null,
   "metadata": {},
   "outputs": [],
   "source": [
    "# 1.3. 데이터 시각화 - 주요 차트 내용 중 박스 플롯 hue 구현 예제 코드\n",
    "\n",
    "import matplotlib.pyplot as plt\n",
    "import seaborn as sns\n",
    "import pandas as pd\n",
    "import numpy as np\n",
    "\n",
    "# Seaborn 내장 데이터셋 로드\n",
    "tips = sns.load_dataset('tips')\n",
    "\n",
    "# 데이터 준비\n",
    "days = tips['day'].unique()\n",
    "smokers = tips['smoker'].unique()\n",
    "\n",
    "plt.figure(figsize=(8, 5))\n",
    "\n",
    "# 각 day와 smoker 그룹별로 박스플롯 그리기\n",
    "positions = []\n",
    "data_to_plot = []\n",
    "pos = 1\n",
    "\n",
    "for day in sorted(days):  # day 순서대로\n",
    "    for smoker in sorted(smokers):  # smoker = No, Yes\n",
    "        group = tips[(tips['day'] == day) & (tips['smoker'] == smoker)]['total_bill']\n",
    "        data_to_plot.append(group)\n",
    "        positions.append(pos)\n",
    "        pos += 1\n",
    "    pos += 1  # day 사이 간격\n",
    "\n",
    "# 박스플롯 그리기\n",
    "bp = plt.boxplot(data_to_plot, positions=positions, widths=0.6, patch_artist=True)\n",
    "\n",
    "# 색상 채우기 (smoker 구분)\n",
    "colors = ['lightblue', 'lightcoral'] * len(days)\n",
    "for patch, color in zip(bp['boxes'], colors):\n",
    "    patch.set_facecolor(color)\n",
    "\n",
    "# x축 레이블: day 가운데 배치\n",
    "xticks = []\n",
    "xlabels = []\n",
    "for i, day in enumerate(sorted(days)):\n",
    "    xticks.append((i* (len(smokers)+1)) + 1.5)  # day 그룹의 중앙\n",
    "    xlabels.append(day)\n",
    "\n",
    "plt.xticks(xticks, xlabels)\n",
    "plt.xlabel(\"day\")\n",
    "plt.ylabel(\"total_bill\")\n",
    "plt.title('Total Bill Distribution by Day and Smoker')\n",
    "\n",
    "# 범례 추가\n",
    "from matplotlib.patches import Patch\n",
    "legend_handles = [Patch(color='lightblue', label='No'),\n",
    "                  Patch(color='lightcoral', label='Yes')]\n",
    "plt.legend(handles=legend_handles, title=\"smoker\")\n",
    "\n",
    "plt.show()"
   ]
  },
  {
   "cell_type": "code",
   "execution_count": 49,
   "metadata": {},
   "outputs": [
    {
     "data": {
      "image/png": "[encoded data removed]",
      "text/plain": [
       "<Figure size 576x432 with 2 Axes>"
      ]
     },
     "metadata": {
      "needs_background": "light"
     },
     "output_type": "display_data"
    }
   ],
   "source": [
    "# 1.3. 데이터 시각화 - 주요 차트 내용 중 heatmap 예제 코드\n",
    "\n",
    "import matplotlib.pyplot as plt\n",
    "import seaborn as sns\n",
    "import pandas as pd\n",
    "import numpy as np\n",
    "\n",
    "# Seaborn 내장 데이터셋 로드\n",
    "iris = sns.load_dataset('iris')\n",
    "\n",
    "# 수치형 변수 간 상관계수 계산\n",
    "corr = iris.corr()\n",
    "\n",
    "# 히트맵 그리기\n",
    "fig, ax = plt.subplots(figsize=(8, 6))\n",
    "\n",
    "# imshow로 색상 맵 시각화\n",
    "cax = ax.imshow(corr.values, cmap='coolwarm', vmin=-1, vmax=1)\n",
    "\n",
    "# 컬럼 이름으로 x, y축 라벨 설정\n",
    "ax.set_xticks(np.arange(len(corr.columns)))\n",
    "ax.set_yticks(np.arange(len(corr.columns)))\n",
    "ax.set_xticklabels(corr.columns, rotation=45, ha='right')\n",
    "ax.set_yticklabels(corr.columns)\n",
    "\n",
    "# 각 셀에 상관계수 값 표시\n",
    "for i in range(len(corr.columns)):\n",
    "    for j in range(len(corr.columns)):\n",
    "        ax.text(j, i, f\"{corr.values[i, j]:.2f}\", ha='center', va='center', color='black')\n",
    "\n",
    "# 컬러바 추가\n",
    "fig.colorbar(cax)\n",
    "\n",
    "plt.title('Correlation Matrix of Iris Features')\n",
    "plt.tight_layout()\n",
    "plt.show()\n"
   ]
  },
  {
   "cell_type": "code",
   "execution_count": 1,
   "metadata": {},
   "outputs": [],
   "source": [
    "import warnings\n",
    "warnings.filterwarnings('ignore')"
   ]
  },
  {
   "cell_type": "code",
   "execution_count": 2,
   "metadata": {},
   "outputs": [
    {
     "name": "stdout",
     "output_type": "stream",
     "text": [
      "--- Pandas ---\n",
      "                        X  Y_linear  Y_nonlinear         Z  X_Y_linear_corr\n",
      "X                1.000000 -0.136422     0.074647 -0.170227         0.324385\n",
      "Y_linear        -0.136422  1.000000     0.016339 -0.017613         0.892828\n",
      "Y_nonlinear      0.074647  0.016339     1.000000 -0.038892         0.049540\n",
      "Z               -0.170227 -0.017613    -0.038892  1.000000        -0.094211\n",
      "X_Y_linear_corr  0.324385  0.892828     0.049540 -0.094211         1.000000\n",
      "\n",
      "X와 Y_linear 간의 Pearson 상관 계수: -0.1364\n",
      "\n",
      "--- Scipy ---\n",
      "상관 계수: -0.1364\n",
      "P-value: 0.1759\n",
      "\n",
      "--- Pingouin ---\n",
      "           n         r          CI95%        r2    adj_r2     p-val   BF10  \\\n",
      "pearson  100 -0.136422  [-0.32, 0.06]  0.018611 -0.001624  0.175926  0.308   \n",
      "\n",
      "            power  \n",
      "pearson  0.273868  \n"
     ]
    }
   ],
   "source": [
    "import pandas as pd\n",
    "import numpy as np\n",
    "from scipy.stats import pearsonr\n",
    "import pingouin as pg\n",
    "\n",
    "# 예제 데이터 생성\n",
    "np.random.seed(42)\n",
    "data = pd.DataFrame({\n",
    "    'X': np.random.normal(0, 1, 100),\n",
    "    'Y_linear': 2 * np.random.normal(0, 1, 100) + 3,\n",
    "    'Y_nonlinear': np.random.normal(0, 1, 100)**2,\n",
    "    'Z': np.random.normal(0, 1, 100)\n",
    "})\n",
    "data['X_Y_linear_corr'] = data['X'] + data['Y_linear']\n",
    "\n",
    "# 1. Pandas 사용\n",
    "print(\"--- Pandas ---\")\n",
    "# 데이터프레임 전체 상관 행렬\n",
    "corr_matrix = data.corr(method='pearson')\n",
    "print(corr_matrix)\n",
    "# 두 변수 간의 상관 계수\n",
    "corr_xy = data['X'].corr(data['Y_linear'], method='pearson')\n",
    "print(f\"\\nX와 Y_linear 간의 Pearson 상관 계수: {corr_xy:.4f}\")\n",
    "\n",
    "# 2. Scipy 사용\n",
    "print(\"\\n--- Scipy ---\")\n",
    "# pearsonr(x, y) -> (상관계수, p-value) 반환\n",
    "corr, p_value = pearsonr(data['X'], data['Y_linear'])\n",
    "print(f\"상관 계수: {corr:.4f}\")\n",
    "print(f\"P-value: {p_value:.4f}\")\n",
    "\n",
    "# 3. Pingouin 사용\n",
    "print(\"\\n--- Pingouin ---\")\n",
    "# pg.corr(x, y) -> 상세한 통계 결과 반환\n",
    "corr_result = pg.corr(data['X'], data['Y_linear'], method='pearson')\n",
    "print(corr_result)"
   ]
  },
  {
   "cell_type": "code",
   "execution_count": 3,
   "metadata": {},
   "outputs": [
    {
     "name": "stdout",
     "output_type": "stream",
     "text": [
      "--- Pandas ---\n",
      "        X       Y\n",
      "X  1.0000  0.9552\n",
      "Y  0.9552  1.0000\n",
      "\n",
      "--- Scipy ---\n",
      "상관 계수: 0.9552\n",
      "P-value: 0.0000\n",
      "\n",
      "--- Pingouin ---\n",
      "            n       r         CI95%        r2  adj_r2         p-val  power\n",
      "spearman  100  0.9552  [0.93, 0.97]  0.912406  0.9106  1.276212e-53    1.0\n"
     ]
    }
   ],
   "source": [
    "import pandas as pd\n",
    "import numpy as np\n",
    "from scipy.stats import spearmanr\n",
    "import pingouin as pg\n",
    "\n",
    "# 예제 데이터 생성 (비선형 단조 관계)\n",
    "np.random.seed(42)\n",
    "x = np.arange(1, 101)\n",
    "y = np.log(x) + np.random.normal(0, 0.2, 100)\n",
    "data = pd.DataFrame({'X': x, 'Y': y})\n",
    "\n",
    "# 1. Pandas 사용\n",
    "print(\"--- Pandas ---\")\n",
    "corr_spearman = data.corr(method='spearman')\n",
    "print(corr_spearman)\n",
    "\n",
    "# 2. Scipy 사용\n",
    "print(\"\\n--- Scipy ---\")\n",
    "corr, p_value = spearmanr(data['X'], data['Y'])\n",
    "print(f\"상관 계수: {corr:.4f}\")\n",
    "print(f\"P-value: {p_value:.4f}\")\n",
    "\n",
    "# 3. Pingouin 사용\n",
    "print(\"\\n--- Pingouin ---\")\n",
    "corr_result = pg.corr(data['X'], data['Y'], method='spearman')\n",
    "print(corr_result)"
   ]
  },
  {
   "cell_type": "code",
   "execution_count": 4,
   "metadata": {},
   "outputs": [
    {
     "name": "stdout",
     "output_type": "stream",
     "text": [
      "--- Pandas ---\n",
      "          X         Y\n",
      "X  1.000000  0.777778\n",
      "Y  0.777778  1.000000\n",
      "\n",
      "--- Scipy ---\n",
      "상관 계수: 0.7778\n",
      "P-value: 0.0009\n",
      "\n",
      "--- Pingouin ---\n",
      "          n         r         CI95%        r2    adj_r2     p-val     power\n",
      "kendall  10  0.777778  [0.29, 0.94]  0.604938  0.492063  0.000946  0.814667\n"
     ]
    }
   ],
   "source": [
    "import pandas as pd\n",
    "import numpy as np\n",
    "from scipy.stats import kendalltau\n",
    "import pingouin as pg\n",
    "\n",
    "# 예제 데이터 생성\n",
    "np.random.seed(42)\n",
    "data = pd.DataFrame({\n",
    "    'X': [1, 2, 3, 4, 5, 6, 7, 8, 9, 10],\n",
    "    'Y': [2, 1, 4, 3, 6, 5, 8, 7, 10, 9] # 순위가 뒤바뀐 경우\n",
    "})\n",
    "\n",
    "# 1. Pandas 사용\n",
    "print(\"--- Pandas ---\")\n",
    "corr_kendall = data.corr(method='kendall')\n",
    "print(corr_kendall)\n",
    "\n",
    "# 2. Scipy 사용\n",
    "print(\"\\n--- Scipy ---\")\n",
    "corr, p_value = kendalltau(data['X'], data['Y'])\n",
    "print(f\"상관 계수: {corr:.4f}\")\n",
    "print(f\"P-value: {p_value:.4f}\")\n",
    "\n",
    "# 3. Pingouin 사용\n",
    "print(\"\\n--- Pingouin ---\")\n",
    "corr_result = pg.corr(data['X'], data['Y'], method='kendall')\n",
    "print(corr_result)"
   ]
  },
  {
   "cell_type": "code",
   "execution_count": 5,
   "metadata": {},
   "outputs": [
    {
     "name": "stdout",
     "output_type": "stream",
     "text": [
      "--- 단순 상관 분석 (Z 통제 전) ---\n",
      "           X (운동 시간)  Y (스트레스)  Z (업무 시간)\n",
      "X (운동 시간)   1.000000 -0.539691  -0.714711\n",
      "Y (스트레스)   -0.539691  1.000000   0.657874\n",
      "Z (업무 시간)  -0.714711  0.657874   1.000000\n",
      "\n",
      "--- 편상관 분석 (Z 통제 후) ---\n",
      "           n         r          CI95%        r2    adj_r2     p-val   BF10  \\\n",
      "pearson  100 -0.131943  [-0.32, 0.07]  0.017409 -0.002851  0.190679  0.291   \n",
      "\n",
      "            power  \n",
      "pearson  0.259133  \n"
     ]
    }
   ],
   "source": [
    "import pandas as pd\n",
    "import numpy as np\n",
    "import pingouin as pg\n",
    "\n",
    "# 예제 데이터 생성\n",
    "# X: 운동 시간, Y: 스트레스 지수, Z: 업무 시간\n",
    "# 업무 시간(Z)이 많을수록 운동 시간(X)이 줄고, 스트레스 지수(Y)는 높아지는 관계\n",
    "np.random.seed(42)\n",
    "n = 100\n",
    "data = pd.DataFrame({\n",
    "    'X (운동 시간)': np.random.normal(5, 1, n),\n",
    "    'Y (스트레스)': np.random.normal(50, 5, n),\n",
    "    'Z (업무 시간)': np.random.normal(8, 2, n)\n",
    "})\n",
    "\n",
    "# Z의 영향을 X와 Y에 추가\n",
    "data['X (운동 시간)'] = data['X (운동 시간)'] - 0.5 * data['Z (업무 시간)']\n",
    "data['Y (스트레스)'] = data['Y (스트레스)'] + 2 * data['Z (업무 시간)']\n",
    "\n",
    "# 단순 상관 분석 수행\n",
    "print(\"--- 단순 상관 분석 (Z 통제 전) ---\")\n",
    "print(data.corr(method='pearson'))\n",
    "\n",
    "# 편상관 분석 수행 (Z의 영향을 통제)\n",
    "print(\"\\n--- 편상관 분석 (Z 통제 후) ---\")\n",
    "# x: 'X (운동 시간)', y: 'Y (스트레스)', covar: 'Z (업무 시간)'\n",
    "partial_corr_result = pg.partial_corr(data=data, x='X (운동 시간)', y='Y (스트레스)', covar='Z (업무 시간)', method='pearson')\n",
    "print(partial_corr_result)"
   ]
  },
  {
   "cell_type": "code",
   "execution_count": 6,
   "metadata": {},
   "outputs": [
    {
     "name": "stdout",
     "output_type": "stream",
     "text": [
      "--- Statsmodels를 이용한 수동 계산 ---\n",
      "X와 Y의 편상관 계수 (Z 통제): -0.1319\n"
     ]
    }
   ],
   "source": [
    "import pandas as pd\n",
    "import numpy as np\n",
    "import statsmodels.api as sm\n",
    "\n",
    "# 예제 데이터 (위와 동일)\n",
    "np.random.seed(42)\n",
    "n = 100\n",
    "data = pd.DataFrame({\n",
    "    'X': np.random.normal(5, 1, n),\n",
    "    'Y': np.random.normal(50, 5, n),\n",
    "    'Z': np.random.normal(8, 2, n)\n",
    "})\n",
    "data['X'] = data['X'] - 0.5 * data['Z']\n",
    "data['Y'] = data['Y'] + 2 * data['Z']\n",
    "\n",
    "# 1. X를 Z로 회귀분석 후 잔차 구하기\n",
    "X_model = sm.OLS(data['X'], sm.add_constant(data['Z'])).fit()\n",
    "X_residuals = X_model.resid\n",
    "\n",
    "# 2. Y를 Z로 회귀분석 후 잔차 구하기\n",
    "Y_model = sm.OLS(data['Y'], sm.add_constant(data['Z'])).fit()\n",
    "Y_residuals = Y_model.resid\n",
    "\n",
    "# 3. 두 잔차 간의 상관관계 계산\n",
    "partial_corr_manual = np.corrcoef(X_residuals, Y_residuals)[0, 1]\n",
    "\n",
    "print(f\"--- Statsmodels를 이용한 수동 계산 ---\")\n",
    "print(f\"X와 Y의 편상관 계수 (Z 통제): {partial_corr_manual:.4f}\")"
   ]
  },
  {
   "cell_type": "code",
   "execution_count": 7,
   "metadata": {},
   "outputs": [
    {
     "name": "stdout",
     "output_type": "stream",
     "text": [
      "                            OLS Regression Results                            \n",
      "==============================================================================\n",
      "Dep. Variable:                      y   R-squared:                       0.959\n",
      "Model:                            OLS   Adj. R-squared:                  0.958\n",
      "Method:                 Least Squares   F-statistic:                     1143.\n",
      "Date:                Fri, 10 Oct 2025   Prob (F-statistic):           3.70e-68\n",
      "Time:                        15:06:50   Log-Likelihood:                -208.42\n",
      "No. Observations:                 100   AIC:                             422.8\n",
      "Df Residuals:                      97   BIC:                             430.6\n",
      "Df Model:                           2                                         \n",
      "Covariance Type:            nonrobust                                         \n",
      "==============================================================================\n",
      "                 coef    std err          t      P>|t|      [0.025      0.975]\n",
      "------------------------------------------------------------------------------\n",
      "const          2.8212      0.508      5.549      0.000       1.812       3.830\n",
      "X1             1.9317      0.067     28.937      0.000       1.799       2.064\n",
      "X2             5.2877      0.136     39.023      0.000       5.019       5.557\n",
      "==============================================================================\n",
      "Omnibus:                        6.139   Durbin-Watson:                   2.073\n",
      "Prob(Omnibus):                  0.046   Jarque-Bera (JB):                5.737\n",
      "Skew:                           0.456   Prob(JB):                       0.0568\n",
      "Kurtosis:                       3.738   Cond. No.                         15.9\n",
      "==============================================================================\n",
      "\n",
      "Notes:\n",
      "[1] Standard Errors assume that the covariance matrix of the errors is correctly specified.\n"
     ]
    }
   ],
   "source": [
    "import pandas as pd\n",
    "import numpy as np\n",
    "import statsmodels.api as sm\n",
    "\n",
    "# 예제 데이터 생성\n",
    "np.random.seed(42)\n",
    "X1 = np.random.rand(100) * 10\n",
    "X2 = np.random.rand(100) * 5\n",
    "y = 3 + 2*X1 + 5*X2 + np.random.randn(100) * 2 # Y = 3 + 2*X1 + 5*X2 + error\n",
    "data = pd.DataFrame({'X1': X1, 'X2': X2, 'y': y})\n",
    "\n",
    "X = data[['X1', 'X2']]\n",
    "y = data['y']\n",
    "\n",
    "# 1. 상수항(절편) 추가\n",
    "X_with_const = sm.add_constant(X)\n",
    "\n",
    "# 2. OLS 모델 적합\n",
    "# OLS(종속변수, 독립변수)\n",
    "model = sm.OLS(y, X_with_const)\n",
    "results = model.fit()\n",
    "\n",
    "# 3. 모델 결과 요약 출력\n",
    "print(results.summary())"
   ]
  },
  {
   "cell_type": "code",
   "execution_count": 8,
   "metadata": {},
   "outputs": [
    {
     "name": "stdout",
     "output_type": "stream",
     "text": [
      "절편 (Intercept): 2.5865\n",
      "회귀 계수 (Coefficients): [1.95000442 5.3148695 ]\n",
      "\n",
      "테스트 데이터 성능:\n",
      "MSE (Mean Squared Error): 2.6657\n",
      "R-squared: 0.9749\n"
     ]
    }
   ],
   "source": [
    "import pandas as pd\n",
    "import numpy as np\n",
    "from sklearn.model_selection import train_test_split\n",
    "from sklearn.linear_model import LinearRegression\n",
    "from sklearn.metrics import mean_squared_error, r2_score\n",
    "\n",
    "# 예제 데이터 (위와 동일)\n",
    "np.random.seed(42)\n",
    "X1 = np.random.rand(100) * 10\n",
    "X2 = np.random.rand(100) * 5\n",
    "y = 3 + 2*X1 + 5*X2 + np.random.randn(100) * 2\n",
    "data = pd.DataFrame({'X1': X1, 'X2': X2, 'y': y})\n",
    "\n",
    "X = data[['X1', 'X2']]\n",
    "y = data['y']\n",
    "\n",
    "# 1. 데이터 분할\n",
    "X_train, X_test, y_train, y_test = train_test_split(X, y, test_size=0.2, random_state=42)\n",
    "\n",
    "# 2. LinearRegression 모델 생성 및 학습\n",
    "model = LinearRegression()\n",
    "model.fit(X_train, y_train)\n",
    "\n",
    "# 3. 모델 계수 및 절편 확인\n",
    "print(f\"절편 (Intercept): {model.intercept_:.4f}\")\n",
    "print(f\"회귀 계수 (Coefficients): {model.coef_}\")\n",
    "\n",
    "# 4. 테스트 데이터로 예측 수행\n",
    "y_pred = model.predict(X_test)\n",
    "\n",
    "# 5. 모델 성능 평가\n",
    "mse = mean_squared_error(y_test, y_pred)\n",
    "r2 = r2_score(y_test, y_pred)\n",
    "\n",
    "print(f\"\\n테스트 데이터 성능:\")\n",
    "print(f\"MSE (Mean Squared Error): {mse:.4f}\")\n",
    "print(f\"R-squared: {r2:.4f}\")"
   ]
  },
  {
   "cell_type": "code",
   "execution_count": 9,
   "metadata": {},
   "outputs": [
    {
     "data": {
      "image/png": "[encoded data removed]",
      "text/plain": [
       "<Figure size 432x288 with 1 Axes>"
      ]
     },
     "metadata": {
      "needs_background": "light"
     },
     "output_type": "display_data"
    },
    {
     "name": "stdout",
     "output_type": "stream",
     "text": [
      "다항 회귀 (3차) MSE: 7.72\n",
      "회귀 계수: [  2.11390416 -34.77258549  76.38175949]\n",
      "절편: 9.911361945907691\n"
     ]
    },
    {
     "data": {
      "image/png": "[encoded data removed]",
      "text/plain": [
       "<Figure size 432x288 with 1 Axes>"
      ]
     },
     "metadata": {
      "needs_background": "light"
     },
     "output_type": "display_data"
    }
   ],
   "source": [
    "import numpy as np\n",
    "import pandas as pd\n",
    "from sklearn.preprocessing import PolynomialFeatures, StandardScaler\n",
    "from sklearn.linear_model import LinearRegression\n",
    "from sklearn.model_selection import train_test_split\n",
    "from sklearn.metrics import mean_squared_error\n",
    "import matplotlib.pyplot as plt\n",
    "\n",
    "# 1. 데이터 생성 (비선형 관계)\n",
    "np.random.seed(42)\n",
    "X = 2 - 3 * np.random.normal(0, 1, 100)\n",
    "y = X - 2 * (X ** 2) + 0.5 * (X ** 3) + np.random.normal(-3, 3, 100)\n",
    "X = X[:, np.newaxis] # scikit-learn 입력을 위해 2D 배열로 변환\n",
    "\n",
    "# 데이터 시각화\n",
    "plt.scatter(X, y, s=10)\n",
    "plt.title(\"Original Data\")\n",
    "plt.xlabel(\"X\")\n",
    "plt.ylabel(\"y\")\n",
    "plt.show()\n",
    "\n",
    "# 2. 데이터 분할\n",
    "X_train, X_test, y_train, y_test = train_test_split(X, y, test_size=0.2, random_state=42)\n",
    "\n",
    "# 3. 다항 특성 생성\n",
    "# PolynomialFeatures 하이퍼파라미터\n",
    "# degree: 다항식의 차수 (기본값=2). 높을수록 복잡한 곡선을 만들지만 과적합 위험이 커집니다.\n",
    "# interaction_only: True이면 상호작용 항만 생성합니다 (e.g., x1*x2). 개별 변수의 거듭제곱 항(x1^2, x2^2)은 생성하지 않습니다. (기본값=False)\n",
    "# include_bias: True이면 편향을 위한 특성(값이 1인 열)을 추가합니다. (기본값=True)\n",
    "poly_features = PolynomialFeatures(degree=3, include_bias=False)\n",
    "X_poly_train = poly_features.fit_transform(X_train)\n",
    "X_poly_test = poly_features.transform(X_test)\n",
    "\n",
    "# 4. 스케일링 (선택 사항이지만 권장)\n",
    "# 다항 특성 생성 후 스케일링을 적용합니다.\n",
    "scaler = StandardScaler()\n",
    "X_poly_train_scaled = scaler.fit_transform(X_poly_train)\n",
    "X_poly_test_scaled = scaler.transform(X_poly_test)\n",
    "\n",
    "\n",
    "# 5. 선형 회귀 모델 학습\n",
    "lin_reg = LinearRegression()\n",
    "lin_reg.fit(X_poly_train_scaled, y_train)\n",
    "\n",
    "# 6. 예측 및 평가\n",
    "y_pred = lin_reg.predict(X_poly_test_scaled)\n",
    "mse = mean_squared_error(y_test, y_pred)\n",
    "print(f\"다항 회귀 (3차) MSE: {mse:.2f}\")\n",
    "print(f\"회귀 계수: {lin_reg.coef_}\")\n",
    "print(f\"절편: {lin_reg.intercept_}\")\n",
    "\n",
    "# 7. 결과 시각화\n",
    "X_new = np.linspace(X.min(), X.max(), 100).reshape(-1, 1)\n",
    "X_new_poly = poly_features.transform(X_new)\n",
    "X_new_poly_scaled = scaler.transform(X_new_poly)\n",
    "y_new = lin_reg.predict(X_new_poly_scaled)\n",
    "\n",
    "plt.scatter(X_test, y_test, s=10, label=\"Test Data\")\n",
    "plt.plot(X_new, y_new, \"r-\", linewidth=2, label=\"Polynomial Regression Fit\")\n",
    "plt.title(\"Polynomial Regression Result (degree=3)\")\n",
    "plt.xlabel(\"X\")\n",
    "plt.ylabel(\"y\")\n",
    "plt.legend()\n",
    "plt.show()"
   ]
  },
  {
   "cell_type": "code",
   "execution_count": 10,
   "metadata": {},
   "outputs": [
    {
     "name": "stdout",
     "output_type": "stream",
     "text": [
      "--- 10% 분위수 회귀 결과 ---\n",
      "                         QuantReg Regression Results                          \n",
      "==============================================================================\n",
      "Dep. Variable:                      y   Pseudo R-squared:               0.2291\n",
      "Model:                       QuantReg   Bandwidth:                       4.128\n",
      "Method:                 Least Squares   Sparsity:                        14.01\n",
      "Date:                Fri, 10 Oct 2025   No. Observations:                  200\n",
      "Time:                        15:28:07   Df Residuals:                      198\n",
      "                                        Df Model:                            1\n",
      "==============================================================================\n",
      "                 coef    std err          t      P>|t|      [0.025      0.975]\n",
      "------------------------------------------------------------------------------\n",
      "Intercept      9.9227      0.565     17.557      0.000       8.808      11.037\n",
      "X              0.9418      0.097      9.717      0.000       0.751       1.133\n",
      "==============================================================================\n",
      "\n",
      "--- 50% 분위수(중앙값) 회귀 결과 ---\n",
      "                         QuantReg Regression Results                          \n",
      "==============================================================================\n",
      "Dep. Variable:                      y   Pseudo R-squared:               0.4474\n",
      "Model:                       QuantReg   Bandwidth:                       3.330\n",
      "Method:                 Least Squares   Sparsity:                        10.06\n",
      "Date:                Fri, 10 Oct 2025   No. Observations:                  200\n",
      "Time:                        15:28:07   Df Residuals:                      198\n",
      "                                        Df Model:                            1\n",
      "==============================================================================\n",
      "                 coef    std err          t      P>|t|      [0.025      0.975]\n",
      "------------------------------------------------------------------------------\n",
      "Intercept     10.1705      0.685     14.855      0.000       8.820      11.521\n",
      "X              2.0258      0.121     16.759      0.000       1.787       2.264\n",
      "==============================================================================\n",
      "\n",
      "--- 90% 분위수 회귀 결과 ---\n",
      "                         QuantReg Regression Results                          \n",
      "==============================================================================\n",
      "Dep. Variable:                      y   Pseudo R-squared:               0.5366\n",
      "Model:                       QuantReg   Bandwidth:                       4.242\n",
      "Method:                 Least Squares   Sparsity:                        13.99\n",
      "Date:                Fri, 10 Oct 2025   No. Observations:                  200\n",
      "Time:                        15:28:07   Df Residuals:                      198\n",
      "                                        Df Model:                            1\n",
      "==============================================================================\n",
      "                 coef    std err          t      P>|t|      [0.025      0.975]\n",
      "------------------------------------------------------------------------------\n",
      "Intercept     10.1672      0.611     16.628      0.000       8.961      11.373\n",
      "X              3.0842      0.108     28.576      0.000       2.871       3.297\n",
      "==============================================================================\n"
     ]
    },
    {
     "data": {
      "image/png": "[encoded data removed]",
      "text/plain": [
       "<Figure size 432x288 with 1 Axes>"
      ]
     },
     "metadata": {
      "needs_background": "light"
     },
     "output_type": "display_data"
    }
   ],
   "source": [
    "import numpy as np\n",
    "import pandas as pd\n",
    "import statsmodels.api as sm\n",
    "import statsmodels.formula.api as smf\n",
    "import matplotlib.pyplot as plt\n",
    "\n",
    "# 1. 데이터 생성 (이분산성)\n",
    "np.random.seed(42)\n",
    "n_samples = 200\n",
    "X = np.random.uniform(0, 10, n_samples)\n",
    "# X가 클수록 오차의 분산이 커지도록 설정\n",
    "error = np.random.normal(0, X, n_samples) \n",
    "y = 10 + 2 * X + error\n",
    "\n",
    "data = pd.DataFrame({'X': X, 'y': y})\n",
    "\n",
    "# 2. OLS 모델과 분위수 회귀 모델(10%, 50%, 90%) 학습\n",
    "# smf.quantreg('종속변수 ~ 독립변수', 데이터)\n",
    "# q: 예측할 분위수 (0 < q < 1)\n",
    "q_10 = smf.quantreg('y ~ X', data).fit(q=0.1)\n",
    "q_50 = smf.quantreg('y ~ X', data).fit(q=0.5) # 중앙값 회귀\n",
    "q_90 = smf.quantreg('y ~ X', data).fit(q=0.9)\n",
    "ols = smf.ols('y ~ X', data).fit()\n",
    "\n",
    "print(\"--- 10% 분위수 회귀 결과 ---\")\n",
    "print(q_10.summary())\n",
    "print(\"\\n--- 50% 분위수(중앙값) 회귀 결과 ---\")\n",
    "print(q_50.summary())\n",
    "print(\"\\n--- 90% 분위수 회귀 결과 ---\")\n",
    "print(q_90.summary())\n",
    "\n",
    "# 3. 결과 시각화\n",
    "x_plot = np.linspace(data['X'].min(), data['X'].max(), 100)\n",
    "plt.scatter(data['X'], data['y'], alpha=0.5, label='Data')\n",
    "plt.plot(x_plot, ols.predict({'X': x_plot}), color='red', label='OLS (Mean)')\n",
    "plt.plot(x_plot, q_10.predict({'X': x_plot}), color='green', linestyle='--', label='Quantile Reg (q=0.1)')\n",
    "plt.plot(x_plot, q_50.predict({'X': x_plot}), color='black', label='Quantile Reg (q=0.5, Median)')\n",
    "plt.plot(x_plot, q_90.predict({'X': x_plot}), color='blue', linestyle='--', label='Quantile Reg (q=0.9)')\n",
    "\n",
    "plt.title('Quantile Regression vs OLS')\n",
    "plt.xlabel('X')\n",
    "plt.ylabel('y')\n",
    "plt.legend()\n",
    "plt.show()"
   ]
  },
  {
   "cell_type": "code",
   "execution_count": 11,
   "metadata": {},
   "outputs": [
    {
     "ename": "ImportError",
     "evalue": "cannot import name 'QuantileRegressor' from 'sklearn.linear_model' (C:\\Users\\kangs\\miniconda3\\envs\\ADP-study\\lib\\site-packages\\sklearn\\linear_model\\__init__.py)",
     "output_type": "error",
     "traceback": [
      "\u001b[1;31m---------------------------------------------------------------------------\u001b[0m",
      "\u001b[1;31mImportError\u001b[0m                               Traceback (most recent call last)",
      "\u001b[1;32m<ipython-input-11-531f49c301a1>\u001b[0m in \u001b[0;36m<module>\u001b[1;34m\u001b[0m\n\u001b[1;32m----> 1\u001b[1;33m \u001b[1;32mfrom\u001b[0m \u001b[0msklearn\u001b[0m\u001b[1;33m.\u001b[0m\u001b[0mlinear_model\u001b[0m \u001b[1;32mimport\u001b[0m \u001b[0mQuantileRegressor\u001b[0m\u001b[1;33m\u001b[0m\u001b[1;33m\u001b[0m\u001b[0m\n\u001b[0m\u001b[0;32m      2\u001b[0m \u001b[1;33m\u001b[0m\u001b[0m\n\u001b[0;32m      3\u001b[0m \u001b[1;31m# scikit-learn 입력을 위해 2D 배열로 변환\u001b[0m\u001b[1;33m\u001b[0m\u001b[1;33m\u001b[0m\u001b[1;33m\u001b[0m\u001b[0m\n\u001b[0;32m      4\u001b[0m \u001b[0mX_sk\u001b[0m \u001b[1;33m=\u001b[0m \u001b[0mX\u001b[0m\u001b[1;33m.\u001b[0m\u001b[0mreshape\u001b[0m\u001b[1;33m(\u001b[0m\u001b[1;33m-\u001b[0m\u001b[1;36m1\u001b[0m\u001b[1;33m,\u001b[0m \u001b[1;36m1\u001b[0m\u001b[1;33m)\u001b[0m\u001b[1;33m\u001b[0m\u001b[1;33m\u001b[0m\u001b[0m\n\u001b[0;32m      5\u001b[0m \u001b[1;33m\u001b[0m\u001b[0m\n",
      "\u001b[1;31mImportError\u001b[0m: cannot import name 'QuantileRegressor' from 'sklearn.linear_model' (C:\\Users\\kangs\\miniconda3\\envs\\ADP-study\\lib\\site-packages\\sklearn\\linear_model\\__init__.py)"
     ]
    }
   ],
   "source": [
    "from sklearn.linear_model import QuantileRegressor\n",
    "\n",
    "# scikit-learn 입력을 위해 2D 배열로 변환\n",
    "X_sk = X.reshape(-1, 1)\n",
    "\n",
    "# QuantileRegressor 하이퍼파라미터\n",
    "# quantile: 예측할 분위수 (0 < quantile < 1). (기본값=0.5)\n",
    "# alpha: 규제 강도 (L1 규제). (기본값=1.0)\n",
    "# solver: 최적화에 사용할 솔버. 데이터 크기에 따라 'highs', 'highs-ds', 'highs-ipm' 등을 선택. (기본값='highs')\n",
    "q_reg_50 = QuantileRegressor(quantile=0.5, alpha=0)\n",
    "q_reg_50.fit(X_sk, y)\n",
    "\n",
    "print(f\"Scikit-learn 50% 분위수 회귀 계수: {q_reg_50.coef_}, 절편: {q_reg_50.intercept_}\")\n",
    "# statsmodels 결과와 비교해볼 수 있습니다."
   ]
  },
  {
   "cell_type": "code",
   "execution_count": 14,
   "metadata": {},
   "outputs": [
    {
     "data": {
      "image/png": "[encoded data removed]",
      "text/plain": [
       "<Figure size 432x288 with 1 Axes>"
      ]
     },
     "metadata": {
      "needs_background": "light"
     },
     "output_type": "display_data"
    },
    {
     "name": "stdout",
     "output_type": "stream",
     "text": [
      "Huber 회귀 계수: [2.41020091], 절편: 0.6654725461601323\n",
      "선형 회귀 계수: [2.01154445], 절편: 14.826638951529306\n"
     ]
    }
   ],
   "source": [
    "import numpy as np\n",
    "import pandas as pd\n",
    "from sklearn.linear_model import HuberRegressor, LinearRegression\n",
    "from sklearn.model_selection import train_test_split\n",
    "import matplotlib.pyplot as plt\n",
    "\n",
    "# 1. 데이터 생성 (이상치 포함)\n",
    "np.random.seed(42)\n",
    "X = np.random.rand(100, 1) * 10\n",
    "y = 2.5 * X.ravel() + np.random.randn(100) * 2\n",
    "\n",
    "# 이상치 추가\n",
    "X[90:] = np.random.rand(10, 1) * 10\n",
    "y[90:] = np.random.rand(10) * 50 + 100\n",
    "\n",
    "# 2. 모델 학습\n",
    "# HuberRegressor 하이퍼파라미터\n",
    "# epsilon: L1과 L2 손실을 전환하는 임계값. 이상치로 판단할 기준을 정합니다. (기본값=1.35)\n",
    "#   - 데이터의 스케일에 따라 조정이 필요할 수 있습니다.\n",
    "# alpha: 규제 강도. 모델의 복잡도를 제어합니다. (기본값=0.0001)\n",
    "huber = HuberRegressor(epsilon=1.35)\n",
    "huber.fit(X, y)\n",
    "\n",
    "# 비교를 위한 일반 선형 회귀\n",
    "lr = LinearRegression()\n",
    "lr.fit(X, y)\n",
    "\n",
    "# 3. 결과 시각화\n",
    "plt.scatter(X, y, label='Data with outliers')\n",
    "plt.plot(X, lr.predict(X), color='red', linewidth=2, label='Linear Regression')\n",
    "plt.plot(X, huber.predict(X), color='green', linewidth=2, label='Huber Regression')\n",
    "plt.title('Huber Regression vs. Linear Regression')\n",
    "plt.xlabel('X')\n",
    "plt.ylabel('y')\n",
    "plt.legend()\n",
    "plt.show()\n",
    "\n",
    "print(f\"Huber 회귀 계수: {huber.coef_}, 절편: {huber.intercept_}\")\n",
    "print(f\"선형 회귀 계수: {lr.coef_}, 절편: {lr.intercept_}\")"
   ]
  },
  {
   "cell_type": "code",
   "execution_count": 15,
   "metadata": {},
   "outputs": [
    {
     "data": {
      "image/png": "[encoded data removed]",
      "text/plain": [
       "<Figure size 432x288 with 1 Axes>"
      ]
     },
     "metadata": {
      "needs_background": "light"
     },
     "output_type": "display_data"
    },
    {
     "name": "stdout",
     "output_type": "stream",
     "text": [
      "RANSAC 회귀 계수: [2.52161901], 절편: 0.23172065055441493\n"
     ]
    }
   ],
   "source": [
    "from sklearn.linear_model import RANSACRegressor\n",
    "\n",
    "# RANSACRegressor 하이퍼파라미터\n",
    "# base_estimator: 사용할 기본 모델 (e.g., LinearRegression). (기본값=LinearRegression())\n",
    "# min_samples: 무작위로 선택할 최소 샘플의 개수. (기본값=None, X.shape[1] + 1)\n",
    "# residual_threshold: 정상치로 판단할 최대 잔차(오차)의 크기. (기본값=MAD of y)\n",
    "# max_trials: 최대 반복 횟수. (기본값=100)\n",
    "ransac = RANSACRegressor(base_estimator=LinearRegression(), min_samples=50, residual_threshold=5.0, random_state=42)\n",
    "ransac.fit(X, y)\n",
    "\n",
    "# 결과 시각화\n",
    "inlier_mask = ransac.inlier_mask_\n",
    "outlier_mask = np.logical_not(inlier_mask)\n",
    "\n",
    "plt.scatter(X[inlier_mask], y[inlier_mask], color='blue', marker='.', label='Inliers')\n",
    "plt.scatter(X[outlier_mask], y[outlier_mask], color='red', marker='.', label='Outliers')\n",
    "plt.plot(X, ransac.predict(X), color='green', linewidth=2, label='RANSAC Regressor')\n",
    "plt.legend()\n",
    "plt.show()\n",
    "\n",
    "print(f\"RANSAC 회귀 계수: {ransac.estimator_.coef_}, 절편: {ransac.estimator_.intercept_}\")"
   ]
  },
  {
   "cell_type": "code",
   "execution_count": 16,
   "metadata": {},
   "outputs": [
    {
     "data": {
      "image/png": "[encoded data removed]",
      "text/plain": [
       "<Figure size 432x288 with 1 Axes>"
      ]
     },
     "metadata": {
      "needs_background": "light"
     },
     "output_type": "display_data"
    },
    {
     "name": "stdout",
     "output_type": "stream",
     "text": [
      "Theil-Sen 회귀 계수: [2.38914674], 절편: 0.6428816171681937\n"
     ]
    }
   ],
   "source": [
    "from sklearn.linear_model import TheilSenRegressor\n",
    "\n",
    "# TheilSenRegressor 하이퍼파라미터\n",
    "# n_subsamples: 기울기 계산 시 사용할 하위 샘플의 개수. 데이터가 클 때 계산 속도를 높이기 위해 사용. (기본값=n_samples)\n",
    "# max_iter: 최대 반복 횟수. (기본값=300)\n",
    "# random_state: 재현성을 위한 시드.\n",
    "theil_sen = TheilSenRegressor(random_state=42)\n",
    "theil_sen.fit(X, y)\n",
    "\n",
    "# 결과 시각화\n",
    "plt.scatter(X, y, label='Data with outliers')\n",
    "plt.plot(X, lr.predict(X), color='red', linewidth=2, label='Linear Regression')\n",
    "plt.plot(X, theil_sen.predict(X), color='purple', linewidth=2, label='Theil-Sen Regressor')\n",
    "plt.legend()\n",
    "plt.show()\n",
    "\n",
    "print(f\"Theil-Sen 회귀 계수: {theil_sen.coef_}, 절편: {theil_sen.intercept_}\")"
   ]
  },
  {
   "cell_type": "code",
   "execution_count": 17,
   "metadata": {},
   "outputs": [
    {
     "data": {
      "image/png": "[encoded data removed]",
      "text/plain": [
       "<Figure size 432x288 with 1 Axes>"
      ]
     },
     "metadata": {
      "needs_background": "light"
     },
     "output_type": "display_data"
    },
    {
     "name": "stdout",
     "output_type": "stream",
     "text": [
      "추정된 회귀 계수 (평균): [2.28556861]\n",
      "추정된 절편 (평균): 0.7789537607408423\n",
      "추정된 alpha (오차의 정밀도): 0.0466\n",
      "추정된 lambda (가중치의 정밀도): 0.1903\n"
     ]
    }
   ],
   "source": [
    "import numpy as np\n",
    "from sklearn.linear_model import BayesianRidge, LinearRegression\n",
    "from sklearn.model_selection import train_test_split\n",
    "import matplotlib.pyplot as plt\n",
    "\n",
    "# 1. 데이터 생성\n",
    "np.random.seed(42)\n",
    "X = np.random.rand(100, 1) * 10\n",
    "y = 2.5 * X.ravel() + np.random.randn(100) * 5\n",
    "\n",
    "X_train, X_test, y_train, y_test = train_test_split(X, y, test_size=0.2, random_state=42)\n",
    "\n",
    "# 2. 모델 학습\n",
    "# BayesianRidge 하이퍼파라미터\n",
    "# n_iter: 최대 반복 횟수. (기본값=300)\n",
    "# tol: 수렴 조건. (기본값=1e-3)\n",
    "# alpha_1, alpha_2: alpha(정밀도) 사전분포(감마분포)의 하이퍼파라미터. (기본값=1e-6)\n",
    "# lambda_1, lambda_2: lambda(정밀도) 사전분포(감마분포)의 하이퍼파라미터. (기본값=1e-6)\n",
    "#   - 이 값들은 보통 기본값을 사용하며, 모델이 데이터로부터 alpha와 lambda를 추정하게 됩니다.\n",
    "br = BayesianRidge()\n",
    "br.fit(X_train, y_train)\n",
    "\n",
    "lr = LinearRegression()\n",
    "lr.fit(X_train, y_train)\n",
    "\n",
    "# 3. 예측 및 불확실성 확인\n",
    "# return_std=True로 설정하면 예측값의 표준편차를 함께 반환합니다.\n",
    "y_pred_br, y_std_br = br.predict(X_test, return_std=True)\n",
    "y_pred_lr = lr.predict(X_test)\n",
    "\n",
    "# 4. 결과 시각화\n",
    "plt.scatter(X_train, y_train, label='Train Data')\n",
    "plt.scatter(X_test, y_test, color='red', label='Test Data')\n",
    "\n",
    "# 베이지안 회귀 예측 및 신용 구간\n",
    "plt.plot(X_test, y_pred_br, color='green', label='Bayesian Ridge Prediction')\n",
    "plt.fill_between(X_test.ravel(), y_pred_br - y_std_br, y_pred_br + y_std_br, color='green', alpha=0.2, label='95% Credible Interval')\n",
    "\n",
    "plt.title('Bayesian Ridge Regression')\n",
    "plt.xlabel('X')\n",
    "plt.ylabel('y')\n",
    "plt.legend()\n",
    "plt.show()\n",
    "\n",
    "# 5. 추정된 파라미터 확인\n",
    "print(f\"추정된 회귀 계수 (평균): {br.coef_}\")\n",
    "print(f\"추정된 절편 (평균): {br.intercept_}\")\n",
    "print(f\"추정된 alpha (오차의 정밀도): {br.alpha_:.4f}\")\n",
    "print(f\"추정된 lambda (가중치의 정밀도): {br.lambda_:.4f}\")"
   ]
  },
  {
   "cell_type": "code",
   "execution_count": 18,
   "metadata": {},
   "outputs": [
    {
     "name": "stdout",
     "output_type": "stream",
     "text": [
      "--- 푸아송 회귀 결과 ---\n",
      "                 Generalized Linear Model Regression Results                  \n",
      "==============================================================================\n",
      "Dep. Variable:                      y   No. Observations:                  140\n",
      "Model:                            GLM   Df Residuals:                      137\n",
      "Model Family:                 Poisson   Df Model:                            2\n",
      "Link Function:                    Log   Scale:                          1.0000\n",
      "Method:                          IRLS   Log-Likelihood:                -306.35\n",
      "Date:                Fri, 10 Oct 2025   Deviance:                       178.94\n",
      "Time:                        16:25:12   Pearson chi2:                     166.\n",
      "No. Iterations:                     5   Pseudo R-squ. (CS):             0.6142\n",
      "Covariance Type:            nonrobust                                         \n",
      "==============================================================================\n",
      "                 coef    std err          z      P>|z|      [0.025      0.975]\n",
      "------------------------------------------------------------------------------\n",
      "const         -0.2723      0.183     -1.487      0.137      -0.631       0.087\n",
      "hour           0.0972      0.010      9.302      0.000       0.077       0.118\n",
      "is_weekend     0.5408      0.084      6.474      0.000       0.377       0.705\n",
      "==============================================================================\n"
     ]
    }
   ],
   "source": [
    "import statsmodels.api as sm\n",
    "import pandas as pd\n",
    "import numpy as np\n",
    "\n",
    "# 1. 데이터 생성\n",
    "np.random.seed(42)\n",
    "X = pd.DataFrame({\n",
    "    'hour': np.arange(8, 22).repeat(10), # 오전 8시 ~ 오후 9시\n",
    "    'is_weekend': np.random.randint(0, 2, 140)\n",
    "})\n",
    "# 시간에 따라 방문자 수가 변하고, 주말에 더 많다고 가정\n",
    "lambda_val = np.exp(0.5 + 0.1 * (X['hour'] - 8) + 0.5 * X['is_weekend'])\n",
    "y = np.random.poisson(lambda_val)\n",
    "\n",
    "X_const = sm.add_constant(X)\n",
    "\n",
    "# 2. 모델 학습\n",
    "# family=sm.families.Poisson(): 푸아송 분포와 로그 연결 함수(기본값)를 사용\n",
    "poisson_model = sm.GLM(y, X_const, family=sm.families.Poisson())\n",
    "poisson_results = poisson_model.fit()\n",
    "\n",
    "print(\"--- 푸아송 회귀 결과 ---\")\n",
    "print(poisson_results.summary())\n",
    "\n",
    "# 결과 해석: coef는 로그 스케일에서의 변화량. np.exp(coef)를 통해 해석.\n",
    "# e.g., is_weekend의 계수가 0.48이면, 주말일 때 평일보다 고객 수가 exp(0.48) \\u2248 1.62배 많아짐을 의미."
   ]
  },
  {
   "cell_type": "code",
   "execution_count": 24,
   "metadata": {},
   "outputs": [
    {
     "name": "stdout",
     "output_type": "stream",
     "text": [
      "\n",
      "--- 음이항 회귀 결과 ---\n",
      "                 Generalized Linear Model Regression Results                  \n",
      "==============================================================================\n",
      "Dep. Variable:                      y   No. Observations:                  140\n",
      "Model:                            GLM   Df Residuals:                      137\n",
      "Model Family:        NegativeBinomial   Df Model:                            2\n",
      "Link Function:                    Log   Scale:                          1.0000\n",
      "Method:                          IRLS   Log-Likelihood:                -358.03\n",
      "Date:                Fri, 10 Oct 2025   Deviance:                       47.109\n",
      "Time:                        16:51:23   Pearson chi2:                     34.5\n",
      "No. Iterations:                     5   Pseudo R-squ. (CS):             0.1573\n",
      "Covariance Type:            nonrobust                                         \n",
      "==============================================================================\n",
      "                 coef    std err          z      P>|z|      [0.025      0.975]\n",
      "------------------------------------------------------------------------------\n",
      "const         -0.2408      0.381     -0.632      0.527      -0.988       0.506\n",
      "hour           0.0964      0.024      4.063      0.000       0.050       0.143\n",
      "is_weekend     0.5084      0.192      2.655      0.008       0.133       0.884\n",
      "==============================================================================\n"
     ]
    }
   ],
   "source": [
    "# 음이항 회귀 모델 학습\n",
    "# family=sm.families.NegativeBinomial(): 음이항 분포와 로그 연결 함수 사용\n",
    "neg_binom_model = sm.GLM(y, X_const, family=sm.families.NegativeBinomial())\n",
    "neg_binom_results = neg_binom_model.fit()\n",
    "\n",
    "print(\"\\n--- 음이항 회귀 결과 ---\")\n",
    "print(neg_binom_results.summary())\n",
    "\n",
    "# 결과 해석: summary의 [alpha] 값이 음이항 분포의 과산포 파라미터.\n",
    "# 이 값이 0에 가깝지 않고 통계적으로 유의하면 과산포가 존재하며, 음이항 모델이 더 적합함을 시사."
   ]
  },
  {
   "cell_type": "code",
   "execution_count": 25,
   "metadata": {},
   "outputs": [
    {
     "name": "stdout",
     "output_type": "stream",
     "text": [
      "Optimization terminated successfully.\n",
      "         Current function value: 2.184673\n",
      "         Iterations: 15\n",
      "         Function evaluations: 16\n",
      "         Gradient evaluations: 16\n",
      "                     NegativeBinomial Regression Results                      \n",
      "==============================================================================\n",
      "Dep. Variable:                      y   No. Observations:                  140\n",
      "Model:               NegativeBinomial   Df Residuals:                      137\n",
      "Method:                           MLE   Df Model:                            2\n",
      "Date:                Fri, 10 Oct 2025   Pseudo R-squ.:                  0.1195\n",
      "Time:                        16:57:15   Log-Likelihood:                -305.85\n",
      "converged:                       True   LL-Null:                       -347.36\n",
      "Covariance Type:            nonrobust   LLR p-value:                 9.461e-19\n",
      "==============================================================================\n",
      "                 coef    std err          z      P>|z|      [0.025      0.975]\n",
      "------------------------------------------------------------------------------\n",
      "const         -0.2670      0.192     -1.390      0.164      -0.643       0.109\n",
      "hour           0.0970      0.011      8.765      0.000       0.075       0.119\n",
      "is_weekend     0.5367      0.089      6.058      0.000       0.363       0.710\n",
      "alpha          0.0261      0.029      0.894      0.371      -0.031       0.083\n",
      "==============================================================================\n"
     ]
    }
   ],
   "source": [
    "import statsmodels.api as sm\n",
    "\n",
    "neg_binom2 = sm.NegativeBinomial(y, X_const)\n",
    "neg_binom2_results = neg_binom2.fit()\n",
    "\n",
    "print(neg_binom2_results.summary())"
   ]
  },
  {
   "cell_type": "code",
   "execution_count": null,
   "metadata": {},
   "outputs": [],
   "source": []
  },
  {
   "cell_type": "code",
   "execution_count": null,
   "metadata": {},
   "outputs": [],
   "source": []
  },
  {
   "cell_type": "code",
   "execution_count": null,
   "metadata": {},
   "outputs": [],
   "source": []
  }
 ],
 "metadata": {
  "kernelspec": {
   "display_name": "Python 3",
   "language": "python",
   "name": "python3"
  },
  "language_info": {
   "codemirror_mode": {
    "name": "ipython",
    "version": 3
   },
   "file_extension": ".py",
   "mimetype": "text/x-python",
   "name": "python",
   "nbconvert_exporter": "python",
   "pygments_lexer": "ipython3",
   "version": "3.7.1"
  }
 },
 "nbformat": 4,
 "nbformat_minor": 4
}
