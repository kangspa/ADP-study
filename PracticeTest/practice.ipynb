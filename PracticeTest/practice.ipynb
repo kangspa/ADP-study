{
 "cells": [
  {
   "cell_type": "code",
   "execution_count": 24,
   "metadata": {},
   "outputs": [],
   "source": [
    "import pandas as pd\n",
    "from sklearn.preprocessing import StandardScaler, MinMaxScaler, RobustScaler\n",
    "\n",
    "# 소득과 나이, 그리고 이상치를 포함한 데이터 생성\n",
    "data = {'income': [50000, 52000, 48000, 150000, 51000, 49000, 1000000],\n",
    "        'age': [25, 30, 28, 45, 26, 27, 35]}\n",
    "df = pd.DataFrame(data)"
   ]
  },
  {
   "cell_type": "code",
   "execution_count": 73,
   "metadata": {
    "scrolled": true
   },
   "outputs": [
    {
     "name": "stdout",
     "output_type": "stream",
     "text": [
      "--- StandardScaler Result ---\n",
      "[[-0.45673461 -0.89640241]\n",
      " [-0.45064482 -0.13118084]\n",
      " [-0.46282441 -0.43726947]\n",
      " [-0.15224487  2.16448387]\n",
      " [-0.45368972 -0.7433581 ]\n",
      " [-0.45977951 -0.59031378]\n",
      " [ 2.43591795  0.63404073]]\n",
      "\n",
      "Mean: [ 0.00000000e+00 -9.51619735e-17]\n",
      "Std: [1. 1.]\n",
      "[[-0.45673461 -0.89640241]\n",
      " [-0.45064482 -0.13118084]\n",
      " [-0.46282441 -0.43726947]\n",
      " [-0.15224487  2.16448387]\n",
      " [-0.45368972 -0.7433581 ]\n",
      " [-0.45977951 -0.59031378]\n",
      " [ 2.43591795  0.63404073]]\n",
      "\n",
      "Mean: [ 0.00000000e+00 -3.17206578e-17]\n",
      "Std: [1. 1.]\n"
     ]
    }
   ],
   "source": [
    "# 1. 스케일러 객체 생성\n",
    "scaler_std = StandardScaler()\n",
    "\n",
    "# 2. 데이터에 fit_transform 적용 (fit과 transform을 동시에)\n",
    "df_std = scaler_std.fit_transform(df)\n",
    "\n",
    "# 결과 확인 (Numpy 배열로 반환됨)\n",
    "print(\"--- StandardScaler Result ---\")\n",
    "print(df_std)\n",
    "print(f\"\\nMean: {df_std.mean(axis=0)}\")\n",
    "print(f\"Std: {df_std.std(axis=0)}\")\n",
    "\n",
    "# Scikit-Learn을 사용 못할 경우 직접 연산 하는 방법\n",
    "# ddof=0 으로 표준편차 설정을 해줘야 모수 표준편차로 계산됨 (기본 ddof=1은 표본 표준편차)\n",
    "scaled_res = ((df - df.mean()) / df.std(ddof=0)).to_numpy()\n",
    "\n",
    "# 일부 열만 스케일링하고 싶을 경우, cols를 지정한다.\n",
    "cols = ['income', 'age']\n",
    "scaled_res = ((df[cols] - df[cols].mean()) / df[cols].std(ddof=0)).to_numpy()\n",
    "\n",
    "# Scikit-Learn과 동일한 결과를 볼 수 있다.\n",
    "print(scaled_res)\n",
    "print(f\"\\nMean: {scaled_res.mean(axis=0)}\")\n",
    "print(f\"Std: {scaled_res.std(axis=0)}\")"
   ]
  },
  {
   "cell_type": "code",
   "execution_count": 74,
   "metadata": {},
   "outputs": [
    {
     "name": "stdout",
     "output_type": "stream",
     "text": [
      "--- MinMaxScaler Result ---\n",
      "[[0.00210084 0.        ]\n",
      " [0.00420168 0.25      ]\n",
      " [0.         0.15      ]\n",
      " [0.10714286 1.        ]\n",
      " [0.00315126 0.05      ]\n",
      " [0.00105042 0.1       ]\n",
      " [1.         0.5       ]]\n",
      "\n",
      "Min: [0. 0.]\n",
      "Max: [1. 1.]\n",
      "[[0.00210084 0.        ]\n",
      " [0.00420168 0.25      ]\n",
      " [0.         0.15      ]\n",
      " [0.10714286 1.        ]\n",
      " [0.00315126 0.05      ]\n",
      " [0.00105042 0.1       ]\n",
      " [1.         0.5       ]]\n",
      "\n",
      "Min: [0. 0.]\n",
      "Max: [1. 1.]\n"
     ]
    }
   ],
   "source": [
    "# 1. 스케일러 객체 생성\n",
    "scaler_minmax = MinMaxScaler()\n",
    "\n",
    "# 2. 데이터에 fit_transform 적용\n",
    "df_minmax = scaler_minmax.fit_transform(df)\n",
    "\n",
    "# 결과 확인\n",
    "print(\"--- MinMaxScaler Result ---\")\n",
    "print(df_minmax)\n",
    "print(f\"\\nMin: {df_minmax.min(axis=0)}\")\n",
    "print(f\"Max: {df_minmax.max(axis=0)}\")\n",
    "\n",
    "# Scikit-Learn을 사용 못할 경우 직접 연산 하는 방법\n",
    "# ddof=0 으로 표준편차 설정을 해줘야 모수 표준편차로 계산됨 (기본 ddof=1은 표본 표준편차)\n",
    "scaled_res = ((df - df.min()) / (df.max()-df.min())).to_numpy()\n",
    "\n",
    "# 일부 열만 스케일링하고 싶을 경우, cols를 지정한다.\n",
    "cols = ['income', 'age']\n",
    "scaled_res = ((df[cols] - df[cols].min()) / (df[cols].max()-df[cols].min())).to_numpy()\n",
    "\n",
    "# Scikit-Learn과 동일한 결과를 볼 수 있다.\n",
    "print(scaled_res)\n",
    "print(f\"\\nMin: {scaled_res.min(axis=0)}\")\n",
    "print(f\"Max: {scaled_res.max(axis=0)}\")"
   ]
  },
  {
   "cell_type": "code",
   "execution_count": 77,
   "metadata": {},
   "outputs": [
    {
     "name": "stdout",
     "output_type": "stream",
     "text": [
      "--- RobustScaler Result ---\n",
      "[[-0.01941748 -0.5       ]\n",
      " [ 0.01941748  0.33333333]\n",
      " [-0.05825243  0.        ]\n",
      " [ 1.9223301   2.83333333]\n",
      " [ 0.         -0.33333333]\n",
      " [-0.03883495 -0.16666667]\n",
      " [18.42718447  1.16666667]]\n",
      "[[-0.01941748 -0.5       ]\n",
      " [ 0.01941748  0.33333333]\n",
      " [-0.05825243  0.        ]\n",
      " [ 1.9223301   2.83333333]\n",
      " [ 0.         -0.33333333]\n",
      " [-0.03883495 -0.16666667]\n",
      " [18.42718447  1.16666667]]\n"
     ]
    }
   ],
   "source": [
    "# 1. 스케일러 객체 생성\n",
    "scaler_robust = RobustScaler()\n",
    "\n",
    "# 2. 데이터에 fit_transform 적용\n",
    "df_robust = scaler_robust.fit_transform(df)\n",
    "\n",
    "# 결과 확인\n",
    "print(\"--- RobustScaler Result ---\")\n",
    "print(df_robust)\n",
    "\n",
    "# Scikit-Learn을 사용 못할 경우 직접 연산 하는 방법\n",
    "\n",
    "# 중앙값과 3분위수-1분위수를 통해 IQR 값을 구하고 진행\n",
    "median = df.median()\n",
    "iqr = df.quantile(0.75) - df.quantile(0.25)\n",
    "scaled_res = ((df - median) / iqr).to_numpy()\n",
    "\n",
    "# 일부 열만 스케일링하고 싶을 경우, cols를 지정한다.\n",
    "cols = ['income', 'age']\n",
    "scaled_res = ((df[cols] - df[cols].median()) / (df[cols].quantile(0.75)-df[cols].quantile(0.25))).to_numpy()\n",
    "\n",
    "# Scikit-Learn과 동일한 결과를 볼 수 있다.\n",
    "print(scaled_res)"
   ]
  },
  {
   "cell_type": "code",
   "execution_count": 79,
   "metadata": {},
   "outputs": [
    {
     "data": {
      "text/html": [
       "<div>\n",
       "<style scoped>\n",
       "    .dataframe tbody tr th:only-of-type {\n",
       "        vertical-align: middle;\n",
       "    }\n",
       "\n",
       "    .dataframe tbody tr th {\n",
       "        vertical-align: top;\n",
       "    }\n",
       "\n",
       "    .dataframe thead th {\n",
       "        text-align: right;\n",
       "    }\n",
       "</style>\n",
       "<table border=\"1\" class=\"dataframe\">\n",
       "  <thead>\n",
       "    <tr style=\"text-align: right;\">\n",
       "      <th></th>\n",
       "      <th>income</th>\n",
       "      <th>age</th>\n",
       "    </tr>\n",
       "  </thead>\n",
       "  <tbody>\n",
       "    <tr>\n",
       "      <th>0</th>\n",
       "      <td>50000</td>\n",
       "      <td>25</td>\n",
       "    </tr>\n",
       "    <tr>\n",
       "      <th>1</th>\n",
       "      <td>52000</td>\n",
       "      <td>30</td>\n",
       "    </tr>\n",
       "    <tr>\n",
       "      <th>2</th>\n",
       "      <td>48000</td>\n",
       "      <td>28</td>\n",
       "    </tr>\n",
       "    <tr>\n",
       "      <th>3</th>\n",
       "      <td>150000</td>\n",
       "      <td>45</td>\n",
       "    </tr>\n",
       "    <tr>\n",
       "      <th>4</th>\n",
       "      <td>51000</td>\n",
       "      <td>26</td>\n",
       "    </tr>\n",
       "    <tr>\n",
       "      <th>5</th>\n",
       "      <td>49000</td>\n",
       "      <td>27</td>\n",
       "    </tr>\n",
       "    <tr>\n",
       "      <th>6</th>\n",
       "      <td>1000000</td>\n",
       "      <td>35</td>\n",
       "    </tr>\n",
       "  </tbody>\n",
       "</table>\n",
       "</div>"
      ],
      "text/plain": [
       "    income  age\n",
       "0    50000   25\n",
       "1    52000   30\n",
       "2    48000   28\n",
       "3   150000   45\n",
       "4    51000   26\n",
       "5    49000   27\n",
       "6  1000000   35"
      ]
     },
     "execution_count": 79,
     "metadata": {},
     "output_type": "execute_result"
    }
   ],
   "source": [
    "df"
   ]
  },
  {
   "cell_type": "code",
   "execution_count": 81,
   "metadata": {
    "scrolled": true
   },
   "outputs": [
    {
     "data": {
      "text/html": [
       "<div>\n",
       "<style scoped>\n",
       "    .dataframe tbody tr th:only-of-type {\n",
       "        vertical-align: middle;\n",
       "    }\n",
       "\n",
       "    .dataframe tbody tr th {\n",
       "        vertical-align: top;\n",
       "    }\n",
       "\n",
       "    .dataframe thead th {\n",
       "        text-align: right;\n",
       "    }\n",
       "</style>\n",
       "<table border=\"1\" class=\"dataframe\">\n",
       "  <thead>\n",
       "    <tr style=\"text-align: right;\">\n",
       "      <th></th>\n",
       "      <th>0</th>\n",
       "      <th>1</th>\n",
       "    </tr>\n",
       "  </thead>\n",
       "  <tbody>\n",
       "    <tr>\n",
       "      <th>0</th>\n",
       "      <td>50000</td>\n",
       "      <td>25</td>\n",
       "    </tr>\n",
       "    <tr>\n",
       "      <th>1</th>\n",
       "      <td>52000</td>\n",
       "      <td>30</td>\n",
       "    </tr>\n",
       "    <tr>\n",
       "      <th>2</th>\n",
       "      <td>48000</td>\n",
       "      <td>28</td>\n",
       "    </tr>\n",
       "    <tr>\n",
       "      <th>3</th>\n",
       "      <td>150000</td>\n",
       "      <td>45</td>\n",
       "    </tr>\n",
       "    <tr>\n",
       "      <th>4</th>\n",
       "      <td>51000</td>\n",
       "      <td>26</td>\n",
       "    </tr>\n",
       "    <tr>\n",
       "      <th>5</th>\n",
       "      <td>49000</td>\n",
       "      <td>27</td>\n",
       "    </tr>\n",
       "    <tr>\n",
       "      <th>6</th>\n",
       "      <td>1000000</td>\n",
       "      <td>35</td>\n",
       "    </tr>\n",
       "  </tbody>\n",
       "</table>\n",
       "</div>"
      ],
      "text/plain": [
       "         0   1\n",
       "0    50000  25\n",
       "1    52000  30\n",
       "2    48000  28\n",
       "3   150000  45\n",
       "4    51000  26\n",
       "5    49000  27\n",
       "6  1000000  35"
      ]
     },
     "execution_count": 81,
     "metadata": {},
     "output_type": "execute_result"
    }
   ],
   "source": [
    "pd.DataFrame(scaler_robust.inverse_transform(df_robust)).astype(\"int\")"
   ]
  }
 ],
 "metadata": {
  "kernelspec": {
   "display_name": "Python 3",
   "language": "python",
   "name": "python3"
  },
  "language_info": {
   "codemirror_mode": {
    "name": "ipython",
    "version": 3
   },
   "file_extension": ".py",
   "mimetype": "text/x-python",
   "name": "python",
   "nbconvert_exporter": "python",
   "pygments_lexer": "ipython3",
   "version": "3.7.1"
  }
 },
 "nbformat": 4,
 "nbformat_minor": 2
}
