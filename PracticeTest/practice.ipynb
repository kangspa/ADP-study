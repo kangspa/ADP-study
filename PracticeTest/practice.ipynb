{
 "cells": [
  {
   "cell_type": "code",
   "execution_count": 101,
   "metadata": {},
   "outputs": [],
   "source": [
    "import warnings\n",
    "warnings.filterwarnings('ignore')"
   ]
  },
  {
   "cell_type": "code",
   "execution_count": 99,
   "metadata": {},
   "outputs": [
    {
     "name": "stdout",
     "output_type": "stream",
     "text": [
      "Original dataset shape Counter({0: 990, 1: 10})\n"
     ]
    }
   ],
   "source": [
    "from collections import Counter\n",
    "from sklearn.datasets import make_classification\n",
    "import pandas as pd\n",
    "\n",
    "# 불균형 데이터셋 생성\n",
    "X, y = make_classification(n_samples=1000, n_features=10, n_informative=5, \n",
    "                           n_redundant=0, n_classes=2, n_clusters_per_class=1,\n",
    "                           weights=[0.99, 0.01], flip_y=0, random_state=42)\n",
    "\n",
    "print(f\"Original dataset shape %s\" % Counter(y))\n",
    "# Original dataset shape Counter({0: 990, 1: 10})"
   ]
  },
  {
   "cell_type": "code",
   "execution_count": 102,
   "metadata": {},
   "outputs": [
    {
     "name": "stdout",
     "output_type": "stream",
     "text": [
      "Resampled dataset shape Counter({0: 10, 1: 10})\n"
     ]
    }
   ],
   "source": [
    "from imblearn.under_sampling import RandomUnderSampler\n",
    "\n",
    "rus = RandomUnderSampler(random_state=42)\n",
    "X_resampled_under, y_resampled_under = rus.fit_resample(X, y)\n",
    "\n",
    "print(f\"Resampled dataset shape %s\" % Counter(y_resampled_under))\n",
    "# Resampled dataset shape Counter({0: 10, 1: 10})"
   ]
  },
  {
   "cell_type": "code",
   "execution_count": 103,
   "metadata": {},
   "outputs": [
    {
     "name": "stdout",
     "output_type": "stream",
     "text": [
      "Resampled dataset shape Counter({0: 990, 1: 990})\n"
     ]
    }
   ],
   "source": [
    "from imblearn.over_sampling import SMOTE\n",
    "\n",
    "smote = SMOTE(random_state=42)\n",
    "X_resampled_smote, y_resampled_smote = smote.fit_resample(X, y)\n",
    "\n",
    "print(f\"Resampled dataset shape %s\" % Counter(y_resampled_smote))\n",
    "# Resampled dataset shape Counter({0: 990, 1: 990})"
   ]
  },
  {
   "cell_type": "code",
   "execution_count": 106,
   "metadata": {},
   "outputs": [
    {
     "name": "stdout",
     "output_type": "stream",
     "text": [
      "--- No Class Weight ---\n",
      "              precision    recall  f1-score   support\n",
      "\n",
      "           0       0.99      1.00      1.00       297\n",
      "           1       1.00      0.33      0.50         3\n",
      "\n",
      "    accuracy                           0.99       300\n",
      "   macro avg       1.00      0.67      0.75       300\n",
      "weighted avg       0.99      0.99      0.99       300\n",
      "\n",
      "\n",
      "--- With Class Weight ('balanced') ---\n",
      "              precision    recall  f1-score   support\n",
      "\n",
      "           0       0.99      1.00      0.99       297\n",
      "           1       0.50      0.33      0.40         3\n",
      "\n",
      "    accuracy                           0.99       300\n",
      "   macro avg       0.75      0.66      0.70       300\n",
      "weighted avg       0.99      0.99      0.99       300\n",
      "\n"
     ]
    }
   ],
   "source": [
    "from sklearn.linear_model import LogisticRegression\n",
    "from sklearn.model_selection import train_test_split\n",
    "from sklearn.metrics import classification_report\n",
    "\n",
    "X_train, X_test, y_train, y_test = train_test_split(X, y, test_size=0.3, random_state=42)\n",
    "\n",
    "# 1. 가중치 미적용\n",
    "model_no_weight = LogisticRegression(solver='liblinear')\n",
    "model_no_weight.fit(X_train, y_train)\n",
    "pred_no_weight = model_no_weight.predict(X_test)\n",
    "print(\"--- No Class Weight ---\")\n",
    "print(classification_report(y_test, pred_no_weight, zero_division=0))\n",
    "\n",
    "# 2. 가중치 적용\n",
    "model_with_weight = LogisticRegression(solver='liblinear', class_weight='balanced')\n",
    "model_with_weight.fit(X_train, y_train)\n",
    "pred_with_weight = model_with_weight.predict(X_test)\n",
    "print(\"\\n--- With Class Weight ('balanced') ---\")\n",
    "print(classification_report(y_test, pred_with_weight, zero_division=0))"
   ]
  },
  {
   "cell_type": "code",
   "execution_count": null,
   "metadata": {},
   "outputs": [],
   "source": []
  },
  {
   "cell_type": "code",
   "execution_count": null,
   "metadata": {},
   "outputs": [],
   "source": []
  },
  {
   "cell_type": "code",
   "execution_count": null,
   "metadata": {},
   "outputs": [],
   "source": []
  },
  {
   "cell_type": "code",
   "execution_count": null,
   "metadata": {},
   "outputs": [],
   "source": []
  },
  {
   "cell_type": "code",
   "execution_count": null,
   "metadata": {},
   "outputs": [],
   "source": []
  }
 ],
 "metadata": {
  "kernelspec": {
   "display_name": "Python 3",
   "language": "python",
   "name": "python3"
  },
  "language_info": {
   "codemirror_mode": {
    "name": "ipython",
    "version": 3
   },
   "file_extension": ".py",
   "mimetype": "text/x-python",
   "name": "python",
   "nbconvert_exporter": "python",
   "pygments_lexer": "ipython3",
   "version": "3.7.1"
  }
 },
 "nbformat": 4,
 "nbformat_minor": 2
}
