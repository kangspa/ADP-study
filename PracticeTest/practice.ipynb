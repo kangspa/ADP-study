{
 "cells": [
  {
   "cell_type": "code",
   "execution_count": 82,
   "metadata": {},
   "outputs": [],
   "source": [
    "import pandas as pd\n",
    "from sklearn.preprocessing import LabelEncoder, OneHotEncoder\n",
    "\n",
    "df = pd.DataFrame({'item': ['TV', 'Phone', 'Laptop', 'TV', 'Phone'],\n",
    "                   'grade': ['A', 'C', 'B', 'B', 'A'], # 순서가 있는 변수\n",
    "                   'status': ['new', 'used', 'new', 'refurbished', 'used'] # 순서가 없는 변수\n",
    "                  })"
   ]
  },
  {
   "cell_type": "code",
   "execution_count": 83,
   "metadata": {
    "scrolled": true
   },
   "outputs": [
    {
     "name": "stdout",
     "output_type": "stream",
     "text": [
      "--- LabelEncoder Classes ---\n",
      "['A' 'B' 'C']\n",
      "\n",
      "--- LabelEncoder Result ---\n",
      "  grade  grade_encoded\n",
      "0     A              0\n",
      "1     C              2\n",
      "2     B              1\n",
      "3     B              1\n",
      "4     A              0\n"
     ]
    }
   ],
   "source": [
    "# 순서형 변수 'grade'에 적용\n",
    "encoder_label = LabelEncoder()\n",
    "df['grade_encoded'] = encoder_label.fit_transform(df['grade'])\n",
    "\n",
    "# 매핑 관계 확인\n",
    "print(\"--- LabelEncoder Classes ---\")\n",
    "print(encoder_label.classes_) # ['A', 'B', 'C']\n",
    "\n",
    "print(\"\\n--- LabelEncoder Result ---\")\n",
    "print(df[['grade', 'grade_encoded']])\n",
    "'''\n",
    "--- LabelEncoder Result ---\n",
    "  grade  grade_encoded\n",
    "0     A              0\n",
    "1     C              2\n",
    "2     B              1\n",
    "3     B              1\n",
    "4     A              0\n",
    "'''"
   ]
  },
  {
   "cell_type": "code",
   "execution_count": 84,
   "metadata": {},
   "outputs": [
    {
     "name": "stdout",
     "output_type": "stream",
     "text": [
      "--- pd.get_dummies() Result ---\n",
      "     item grade       status  grade_encoded  status_new  status_refurbished  \\\n",
      "0      TV     A          new              0           1                   0   \n",
      "1   Phone     C         used              2           0                   0   \n",
      "2  Laptop     B          new              1           1                   0   \n",
      "3      TV     B  refurbished              1           0                   1   \n",
      "4   Phone     A         used              0           0                   0   \n",
      "\n",
      "   status_used  \n",
      "0            0  \n",
      "1            1  \n",
      "2            0  \n",
      "3            0  \n",
      "4            1  \n",
      "\n",
      "--- with drop_first=True ---\n",
      "   status_refurbished  status_used\n",
      "0                   0            0\n",
      "1                   0            1\n",
      "2                   0            0\n",
      "3                   1            0\n",
      "4                   0            1\n"
     ]
    }
   ],
   "source": [
    "# 'status' 열에 대해 원-핫 인코딩 수행\n",
    "dummies = pd.get_dummies(df['status'], prefix='status')\n",
    "\n",
    "# 원본 데이터프레임과 합치기\n",
    "df_dummies = pd.concat([df, dummies], axis=1)\n",
    "\n",
    "print(\"--- pd.get_dummies() Result ---\")\n",
    "print(df_dummies)\n",
    "\n",
    "# 다중공선성 방지를 위해 첫 번째 카테고리 열 제거\n",
    "dummies_dropped = pd.get_dummies(df['status'], prefix='status', drop_first=True)\n",
    "print(\"\\n--- with drop_first=True ---\")\n",
    "print(dummies_dropped)"
   ]
  },
  {
   "cell_type": "code",
   "execution_count": 89,
   "metadata": {},
   "outputs": [
    {
     "name": "stdout",
     "output_type": "stream",
     "text": [
      "--- OneHotEncoder Result ---\n",
      "   x0_new  x0_refurbished  x0_used\n",
      "0     1.0             0.0      0.0\n",
      "1     0.0             0.0      1.0\n",
      "2     1.0             0.0      0.0\n",
      "3     0.0             1.0      0.0\n",
      "4     0.0             0.0      1.0\n"
     ]
    }
   ],
   "source": [
    "# 1. 인코더 객체 생성\n",
    "# handle_unknown='ignore': 테스트 데이터에 새로운 카테고리가 나타나면 모두 0으로 처리\n",
    "encoder_ohe = OneHotEncoder(sparse=False, handle_unknown='ignore')\n",
    "\n",
    "# 2. 데이터에 fit_transform 적용\n",
    "ohe_transformed = encoder_ohe.fit_transform(df[['status']])\n",
    "\n",
    "# 3. 결과를 데이터프레임으로 변환\n",
    "df_ohe = pd.DataFrame(ohe_transformed, columns=encoder_ohe.get_feature_names())\n",
    "\n",
    "print(\"--- OneHotEncoder Result ---\")\n",
    "print(df_ohe)"
   ]
  },
  {
   "cell_type": "code",
   "execution_count": 90,
   "metadata": {},
   "outputs": [
    {
     "name": "stdout",
     "output_type": "stream",
     "text": [
      "        status  status_target_enc\n",
      "0          new                125\n",
      "1         used                190\n",
      "2          new                125\n",
      "3  refurbished                120\n",
      "4         used                190\n"
     ]
    }
   ],
   "source": [
    "import pandas as pd\n",
    "\n",
    "df = pd.DataFrame({\n",
    "    'item': ['TV', 'Phone', 'Laptop', 'TV', 'Phone'],\n",
    "    'grade': ['A', 'C', 'B', 'B', 'A'],\n",
    "    'status': ['new', 'used', 'new', 'refurbished', 'used'],\n",
    "    'target': [100, 200, 150, 120, 180]   # 예시 타겟 변수\n",
    "})\n",
    "\n",
    "# status별 target 평균값으로 매핑\n",
    "mean_map = df.groupby('status')['target'].mean()\n",
    "df['status_target_enc'] = df['status'].map(mean_map)\n",
    "\n",
    "print(df[['status', 'status_target_enc']])"
   ]
  },
  {
   "cell_type": "code",
   "execution_count": 81,
   "metadata": {
    "scrolled": true
   },
   "outputs": [
    {
     "data": {
      "text/html": [
       "<div>\n",
       "<style scoped>\n",
       "    .dataframe tbody tr th:only-of-type {\n",
       "        vertical-align: middle;\n",
       "    }\n",
       "\n",
       "    .dataframe tbody tr th {\n",
       "        vertical-align: top;\n",
       "    }\n",
       "\n",
       "    .dataframe thead th {\n",
       "        text-align: right;\n",
       "    }\n",
       "</style>\n",
       "<table border=\"1\" class=\"dataframe\">\n",
       "  <thead>\n",
       "    <tr style=\"text-align: right;\">\n",
       "      <th></th>\n",
       "      <th>0</th>\n",
       "      <th>1</th>\n",
       "    </tr>\n",
       "  </thead>\n",
       "  <tbody>\n",
       "    <tr>\n",
       "      <th>0</th>\n",
       "      <td>50000</td>\n",
       "      <td>25</td>\n",
       "    </tr>\n",
       "    <tr>\n",
       "      <th>1</th>\n",
       "      <td>52000</td>\n",
       "      <td>30</td>\n",
       "    </tr>\n",
       "    <tr>\n",
       "      <th>2</th>\n",
       "      <td>48000</td>\n",
       "      <td>28</td>\n",
       "    </tr>\n",
       "    <tr>\n",
       "      <th>3</th>\n",
       "      <td>150000</td>\n",
       "      <td>45</td>\n",
       "    </tr>\n",
       "    <tr>\n",
       "      <th>4</th>\n",
       "      <td>51000</td>\n",
       "      <td>26</td>\n",
       "    </tr>\n",
       "    <tr>\n",
       "      <th>5</th>\n",
       "      <td>49000</td>\n",
       "      <td>27</td>\n",
       "    </tr>\n",
       "    <tr>\n",
       "      <th>6</th>\n",
       "      <td>1000000</td>\n",
       "      <td>35</td>\n",
       "    </tr>\n",
       "  </tbody>\n",
       "</table>\n",
       "</div>"
      ],
      "text/plain": [
       "         0   1\n",
       "0    50000  25\n",
       "1    52000  30\n",
       "2    48000  28\n",
       "3   150000  45\n",
       "4    51000  26\n",
       "5    49000  27\n",
       "6  1000000  35"
      ]
     },
     "execution_count": 81,
     "metadata": {},
     "output_type": "execute_result"
    }
   ],
   "source": [
    "pd.DataFrame(scaler_robust.inverse_transform(df_robust)).astype(\"int\")"
   ]
  }
 ],
 "metadata": {
  "kernelspec": {
   "display_name": "Python 3",
   "language": "python",
   "name": "python3"
  },
  "language_info": {
   "codemirror_mode": {
    "name": "ipython",
    "version": 3
   },
   "file_extension": ".py",
   "mimetype": "text/x-python",
   "name": "python",
   "nbconvert_exporter": "python",
   "pygments_lexer": "ipython3",
   "version": "3.7.1"
  }
 },
 "nbformat": 4,
 "nbformat_minor": 2
}
