{
 "cells": [
  {
   "cell_type": "code",
   "execution_count": 92,
   "metadata": {},
   "outputs": [],
   "source": [
    "import pandas as pd\n",
    "\n",
    "data = {'order_id': [1, 2, 3, 4, 5],\n",
    "        'user_id': [101, 102, 101, 103, 102],\n",
    "        'order_date': ['2023-01-15 10:30', '2023-01-16 14:00', '2023-02-20 11:00', '2023-03-10 20:45', '2023-03-12 13:20'],\n",
    "        'price': [100, 250, 80, 120, 300],\n",
    "        'quantity': [2, 1, 3, 5, 2]}\n",
    "df = pd.DataFrame(data)\n",
    "df['order_date'] = pd.to_datetime(df['order_date'])"
   ]
  },
  {
   "cell_type": "code",
   "execution_count": 93,
   "metadata": {
    "scrolled": true
   },
   "outputs": [
    {
     "name": "stdout",
     "output_type": "stream",
     "text": [
      "--- Derived from numeric operations ---\n",
      "   price  quantity  total_price\n",
      "0    100         2          200\n",
      "1    250         1          250\n",
      "2     80         3          240\n",
      "3    120         5          600\n",
      "4    300         2          600\n"
     ]
    }
   ],
   "source": [
    "# '총 구매 금액' 파생 변수 생성\n",
    "df['total_price'] = df['price'] * df['quantity']\n",
    "\n",
    "print(\"--- Derived from numeric operations ---\")\n",
    "print(df[['price', 'quantity', 'total_price']])"
   ]
  },
  {
   "cell_type": "code",
   "execution_count": 94,
   "metadata": {},
   "outputs": [
    {
     "name": "stdout",
     "output_type": "stream",
     "text": [
      "\n",
      "--- Derived from datetime ---\n",
      "           order_date  order_year  order_month  order_dayofweek  order_hour\n",
      "0 2023-01-15 10:30:00        2023            1                6          10\n",
      "1 2023-01-16 14:00:00        2023            1                0          14\n",
      "2 2023-02-20 11:00:00        2023            2                0          11\n",
      "3 2023-03-10 20:45:00        2023            3                4          20\n",
      "4 2023-03-12 13:20:00        2023            3                6          13\n"
     ]
    }
   ],
   "source": [
    "# 날짜/시간 관련 파생 변수 생성\n",
    "df['order_year'] = df['order_date'].dt.year\n",
    "df['order_month'] = df['order_date'].dt.month\n",
    "df['order_dayofweek'] = df['order_date'].dt.dayofweek # 월요일=0, 일요일=6\n",
    "df['order_hour'] = df['order_date'].dt.hour\n",
    "\n",
    "print(\"\\n--- Derived from datetime ---\")\n",
    "print(df[['order_date', 'order_year', 'order_month', 'order_dayofweek', 'order_hour']])"
   ]
  },
  {
   "cell_type": "code",
   "execution_count": 95,
   "metadata": {},
   "outputs": [
    {
     "name": "stdout",
     "output_type": "stream",
     "text": [
      "\n",
      "--- Derived from group statistics ---\n",
      "   user_id  total_price  user_total_spent  user_avg_spent  user_order_count\n",
      "0      101          200               440             220                 2\n",
      "1      102          250               850             425                 2\n",
      "2      101          240               440             220                 2\n",
      "3      103          600               600             600                 1\n",
      "4      102          600               850             425                 2\n"
     ]
    }
   ],
   "source": [
    "# 사용자별 총 구매 금액 및 평균 구매 금액 파생 변수 생성\n",
    "df['user_total_spent'] = df.groupby('user_id')['total_price'].transform('sum')\n",
    "df['user_avg_spent'] = df.groupby('user_id')['total_price'].transform('mean')\n",
    "\n",
    "# 사용자별 구매 횟수 파생 변수 생성\n",
    "df['user_order_count'] = df.groupby('user_id')['order_id'].transform('count')\n",
    "\n",
    "print(\"\\n--- Derived from group statistics ---\")\n",
    "print(df[['user_id', 'total_price', 'user_total_spent', 'user_avg_spent', 'user_order_count']])"
   ]
  },
  {
   "cell_type": "code",
   "execution_count": 90,
   "metadata": {},
   "outputs": [
    {
     "name": "stdout",
     "output_type": "stream",
     "text": [
      "        status  status_target_enc\n",
      "0          new                125\n",
      "1         used                190\n",
      "2          new                125\n",
      "3  refurbished                120\n",
      "4         used                190\n"
     ]
    }
   ],
   "source": [
    "import pandas as pd\n",
    "\n",
    "df = pd.DataFrame({\n",
    "    'item': ['TV', 'Phone', 'Laptop', 'TV', 'Phone'],\n",
    "    'grade': ['A', 'C', 'B', 'B', 'A'],\n",
    "    'status': ['new', 'used', 'new', 'refurbished', 'used'],\n",
    "    'target': [100, 200, 150, 120, 180]   # 예시 타겟 변수\n",
    "})\n",
    "\n",
    "# status별 target 평균값으로 매핑\n",
    "mean_map = df.groupby('status')['target'].mean()\n",
    "df['status_target_enc'] = df['status'].map(mean_map)\n",
    "\n",
    "print(df[['status', 'status_target_enc']])"
   ]
  },
  {
   "cell_type": "code",
   "execution_count": 91,
   "metadata": {
    "scrolled": true
   },
   "outputs": [
    {
     "name": "stdout",
     "output_type": "stream",
     "text": [
      "        status  status_int  status_bin_0  status_bin_1\n",
      "0          new           0             0             0\n",
      "1         used           2             0             1\n",
      "2          new           0             0             0\n",
      "3  refurbished           1             1             0\n",
      "4         used           2             0             1\n"
     ]
    }
   ],
   "source": [
    "# status를 정수로 변환\n",
    "le = LabelEncoder()\n",
    "df['status_int'] = le.fit_transform(df['status'])\n",
    "\n",
    "# 정수를 2진수 문자열로 변환 후, 각 자리 분리\n",
    "max_bits = df['status_int'].max().bit_length()\n",
    "for i in range(max_bits):\n",
    "    df[f'status_bin_{i}'] = df['status_int'].apply(lambda x: (x >> i) & 1)\n",
    "\n",
    "print(df[['status', 'status_int'] + [f'status_bin_{i}' for i in range(max_bits)]])"
   ]
  }
 ],
 "metadata": {
  "kernelspec": {
   "display_name": "Python 3",
   "language": "python",
   "name": "python3"
  },
  "language_info": {
   "codemirror_mode": {
    "name": "ipython",
    "version": 3
   },
   "file_extension": ".py",
   "mimetype": "text/x-python",
   "name": "python",
   "nbconvert_exporter": "python",
   "pygments_lexer": "ipython3",
   "version": "3.7.1"
  }
 },
 "nbformat": 4,
 "nbformat_minor": 2
}
